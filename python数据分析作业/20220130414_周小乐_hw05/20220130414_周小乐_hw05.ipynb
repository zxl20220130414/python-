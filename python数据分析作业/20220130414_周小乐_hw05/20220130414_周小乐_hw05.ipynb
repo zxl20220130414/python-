{
 "cells": [
  {
   "cell_type": "code",
   "execution_count": 15,
   "id": "92ea211a",
   "metadata": {},
   "outputs": [
    {
     "name": "stdout",
     "output_type": "stream",
     "text": [
      "Windows\n",
      "11\n",
      "AMD64\n",
      "Intel64 Family 6 Model 154 Stepping 3, GenuineIntel\n",
      "20\n",
      "scpufreq(current=2300.0, min=0.0, max=2300.0)\n",
      "svmem(total=16890978304, available=954490880, percent=94.3, used=15936487424, free=954490880)\n"
     ]
    }
   ],
   "source": [
    "import psutil\n",
    "import platform\n",
    "\n",
    "print(platform.system())  # 操作系统名称\n",
    "print(platform.release())  # 操作系统版本\n",
    "print(platform.machine())  # 计算机架构\n",
    "print(platform.processor())  # 处理器类型\n",
    "\n",
    "# CPU 信息\n",
    "print(psutil.cpu_count())  # CPU 核数\n",
    "print(psutil.cpu_freq())  # CPU 频率\n",
    "\n",
    "# 内存信息\n",
    "print(psutil.virtual_memory())  # 内存总量、可用内存、已用内存等"
   ]
  },
  {
   "cell_type": "markdown",
   "id": "79abed66-f74a-49b4-86fa-0070ba2703e1",
   "metadata": {},
   "source": [
    "# 3 构建pandas 对象"
   ]
  },
  {
   "cell_type": "markdown",
   "id": "5a96ddda-809d-428d-a3fe-ed2d9e28af1c",
   "metadata": {},
   "source": [
    "1. 创建一个pandas Series 对象，其索引由英文字母表的前 10 个字母给\n",
    "出，值由前10个质数给出。"
   ]
  },
  {
   "cell_type": "code",
   "execution_count": 16,
   "id": "7a288641-a711-48c1-b65c-6f6def4243a4",
   "metadata": {},
   "outputs": [
    {
     "data": {
      "text/plain": [
       "a     2\n",
       "b     3\n",
       "c     5\n",
       "d     7\n",
       "e    11\n",
       "f    13\n",
       "g    17\n",
       "h    19\n",
       "i    23\n",
       "j    29\n",
       "dtype: int64"
      ]
     },
     "execution_count": 16,
     "metadata": {},
     "output_type": "execute_result"
    }
   ],
   "source": [
    "import pandas as pd\n",
    "\n",
    "# 定义前10个英文字母和前10个质数\n",
    "alphabet = list('abcdefghij')\n",
    "primes = [2, 3, 5, 7, 11, 13, 17, 19, 23, 29]\n",
    "\n",
    "# 创建pandas Series对象\n",
    "series_obj = pd.Series(primes, index=alphabet)\n",
    "series_obj\n"
   ]
  },
  {
   "cell_type": "markdown",
   "id": "23b9de93-370e-43ba-85c5-86cd26b4594a",
   "metadata": {},
   "source": [
    "# 4 使用pandas DataFrame\n",
    "在这个问题中，你将练习使用pandasDataFrame，将它们读入和写出\n",
    "内存，更改它们的内容，并执行聚合操作。\n",
    "1. 对于这个问题，你需要从课程群里下载一个 iris.csv 文件。请在你\n",
    "的提交中包含这个文件。将 iris.csv 读入 Python，作为一个 pa DataFrame。注意 CSV 文件包括列标题。这个数据集中有多少个数据\n",
    "点？列的数据类型是什么？列名是什么？列名对应于花卉种类名称，以\n",
    "及可以对花卉进行的四个基本测量：花瓣的宽度和长度以及萼片（支\n",
    "撑和保护花卉本身的部分）的宽度和长度。数据中包含多少种花卉？\n"
   ]
  },
  {
   "cell_type": "code",
   "execution_count": 17,
   "id": "7b658645-1137-4ba5-8ee7-0bfc60f08a1a",
   "metadata": {},
   "outputs": [
    {
     "name": "stdout",
     "output_type": "stream",
     "text": [
      "数据集中的数据点数量: 150\n",
      "列的数据类型: \n",
      "Id                 int64\n",
      "SepalLengthCm    float64\n",
      "SepalWidthCm     float64\n",
      "PetalLengthCm    float64\n",
      "PetalWidthCm     float64\n",
      "Species           object\n",
      "dtype: object\n",
      "列名: ['Id', 'SepalLengthCm', 'SepalWidthCm', 'PetalLengthCm', 'PetalWidthCm', 'Species']\n",
      "数据中包含的花卉种类数量: 3\n"
     ]
    }
   ],
   "source": [
    "import pandas as pd\n",
    "\n",
    "# 文件路径\n",
    "file_path = 'iris.csv'\n",
    "\n",
    "# 读取CSV文件\n",
    "iris_df = pd.read_csv(file_path)\n",
    "\n",
    "# 获取数据点数量\n",
    "num_data_points = iris_df.shape[0]\n",
    "\n",
    "# 获取列的数据类型\n",
    "column_data_types = iris_df.dtypes\n",
    "\n",
    "# 获取列名\n",
    "column_names = iris_df.columns.tolist()\n",
    "\n",
    "# 获取数据中包含的花卉种类数量\n",
    "num_flower_species = len(iris_df['Species'].unique())\n",
    "\n",
    "# 打印结果\n",
    "print(f\"数据集中的数据点数量: {num_data_points}\")\n",
    "print(f\"列的数据类型: \\n{column_data_types}\")\n",
    "print(f\"列名: {column_names}\")\n",
    "print(f\"数据中包含的花卉种类数量: {num_flower_species}\")\n"
   ]
  },
  {
   "cell_type": "markdown",
   "id": "eda1cab9",
   "metadata": {},
   "source": [
    "2. 现在已知这数据包含两行的错误，这些错误在第35行和第38行。第\n",
    "35 行应该读作4.9,3.1,1.5,0.2,”setosa”，其中第四个特征在文件中出现\n",
    "错误，第38行应该读作4.9,3.6,1.4,0.1,”setosa”，其中第二和第三个特\n",
    "征在文件中出现错误。更正你的DataFrame中的这些条目。"
   ]
  },
  {
   "cell_type": "code",
   "execution_count": 18,
   "id": "73a40229",
   "metadata": {},
   "outputs": [
    {
     "data": {
      "text/html": [
       "<div>\n",
       "<style scoped>\n",
       "    .dataframe tbody tr th:only-of-type {\n",
       "        vertical-align: middle;\n",
       "    }\n",
       "\n",
       "    .dataframe tbody tr th {\n",
       "        vertical-align: top;\n",
       "    }\n",
       "\n",
       "    .dataframe thead th {\n",
       "        text-align: right;\n",
       "    }\n",
       "</style>\n",
       "<table border=\"1\" class=\"dataframe\">\n",
       "  <thead>\n",
       "    <tr style=\"text-align: right;\">\n",
       "      <th></th>\n",
       "      <th>Id</th>\n",
       "      <th>SepalLengthCm</th>\n",
       "      <th>SepalWidthCm</th>\n",
       "      <th>PetalLengthCm</th>\n",
       "      <th>PetalWidthCm</th>\n",
       "      <th>Species</th>\n",
       "    </tr>\n",
       "  </thead>\n",
       "  <tbody>\n",
       "    <tr>\n",
       "      <th>34</th>\n",
       "      <td>35</td>\n",
       "      <td>4.9</td>\n",
       "      <td>3.1</td>\n",
       "      <td>1.5</td>\n",
       "      <td>0.2</td>\n",
       "      <td>Iris-setosa</td>\n",
       "    </tr>\n",
       "    <tr>\n",
       "      <th>37</th>\n",
       "      <td>38</td>\n",
       "      <td>4.9</td>\n",
       "      <td>3.6</td>\n",
       "      <td>1.4</td>\n",
       "      <td>0.1</td>\n",
       "      <td>Iris-setosa</td>\n",
       "    </tr>\n",
       "  </tbody>\n",
       "</table>\n",
       "</div>"
      ],
      "text/plain": [
       "    Id  SepalLengthCm  SepalWidthCm  PetalLengthCm  PetalWidthCm      Species\n",
       "34  35            4.9           3.1            1.5           0.2  Iris-setosa\n",
       "37  38            4.9           3.6            1.4           0.1  Iris-setosa"
      ]
     },
     "execution_count": 18,
     "metadata": {},
     "output_type": "execute_result"
    }
   ],
   "source": [
    "# 更正第35行和第38行的错误数据\n",
    "iris_df.at[34, 'SepalLengthCm'] = 4.9\n",
    "iris_df.at[34, 'SepalWidthCm'] = 3.1\n",
    "iris_df.at[34, 'PetalLengthCm'] = 1.5\n",
    "iris_df.at[34, 'PetalWidthCm'] = 0.2\n",
    "iris_df.at[34, 'Species'] = 'Iris-setosa'\n",
    "\n",
    "iris_df.at[37, 'SepalLengthCm'] = 4.9\n",
    "iris_df.at[37, 'SepalWidthCm'] = 3.6\n",
    "iris_df.at[37, 'PetalLengthCm'] = 1.4\n",
    "iris_df.at[37, 'PetalWidthCm'] = 0.1\n",
    "iris_df.at[37, 'Species'] = 'Iris-setosa'\n",
    "\n",
    "# 查看更正后的第35行和第38行数据\n",
    "corrected_rows = iris_df.iloc[[34, 37]]\n",
    "\n",
    "corrected_rows\n"
   ]
  },
  {
   "cell_type": "markdown",
   "id": "79b19f38",
   "metadata": {},
   "source": [
    "3. iris 数据集通常用于机器学习中，作为聚类和分类算法的试验场。一些\n",
    "研究人员发现使用两个额外的特征很有用，称为花瓣比率和萼片比率，\n",
    "分别定义为花瓣长度与花瓣宽度的比率和萼片长度与萼片宽度的比率。\n",
    "在你的DataFrame 中添加两列，对应这两个新特征。将这些列命名为\n",
    "Petal.Ratio 和 Sepal.Ratio"
   ]
  },
  {
   "cell_type": "code",
   "execution_count": 19,
   "id": "8df10601",
   "metadata": {},
   "outputs": [
    {
     "data": {
      "text/html": [
       "<div>\n",
       "<style scoped>\n",
       "    .dataframe tbody tr th:only-of-type {\n",
       "        vertical-align: middle;\n",
       "    }\n",
       "\n",
       "    .dataframe tbody tr th {\n",
       "        vertical-align: top;\n",
       "    }\n",
       "\n",
       "    .dataframe thead th {\n",
       "        text-align: right;\n",
       "    }\n",
       "</style>\n",
       "<table border=\"1\" class=\"dataframe\">\n",
       "  <thead>\n",
       "    <tr style=\"text-align: right;\">\n",
       "      <th></th>\n",
       "      <th>Id</th>\n",
       "      <th>SepalLengthCm</th>\n",
       "      <th>SepalWidthCm</th>\n",
       "      <th>PetalLengthCm</th>\n",
       "      <th>PetalWidthCm</th>\n",
       "      <th>Species</th>\n",
       "      <th>Petal.Ratio</th>\n",
       "      <th>Sepal.Ratio</th>\n",
       "    </tr>\n",
       "  </thead>\n",
       "  <tbody>\n",
       "    <tr>\n",
       "      <th>0</th>\n",
       "      <td>1</td>\n",
       "      <td>5.1</td>\n",
       "      <td>3.5</td>\n",
       "      <td>1.4</td>\n",
       "      <td>0.2</td>\n",
       "      <td>Iris-setosa</td>\n",
       "      <td>7.0</td>\n",
       "      <td>1.457143</td>\n",
       "    </tr>\n",
       "    <tr>\n",
       "      <th>1</th>\n",
       "      <td>2</td>\n",
       "      <td>4.9</td>\n",
       "      <td>3.0</td>\n",
       "      <td>1.4</td>\n",
       "      <td>0.2</td>\n",
       "      <td>Iris-setosa</td>\n",
       "      <td>7.0</td>\n",
       "      <td>1.633333</td>\n",
       "    </tr>\n",
       "    <tr>\n",
       "      <th>2</th>\n",
       "      <td>3</td>\n",
       "      <td>4.7</td>\n",
       "      <td>3.2</td>\n",
       "      <td>1.3</td>\n",
       "      <td>0.2</td>\n",
       "      <td>Iris-setosa</td>\n",
       "      <td>6.5</td>\n",
       "      <td>1.468750</td>\n",
       "    </tr>\n",
       "    <tr>\n",
       "      <th>3</th>\n",
       "      <td>4</td>\n",
       "      <td>4.6</td>\n",
       "      <td>3.1</td>\n",
       "      <td>1.5</td>\n",
       "      <td>0.2</td>\n",
       "      <td>Iris-setosa</td>\n",
       "      <td>7.5</td>\n",
       "      <td>1.483871</td>\n",
       "    </tr>\n",
       "    <tr>\n",
       "      <th>4</th>\n",
       "      <td>5</td>\n",
       "      <td>5.0</td>\n",
       "      <td>3.6</td>\n",
       "      <td>1.4</td>\n",
       "      <td>0.2</td>\n",
       "      <td>Iris-setosa</td>\n",
       "      <td>7.0</td>\n",
       "      <td>1.388889</td>\n",
       "    </tr>\n",
       "  </tbody>\n",
       "</table>\n",
       "</div>"
      ],
      "text/plain": [
       "   Id  SepalLengthCm  SepalWidthCm  PetalLengthCm  PetalWidthCm      Species  \\\n",
       "0   1            5.1           3.5            1.4           0.2  Iris-setosa   \n",
       "1   2            4.9           3.0            1.4           0.2  Iris-setosa   \n",
       "2   3            4.7           3.2            1.3           0.2  Iris-setosa   \n",
       "3   4            4.6           3.1            1.5           0.2  Iris-setosa   \n",
       "4   5            5.0           3.6            1.4           0.2  Iris-setosa   \n",
       "\n",
       "   Petal.Ratio  Sepal.Ratio  \n",
       "0          7.0     1.457143  \n",
       "1          7.0     1.633333  \n",
       "2          6.5     1.468750  \n",
       "3          7.5     1.483871  \n",
       "4          7.0     1.388889  "
      ]
     },
     "execution_count": 19,
     "metadata": {},
     "output_type": "execute_result"
    }
   ],
   "source": [
    "# 计算花瓣比率和萼片比率，并添加到DataFrame中\n",
    "iris_df['Petal.Ratio'] = iris_df['PetalLengthCm'] / iris_df['PetalWidthCm']\n",
    "iris_df['Sepal.Ratio'] = iris_df['SepalLengthCm'] / iris_df['SepalWidthCm']\n",
    "\n",
    "# 查看添加了新特征后的DataFrame的前几行\n",
    "iris_df.head()\n"
   ]
  },
  {
   "cell_type": "markdown",
   "id": "8b0525ed",
   "metadata": {},
   "source": [
    "4. 将你更正和扩展的iris DataFrame 保存为一个名为 iris_corrected.csv\n",
    "的csv 文件。请在你的提交中包含这个文件。"
   ]
  },
  {
   "cell_type": "code",
   "execution_count": 20,
   "id": "bc498442",
   "metadata": {},
   "outputs": [
    {
     "data": {
      "text/plain": [
       "'iris_corrected.csv'"
      ]
     },
     "execution_count": 20,
     "metadata": {},
     "output_type": "execute_result"
    }
   ],
   "source": [
    "# 将更正和扩展后的iris DataFrame保存为iris_corrected.csv文件\n",
    "iris_corrected_file_path = 'iris_corrected.csv'\n",
    "iris_df.to_csv(iris_corrected_file_path, index=False)\n",
    "\n",
    "iris_corrected_file_path\n"
   ]
  },
  {
   "cell_type": "markdown",
   "id": "57bb6801",
   "metadata": {},
   "source": [
    "5. 使用 pandas 聚合操作，确定数据集中每种花卉的花瓣和萼片比率的\n",
    "平均值、中位数、最小值、最大值和标准差。使用一个合适的group-by\n",
    "或aggregate 操作获得所有这些数字\n"
   ]
  },
  {
   "cell_type": "code",
   "execution_count": 21,
   "id": "4f3bbebb",
   "metadata": {},
   "outputs": [
    {
     "data": {
      "text/html": [
       "<div>\n",
       "<style scoped>\n",
       "    .dataframe tbody tr th:only-of-type {\n",
       "        vertical-align: middle;\n",
       "    }\n",
       "\n",
       "    .dataframe tbody tr th {\n",
       "        vertical-align: top;\n",
       "    }\n",
       "\n",
       "    .dataframe thead th {\n",
       "        text-align: right;\n",
       "    }\n",
       "</style>\n",
       "<table border=\"1\" class=\"dataframe\">\n",
       "  <thead>\n",
       "    <tr style=\"text-align: right;\">\n",
       "      <th></th>\n",
       "      <th>Species</th>\n",
       "      <th>Petal.Ratio_mean</th>\n",
       "      <th>Petal.Ratio_median</th>\n",
       "      <th>Petal.Ratio_min</th>\n",
       "      <th>Petal.Ratio_max</th>\n",
       "      <th>Petal.Ratio_std</th>\n",
       "      <th>Sepal.Ratio_mean</th>\n",
       "      <th>Sepal.Ratio_median</th>\n",
       "      <th>Sepal.Ratio_min</th>\n",
       "      <th>Sepal.Ratio_max</th>\n",
       "      <th>Sepal.Ratio_std</th>\n",
       "    </tr>\n",
       "  </thead>\n",
       "  <tbody>\n",
       "    <tr>\n",
       "      <th>0</th>\n",
       "      <td>Iris-setosa</td>\n",
       "      <td>6.908000</td>\n",
       "      <td>7.000000</td>\n",
       "      <td>2.666667</td>\n",
       "      <td>15.0</td>\n",
       "      <td>2.854545</td>\n",
       "      <td>1.470188</td>\n",
       "      <td>1.463063</td>\n",
       "      <td>1.268293</td>\n",
       "      <td>1.956522</td>\n",
       "      <td>0.118750</td>\n",
       "    </tr>\n",
       "    <tr>\n",
       "      <th>1</th>\n",
       "      <td>Iris-versicolor</td>\n",
       "      <td>3.242837</td>\n",
       "      <td>3.240385</td>\n",
       "      <td>2.666667</td>\n",
       "      <td>4.1</td>\n",
       "      <td>0.312456</td>\n",
       "      <td>2.160402</td>\n",
       "      <td>2.161290</td>\n",
       "      <td>1.764706</td>\n",
       "      <td>2.818182</td>\n",
       "      <td>0.228658</td>\n",
       "    </tr>\n",
       "    <tr>\n",
       "      <th>2</th>\n",
       "      <td>Iris-virginica</td>\n",
       "      <td>2.780662</td>\n",
       "      <td>2.666667</td>\n",
       "      <td>2.125000</td>\n",
       "      <td>4.0</td>\n",
       "      <td>0.407367</td>\n",
       "      <td>2.230453</td>\n",
       "      <td>2.169540</td>\n",
       "      <td>1.823529</td>\n",
       "      <td>2.961538</td>\n",
       "      <td>0.246992</td>\n",
       "    </tr>\n",
       "  </tbody>\n",
       "</table>\n",
       "</div>"
      ],
      "text/plain": [
       "           Species  Petal.Ratio_mean  Petal.Ratio_median  Petal.Ratio_min  \\\n",
       "0      Iris-setosa          6.908000            7.000000         2.666667   \n",
       "1  Iris-versicolor          3.242837            3.240385         2.666667   \n",
       "2   Iris-virginica          2.780662            2.666667         2.125000   \n",
       "\n",
       "   Petal.Ratio_max  Petal.Ratio_std  Sepal.Ratio_mean  Sepal.Ratio_median  \\\n",
       "0             15.0         2.854545          1.470188            1.463063   \n",
       "1              4.1         0.312456          2.160402            2.161290   \n",
       "2              4.0         0.407367          2.230453            2.169540   \n",
       "\n",
       "   Sepal.Ratio_min  Sepal.Ratio_max  Sepal.Ratio_std  \n",
       "0         1.268293         1.956522         0.118750  \n",
       "1         1.764706         2.818182         0.228658  \n",
       "2         1.823529         2.961538         0.246992  "
      ]
     },
     "execution_count": 21,
     "metadata": {},
     "output_type": "execute_result"
    }
   ],
   "source": [
    "# 使用group-by操作计算每种花卉的花瓣和萼片比率的聚合统计\n",
    "aggregations = {\n",
    "    'Petal.Ratio': ['mean', 'median', 'min', 'max', 'std'],\n",
    "    'Sepal.Ratio': ['mean', 'median', 'min', 'max', 'std']\n",
    "}\n",
    "\n",
    "iris_aggregated = iris_df.groupby('Species').agg(aggregations)\n",
    "iris_aggregated.columns = iris_aggregated.columns.map('_'.join)\n",
    "iris_aggregated.reset_index(inplace=True)\n",
    "iris_aggregated\n"
   ]
  }
 ],
 "metadata": {
  "kernelspec": {
   "display_name": "base",
   "language": "python",
   "name": "python3"
  },
  "language_info": {
   "codemirror_mode": {
    "name": "ipython",
    "version": 3
   },
   "file_extension": ".py",
   "mimetype": "text/x-python",
   "name": "python",
   "nbconvert_exporter": "python",
   "pygments_lexer": "ipython3",
   "version": "3.12.3"
  }
 },
 "nbformat": 4,
 "nbformat_minor": 5
}
