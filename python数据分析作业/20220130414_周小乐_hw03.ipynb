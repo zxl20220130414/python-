{
 "cells": [
  {
   "cell_type": "code",
   "execution_count": 1,
   "id": "f78b056a",
   "metadata": {},
   "outputs": [],
   "source": [
    "import re\n",
    "from collections import defaultdict\n",
    "import pickle\n",
    "\n",
    "def count_bigrams_in_file(filename):\n",
    "    # 检查输入是否为字符串\n",
    "    if not isinstance(filename, str):\n",
    "        raise ValueError(\"文件名必须是一个字符串。\")\n",
    "\n",
    "    # 初始化一个默认字典来存储二元组的计数\n",
    "    bigram_counts = defaultdict(int)\n",
    "\n",
    "    try:\n",
    "        # 打开文件并读取内容\n",
    "        with open(filename, 'r', encoding='utf-8') as file:\n",
    "            # 读取所有行并连接为一个字符串，忽略换行符\n",
    "            text = file.read().replace('\\n', ' ')\n",
    "\n",
    "            # 转换为小写并使用正则表达式移除标点符号\n",
    "            text = re.sub(r'[^\\w\\s]', '', text.lower())\n",
    "\n",
    "            # 分割文本为单词列表\n",
    "            words = text.split()\n",
    "\n",
    "            # 计算二元组的出现次数\n",
    "            for i in range(len(words) - 1):\n",
    "                # 忽略空字符串\n",
    "                if words[i] and words[i + 1]:\n",
    "                    bigram = (words[i], words[i + 1])\n",
    "                    bigram_counts[bigram] += 1\n",
    "\n",
    "    except IOError:\n",
    "        raise IOError(f\"无法打开文件：{filename}\")\n",
    "\n",
    "    return bigram_counts\n",
    "\n",
    "# 在 WandP.txt 文件上运行函数\n",
    "bigram_counts = count_bigrams_in_file('WandP.txt')\n",
    "\n",
    "# 使用 pickle 模块将结果字典保存到文件中\n",
    "with open('mb.bigrams.pickle', 'wb') as f:\n",
    "    pickle.dump(bigram_counts, f)\n"
   ]
  },
  {
   "cell_type": "code",
   "execution_count": null,
   "id": "78fbe38d",
   "metadata": {},
   "outputs": [],
   "source": []
  }
 ],
 "metadata": {
  "kernelspec": {
   "display_name": "Python 3 (ipykernel)",
   "language": "python",
   "name": "python3"
  },
  "language_info": {
   "codemirror_mode": {
    "name": "ipython",
    "version": 3
   },
   "file_extension": ".py",
   "mimetype": "text/x-python",
   "name": "python",
   "nbconvert_exporter": "python",
   "pygments_lexer": "ipython3",
   "version": "3.12.3"
  }
 },
 "nbformat": 4,
 "nbformat_minor": 5
}
