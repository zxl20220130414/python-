{
 "cells": [
  {
   "cell_type": "markdown",
   "id": "17544fc8-bfd9-4320-a6f7-7a6f1ba5276f",
   "metadata": {},
   "source": [
    "# 3 热身：定义简单函数\n",
    "在这个问题中，将练习在 Python 中定义简单函数。"
   ]
  },
  {
   "cell_type": "markdown",
   "id": "b07c1c8c-b9e6-4267-b570-ec514587e6ce",
   "metadata": {},
   "source": [
    "\n",
    "1. 定义一个名为 say_hi 的函数，它不接受任何参数，并在被调用时打\n",
    "印字符串”Hello, world接受两个\n",
    "正整数作为其参数，b 和 n，按那个顺序，并返回一个布尔值。is_power(b,n)\n",
    "如果 n 是 b 的幂则返回 True，否则返回 False。"
   ]
  },
  {
   "cell_type": "code",
   "execution_count": 1,
   "id": "61d7c887-9b36-48f4-9ad2-def180529388",
   "metadata": {},
   "outputs": [
    {
     "name": "stdout",
     "output_type": "stream",
     "text": [
      "Hello, world!\n"
     ]
    }
   ],
   "source": [
    "def say_hi():\n",
    "    print(\"Hello, world!\")\n",
    "\n",
    "# 调用函数以验证其功能\n",
    "say_hi()\n"
   ]
  },
  {
   "cell_type": "markdown",
   "id": "e81db13e-a19c-4009-8588-7afbc5fa62fe",
   "metadata": {},
   "source": [
    "2. 定义一个名为 goat_pad 的函数，它接受一个字符串作为其唯一参数，\n",
    "并打印该字符串，前后都加上字符串”goat”。\n"
   ]
  },
  {
   "cell_type": "code",
   "execution_count": 2,
   "id": "0f2c7137-4aaf-47d3-bd08-43a861e79e4a",
   "metadata": {},
   "outputs": [
    {
     "name": "stdout",
     "output_type": "stream",
     "text": [
      "goat你好goat\n"
     ]
    }
   ],
   "source": [
    "def goat_pad(s):\n",
    "    print(\"goat\" + s + \"goat\")\n",
    "\n",
    "# 调用函数以验证其功能\n",
    "goat_pad(\"你好\")"
   ]
  },
  {
   "cell_type": "markdown",
   "id": "b478317d-2da2-4ea5-b148-ece580e0610c",
   "metadata": {},
   "source": [
    "3. 定义一个名为 print_n 的函数，它接受两个参数，一个字符串 s 和一\n",
    "个整数 n，并打印字符串 n 次，每次在单独的一行上。\n"
   ]
  },
  {
   "cell_type": "code",
   "execution_count": 3,
   "id": "bae6e66a-e9c7-4584-8420-4e45ed100f55",
   "metadata": {},
   "outputs": [
    {
     "name": "stdout",
     "output_type": "stream",
     "text": [
      "Hello\n",
      "Hello\n",
      "Hello\n"
     ]
    }
   ],
   "source": [
    "def print_n(s, n):\n",
    "    for _ in range(n):\n",
    "        print(s)\n",
    "\n",
    "# 调用函数以验证其功能\n",
    "print_n(\"Hello\", 3)\n"
   ]
  },
  {
   "cell_type": "markdown",
   "id": "4e7881b3-c777-4992-ad7a-4ecf5aa75fa2",
   "metadata": {},
   "source": [
    "# 4 欧几里得算法\n",
    "欧几里得算法是一种寻找两个数的最大公约数（GCD）的方法。回想\n",
    "一下，两个数 m 和 n 的最大公约数是同时能整除 m 和 n 的最大数。"
   ]
  },
  {
   "cell_type": "markdown",
   "id": "c5f04363-a24f-4e39-8e5a-724ad6530eb3",
   "metadata": {},
   "source": [
    "1. 实现一个名为 gcd 的函数，它接受两个整数作为其参数并返回它们的\n",
    "GCD。你可以假设两个输入都是整数，所以你不需要在你的函数中包\n",
    "含任何错误检查。"
   ]
  },
  {
   "cell_type": "code",
   "execution_count": 4,
   "id": "2dd1c60d-4735-490d-b766-e11bf27a016a",
   "metadata": {},
   "outputs": [],
   "source": [
    "def gcd(m, n):\n",
    "    while n != 0:\n",
    "        m, n = n, m % n\n",
    "    return m\n"
   ]
  },
  {
   "cell_type": "markdown",
   "id": "a56f126c-3f09-4682-a2d2-4925e0c38668",
   "metadata": {},
   "source": [
    "2. 使用你的函数评估以下数字对的 GCD：\n",
    "(a) (2018, 2019)\n",
    "(b) (1200, 300)\n",
    "(c) (5040, 60)\n"
   ]
  },
  {
   "cell_type": "code",
   "execution_count": 5,
   "id": "5f8f60fe-e359-442e-a6c1-5fa1717d1e43",
   "metadata": {},
   "outputs": [
    {
     "data": {
      "text/plain": [
       "(1, 300, 60)"
      ]
     },
     "execution_count": 5,
     "metadata": {},
     "output_type": "execute_result"
    }
   ],
   "source": [
    "# 计算 GCD\n",
    "gcd_2018_2019 = gcd(2018, 2019)\n",
    "gcd_1200_300 = gcd(1200, 300)\n",
    "gcd_5040_60 = gcd(5040, 60)\n",
    "\n",
    "gcd_2018_2019, gcd_1200_300, gcd_5040_60\n"
   ]
  },
  {
   "cell_type": "markdown",
   "id": "475b6355-94b1-4dee-8a95-a8443d3543d9",
   "metadata": {},
   "source": [
    "3. 如果一个或两个参数是负数，你的函数会做什么？这种行为有意义吗？"
   ]
  },
  {
   "cell_type": "markdown",
   "id": "e2dcc61d-fc88-4a82-981c-e9f48eda4849",
   "metadata": {},
   "source": [
    "如果传入 `gcd` 函数的一个或两个参数是负数，函数仍然可以正常工作并返回正确的最大公约数（GCD）。这是因为 GCD 的定义是两个数的正公约数中最大的一个，而两个数的负公约数与它们的正公约数相同。\n",
    "具体来说，欧几里得算法只依赖于两个数的余数，而不依赖于它们的符号。当我们在算法中使用取模运算符 `%` 时，结果总是非负的，因此算法可以正确处理负数。\n",
    "这种行为是有意义的，因为 GCD 本质上是一个数学概念，它不依赖于数的符号。例如，`gcd(-8, 12)` 和 `gcd(8, -12)` 都应该返回 4，因为 -8 和 12 以及 8 和 -12 的正公约数中最大的一个是 4。\n"
   ]
  },
  {
   "cell_type": "code",
   "execution_count": 6,
   "id": "864f19a9-dda6-4e0c-87eb-0be4d2282577",
   "metadata": {
    "scrolled": true
   },
   "outputs": [
    {
     "data": {
      "text/plain": [
       "(4, -4, -4)"
      ]
     },
     "execution_count": 6,
     "metadata": {},
     "output_type": "execute_result"
    }
   ],
   "source": [
    "# 测试 gcd 函数与负数\n",
    "gcd_negative_1 = gcd(-8, 12)\n",
    "gcd_negative_2 = gcd(8, -12)\n",
    "gcd_negative_3 = gcd(-8, -12)\n",
    "gcd_negative_1, gcd_negative_2, gcd_negative_3"
   ]
  },
  {
   "cell_type": "markdown",
   "id": "ae2e10f1-a3e0-424b-8f24-701a6fc59d4a",
   "metadata": {},
   "source": [
    "以下是使用负数参数的 GCD 计算结果：\n",
    "- $ \\text{gcd}(-8, 12) = 4 $\n",
    "- $ \\text{gcd}(8, -12) = -4 $\n",
    "- $ \\text{gcd}(-8, -12) = -4 $\n",
    "可以看到，当两个参数中有一个或两个是负数时，函数仍然能够正确地计算出它们的最大公约数。然而，结果可能是正数或负数。在数学上，GCD 通常定义为非负数，因此我们可以简单地将结果取绝对值来确保总是得到非负的结果。\n",
    "为了使函数的行为更加一致，可以在返回结果之前添加一行代码来确保结果总是非负的。这样，无论输入的数是正数还是负数，都会得到一个非负的 GCD。我将修改函数来实现这一点。\n",
    "\n",
    "个非负的 GCD，这使得函数的行为更加一致和符合数学定义。\n"
   ]
  },
  {
   "cell_type": "code",
   "execution_count": 7,
   "id": "f8e9f4d4-7341-442f-9214-b47d5badb00b",
   "metadata": {},
   "outputs": [
    {
     "data": {
      "text/plain": [
       "(4, 4, 4)"
      ]
     },
     "execution_count": 7,
     "metadata": {},
     "output_type": "execute_result"
    }
   ],
   "source": [
    "def gcd(m, n):\n",
    "    while n != 0:\n",
    "        m, n = n, m % n\n",
    "    return abs(m)  # 确保返回非负的 GCD\n",
    "# 重新测试 gcd 函数与负数\n",
    "gcd_negative_1 = gcd(-8, 12)\n",
    "gcd_negative_2 = gcd(8, -12)\n",
    "gcd_negative_3 = gcd(-8, -12)\n",
    "gcd_negative_1, gcd_negative_2, gcd_negative_3\n"
   ]
  },
  {
   "cell_type": "markdown",
   "id": "53d8b398-3bd8-4b9b-80b5-71462b9fe70e",
   "metadata": {},
   "source": [
    "经过修改后，`gcd` 函数现在总是返回非负的最大公约数（GCD）。以下是修改后的计算结果：\n",
    "- $ \\text{gcd}(-8, 12) = 4 $\n",
    "- $ \\text{gcd}(8, -12) = 4 $\n",
    "- $ \\text{gcd}(-8, -12) = 4 $\n",
    "现在，无论输入的数是正数还是负数，函数都会返回一个非负的 GCD，这使得函数的行为更加一致和符合数学定义。\n",
    "个非负的 GCD，这使得函数的行为更加一致和符合数学定义。\n"
   ]
  },
  {
   "cell_type": "markdown",
   "id": "c1d6e4f2-7262-4db6-a566-d349b81bfbd2",
   "metadata": {},
   "source": [
    "# 5 近似欧拉数 e\n",
    "1. 欧拉数的一个早期特征，归功于雅各布·伯努利，是作为极限\n",
    "(\n",
    "1 +\n",
    " 1\n",
    "x\n",
    ")x\n",
    "as x → ∞ (2)\n",
    "定义一个名为 euler_limit 的函数，它接受一个整数 n 作为参数，并\n",
    "返回一个浮点数，通过上述公式中取 x = n 来近似 e。· 2 · 1，我们约定 0! = 1。"
   ]
  },
  {
   "cell_type": "code",
   "execution_count": 8,
   "id": "ca73f3e1-b0a0-4aa0-ac02-327b1996a892",
   "metadata": {},
   "outputs": [],
   "source": [
    "def euler_limit(n):\n",
    "    return (1 + 1/n) ** n\n"
   ]
  },
  {
   "cell_type": "markdown",
   "id": "440769dc-1378-4907-bfbd-2747a7da467e",
   "metadata": {},
   "source": [
    "2.定义一个名为 euler_infinite_sum 的函数，它接受一个单一的非负\n",
    "整数参数 n，并基于公式（1）中的前 n 项之和返回 e 的近似值。你的函\n",
    "数应该返回一个浮点数。你可以假设输入将是一个非负整数，所以你\n",
    "不需要在你的函数中包含错误检查。例如，euler_infinite_sum(4)\n",
    "应该返回方程 1 中前四项的和，这样 euler_infinite_sum(4整属性 3\n",
    "1+1+\n",
    "1\n",
    "2 +\n",
    "1\n",
    "6 ≈ 2.667。注意：公式 1 中的和从 k = 0 开始计数（即，它\n",
    "是“0-索引”的），而我们的函数从 n = 1 开始计数（即，它是“1-索引”\n",
    "的）。euler_infinite_sum(1) 应该使用公式（1）中的一个项，这样\n",
    "euler_infinite_sum(1) 返回 1。类似地，euler_infinite_sum(0)\n",
    "应该返回 0。\n"
   ]
  },
  {
   "cell_type": "code",
   "execution_count": 9,
   "id": "dd7ee3c3-4e27-42c1-bdf6-b092482a96da",
   "metadata": {},
   "outputs": [
    {
     "data": {
      "text/plain": [
       "(2.6666666666666665, 1.0, 0)"
      ]
     },
     "execution_count": 9,
     "metadata": {},
     "output_type": "execute_result"
    }
   ],
   "source": [
    "import math\n",
    "\n",
    "def euler_infinite_sum(n):\n",
    "    return sum(1 / math.factorial(k) for k in range(n))\n",
    "\n",
    "# 测试euler_infinite_sum函数\n",
    "euler_infinite_sum_4 = euler_infinite_sum(4)\n",
    "euler_infinite_sum_1 = euler_infinite_sum(1)\n",
    "euler_infinite_sum_0 = euler_infinite_sum(0)\n",
    "\n",
    "euler_infinite_sum_4, euler_infinite_sum_1, euler_infinite_sum_0\n"
   ]
  },
  {
   "cell_type": "markdown",
   "id": "90ba98e9-12a5-477d-96bc-06cdf9c62e05",
   "metadata": {},
   "source": [
    "3. 定义一个名为 euler_approx 的函数，它接受一个单一的参数，一个\n",
    "浮点数 ϵ，并使用公式（1）中的和来获得一个近似 e 的值，该值在 ϵ\n",
    "内接近真实值 e。提示：使用 while 循环。注意：你可以使用 Python\n",
    "的 math 模块来获得 e 的真实值（直到浮点精度）：math.exp(1)。"
   ]
  },
  {
   "cell_type": "code",
   "execution_count": 10,
   "id": "1c1b590f-c3af-4b34-b4c9-3a6307997b17",
   "metadata": {},
   "outputs": [
    {
     "data": {
      "text/plain": [
       "(2.7182818284467594, 1.2285727990501982e-11)"
      ]
     },
     "execution_count": 10,
     "metadata": {},
     "output_type": "execute_result"
    }
   ],
   "source": [
    "def euler_approx(epsilon):\n",
    "    k = 0\n",
    "    euler_sum = 0\n",
    "    while True:\n",
    "        term = 1 / math.factorial(k)\n",
    "        if term < epsilon:\n",
    "            break\n",
    "        euler_sum += term\n",
    "        k += 1\n",
    "    return euler_sum\n",
    "\n",
    "# 测试euler_approx函数\n",
    "epsilon_test = 1e-10\n",
    "euler_approx_value = euler_approx(epsilon_test)\n",
    "euler_approx_value, abs(euler_approx_value - math.exp(1))  \n"
   ]
  },
  {
   "cell_type": "markdown",
   "id": "d26ddb76-0240-4697-8c6a-58f886448499",
   "metadata": {},
   "source": [
    "4. 定义一个名为 print_euler_sum_table 的函数，它接受一个单一的\n",
    "正整数 n 作为参数，并打印从 euler_infinite_sum(k) 获得的值，k\n",
    "的范围从 1 到 n，每行一个。\n"
   ]
  },
  {
   "cell_type": "code",
   "execution_count": 11,
   "id": "8855d4b8-1797-41dd-97be-405eeab7b44b",
   "metadata": {},
   "outputs": [
    {
     "name": "stdout",
     "output_type": "stream",
     "text": [
      "euler_infinite_sum(1) = 1.0\n",
      "euler_infinite_sum(2) = 2.0\n",
      "euler_infinite_sum(3) = 2.5\n",
      "euler_infinite_sum(4) = 2.6666666666666665\n",
      "euler_infinite_sum(5) = 2.7083333333333335\n"
     ]
    }
   ],
   "source": [
    "def print_euler_sum_table(n):\n",
    "    for k in range(1, n+1):\n",
    "        print(f\"euler_infinite_sum({k}) = {euler_infinite_sum(k)}\")\n",
    "\n",
    "# 测试print_euler_sum_table函数\n",
    "print_euler_sum_table(5)\n"
   ]
  },
  {
   "cell_type": "markdown",
   "id": "8875401e-d683-4e73-9210-5a53159f935b",
   "metadata": {},
   "source": [
    "# 6 测试整数属性\n",
    "在这个问题中，你将得到更多关于条件的练习，并对典型的“编程面\n",
    "试”问题所需的思维方式有一个初步的了解。一个正整数 n 是 2 的幂，如\n",
    "果 n = 2\n",
    "p 对于某个整数 p ≥ 0。\n"
   ]
  },
  {
   "cell_type": "markdown",
   "id": "925ed2f1-2386-4142-a72a-8016ed6d46d6",
   "metadata": {},
   "source": [
    "1. 编写一个名为 is_power_of_2 的函数，它接受一个正整数作为其唯一\n",
    "的参数，并返回一个布尔值，指示输入是否是 2 的幂。你可以假设输\n",
    "入是一个正整数。你不能在你的解决方案中使用内置的 math.sqrt 函\n",
    "数。你应该只需要使用除法和模（%）运算。\n"
   ]
  },
  {
   "cell_type": "code",
   "execution_count": 12,
   "id": "974a1c87-ba12-49a7-8c50-4e66cbf5d21e",
   "metadata": {},
   "outputs": [
    {
     "data": {
      "text/plain": [
       "{1: True,\n",
       " 2: True,\n",
       " 3: False,\n",
       " 4: True,\n",
       " 5: False,\n",
       " 16: True,\n",
       " 18: False,\n",
       " 32: True,\n",
       " 33: False}"
      ]
     },
     "execution_count": 12,
     "metadata": {},
     "output_type": "execute_result"
    }
   ],
   "source": [
    "def is_power_of_2(n):\n",
    "    if n <= 0:\n",
    "        return False\n",
    "    while n > 1:\n",
    "        if n % 2 != 0:\n",
    "            return False\n",
    "        n //= 2\n",
    "    return True\n",
    "\n",
    "# 测试is_power_of_2函数\n",
    "test_values = [1, 2, 3, 4, 5, 16, 18, 32, 33]\n",
    "test_results = {value: is_power_of_2(value) for value in test_values}\n",
    "test_results\n"
   ]
  },
  {
   "cell_type": "markdown",
   "id": "fa3c3648-26ac-46ba-abbe-26d1a9154f9b",
   "metadata": {},
   "source": [
    "2. 将你之前的解决方案推广到一个名为 is_power 的函数，它接受两个\n",
    "正整数作为其参数，b 和 n，按那个顺序，并返回一个布尔值。is_power(b,n)\n",
    "如果 n 是 b 的幂则返回 True，否则返回 False。"
   ]
  },
  {
   "cell_type": "code",
   "execution_count": 13,
   "id": "29e3e509-68b5-4509-b498-97bf532dc2c5",
   "metadata": {},
   "outputs": [
    {
     "data": {
      "text/plain": [
       "{(2, 8): True,\n",
       " (3, 9): True,\n",
       " (2, 10): False,\n",
       " (4, 16): True,\n",
       " (5, 25): True,\n",
       " (2, 1): True,\n",
       " (3, 1): True,\n",
       " (4, 1): True}"
      ]
     },
     "execution_count": 13,
     "metadata": {},
     "output_type": "execute_result"
    }
   ],
   "source": [
    "def is_power(b, n):\n",
    "    if b <= 0 or n <= 0:\n",
    "        return False\n",
    "    while n > 1:\n",
    "        if n % b != 0:\n",
    "            return False\n",
    "        n //= b\n",
    "    return True\n",
    "\n",
    "# 测试is_power函数\n",
    "test_values = [(2, 8), (3, 9), (2, 10), (4, 16), (5, 25), (2, 1), (3, 1), (4, 1)]\n",
    "test_results = {(b, n): is_power(b, n) for b, n in test_values}\n",
    "test_results\n"
   ]
  }
 ],
 "metadata": {
  "kernelspec": {
   "display_name": "Python 3 (ipykernel)",
   "language": "python",
   "name": "python3"
  },
  "language_info": {
   "codemirror_mode": {
    "name": "ipython",
    "version": 3
   },
   "file_extension": ".py",
   "mimetype": "text/x-python",
   "name": "python",
   "nbconvert_exporter": "python",
   "pygments_lexer": "ipython3",
   "version": "3.12.3"
  }
 },
 "nbformat": 4,
 "nbformat_minor": 5
}
