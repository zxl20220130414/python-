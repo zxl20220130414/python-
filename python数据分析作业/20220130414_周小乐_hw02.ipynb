{
 "cells": [
  {
   "cell_type": "markdown",
   "id": "d5fb02b3-680f-4333-8252-803f58281d70",
   "metadata": {},
   "source": [
    "# 3 字符串的乐趣\r\n"
   ]
  },
  {
   "cell_type": "markdown",
   "id": "960f5691-8931-4d85-bf7d-7007ce09d594",
   "metadata": {},
   "source": [
    "在这个问题中，实现一些用于处理字符串的简单函数。不需要为\r\n",
    "这个问题中的任何函数执行任何错误检查\r\n"
   ]
  },
  {
   "cell_type": "markdown",
   "id": "fbee116e-6deb-440a-88e3-93b4e798f2bc",
   "metadata": {},
   "source": [
    "1. 回文是指一个词或短语，它前后读起来都一样。例如，“level”，“kayak”\n",
    "和“pop”都是英文回文，而“rats live on no evil star”和“Was it\n",
    "a car or a cat I saw?”（如果我们忽略空格和标点符号）也是回文短\n",
    "语。编写一个名为 is_palindrome 的函数，它接受一个字符串作为唯\n",
    "一参数，并返回一个布尔值。如果您的参数是回文，您的函数应该返\n",
    "回 True，否则返回 False。对于这个问题，您可以假设输入是一个字\n",
    "符串，并且将仅包含字母数字字符（即字母，无论大小写，以及数字0 到 9）和空格。您的函数应该在评估一个字符串是否是回文时忽略空\n",
    "格和大小写，以便 tacocat 和 T A C O cat 都被认为是回文。\n",
    "写，以及数字\r\n"
   ]
  },
  {
   "cell_type": "code",
   "execution_count": 20,
   "id": "72eb8494-4097-4d9c-b333-1d3855ee0f66",
   "metadata": {},
   "outputs": [
    {
     "data": {
      "text/plain": [
       "{'level': True,\n",
       " 'kayak': True,\n",
       " 'pop': True,\n",
       " 'rats live on no evil star': True,\n",
       " 'Was it a car or a cat I saw?': True}"
      ]
     },
     "execution_count": 20,
     "metadata": {},
     "output_type": "execute_result"
    }
   ],
   "source": [
    "import string\n",
    "\n",
    "def is_palindrome(s: str) -> bool:\n",
    "    # 移除字符串中的空格、标点符号，并转换为小写\n",
    "    cleaned_s = ''.join(c for c in s if c not in string.punctuation).replace(\" \", \"\").lower()\n",
    "    # 检查字符串是否与其反转相同\n",
    "    return cleaned_s == cleaned_s[::-1]\n",
    "\n",
    "# 测试函数\n",
    "test_strings = [\"level\", \"kayak\", \"pop\", \"rats live on no evil star\", \"Was it a car or a cat I saw?\"]\n",
    "test_results_updated = {test: is_palindrome(test) for test in test_strings}\n",
    "test_results_updated\n"
   ]
  },
  {
   "cell_type": "markdown",
   "id": "a36c6602-bb9a-47cf-930e-097ef0143a03",
   "metadata": {},
   "source": [
    "2. 假设一个词是“字母顺序的”，如果它的字母按字母顺序出现（重复的\r\n",
    "字母是可以的）。例如，“adder”和“beet”是字母顺序的，而“dog”\r\n",
    "和“cat”则不是。编写一个名为 is_abecedarian 的函数，它接受一\r\n",
    "个字符串作为单一参数，并返回 True 如果参数是字母顺序的，否则返\r\n",
    "回 False。在这里，您可以假设输入仅由字母字符和空格组成。您的函\r\n",
    "数应该忽略空格，所以字符串 abcd efgh xyz 被认为是字母顺序的。"
   ]
  },
  {
   "cell_type": "code",
   "execution_count": 22,
   "id": "0d6786b0-699e-427d-bdbb-a6fdb475c3ba",
   "metadata": {},
   "outputs": [
    {
     "data": {
      "text/plain": [
       "{'adder': True,\n",
       " 'beet': True,\n",
       " 'dog': False,\n",
       " 'cat': False,\n",
       " 'abcd efgh xyz': True,\n",
       " 'abc de': True}"
      ]
     },
     "execution_count": 22,
     "metadata": {},
     "output_type": "execute_result"
    }
   ],
   "source": [
    "def is_abecedarian(s: str) -> bool:\n",
    "    # 从字符串中移除空格\n",
    "    s = s.replace(\" \", \"\")\n",
    "    \n",
    "    # 比较字符串中的每个字符与下一个字符\n",
    "    for i in range(len(s) - 1):\n",
    "        if s[i] > s[i + 1]:\n",
    "            return False\n",
    "    return True\n",
    "\n",
    "# 测试函数\n",
    "test_abecedarian_strings = [\"adder\", \"beet\", \"dog\", \"cat\", \"abcd efgh xyz\", \"abc de\"]\n",
    "test_results_abecedarian = {test: is_abecedarian(test) for test in test_abecedarian_strings}\n",
    "test_results_abecedarian\n"
   ]
  },
  {
   "cell_type": "markdown",
   "id": "7fd0f8fe-f76b-43c0-8787-11722f7e1a35",
   "metadata": {},
   "source": [
    "3. 编写一个名为 remove_vowels 的函数，它接受一个字符串作为唯一参\r\n",
    "数，并返回去掉所有元音的字符串。对于这个问题，元音是字母“a e i o\r\n",
    "u”。因此，remove_vowels(’cat’) 应该返回’ct’，remove_vowels(’audio’)\r\n",
    "应该返回’d’，等等。请注意，您的函数正确处理全部由元音组成的字\r\n",
    "符串。\r"
   ]
  },
  {
   "cell_type": "code",
   "execution_count": 18,
   "id": "eb6368aa-a4b4-4449-b939-1f8e03e19adf",
   "metadata": {},
   "outputs": [
    {
     "data": {
      "text/plain": [
       "{'cat': 'ct', 'audio': 'd', 'aeiou': '', 'Hello World!': 'Hll Wrld!'}"
      ]
     },
     "execution_count": 18,
     "metadata": {},
     "output_type": "execute_result"
    }
   ],
   "source": [
    "def remove_vowels(s: str) -> str:\n",
    "    # 定义元音字母\n",
    "    vowels = \"aeiouAEIOU\"\n",
    "    \n",
    "    # 遍历字符串，移除元音字母\n",
    "    return ''.join([char for char in s if char not in vowels])\n",
    "\n",
    "# 测试函数\n",
    "test_strings = [\"cat\", \"audio\", \"aeiou\", \"Hello World!\"]\n",
    "test_results_remove_vowels = {test: remove_vowels(test) for test in test_strings}\n",
    "test_results_remove_vowels\n"
   ]
  },
  {
   "cell_type": "markdown",
   "id": "8d179e61-c8e1-4754-96db-a80f85121791",
   "metadata": {},
   "source": [
    "# 4 列表的乐趣\r\n"
   ]
  },
  {
   "cell_type": "markdown",
   "id": "f33f3d3b-646c-40af-8991-8dea1b9bfda7",
   "metadata": {},
   "source": [
    "在这个问题中，将实现一些非常简单的列表操作。\r\n",
    "1. 编写一个名为 list_reverse 的函数，它接受一个列表作为参数，并返回\r\n",
    "该列表的反转。也就是说，给定列表 [1,2,3]，您的函数应该返回反转\r\n",
    "后的列表 [3,2,1]。如果您的输入不是列表，您的函数应该引发适当的\r\n",
    "错误。"
   ]
  },
  {
   "cell_type": "code",
   "execution_count": 26,
   "id": "3cc362ec-40d7-477a-afb3-633380978a0d",
   "metadata": {},
   "outputs": [
    {
     "data": {
      "text/plain": [
       "[3, 2, 1]"
      ]
     },
     "execution_count": 26,
     "metadata": {},
     "output_type": "execute_result"
    }
   ],
   "source": [
    "def list_reverse(lst):\n",
    "    # 检查输入是否为列表\n",
    "    if not isinstance(lst, list):\n",
    "        raise ValueError(\"输入必须是一个列表\")\n",
    "    \n",
    "    # 返回反转后的列表\n",
    "    return lst[::-1]\n",
    "\n",
    "# 测试 list_reverse 函数\n",
    "test_list = [1, 2, 3]\n",
    "list_reverse(test_list)\n"
   ]
  },
  {
   "cell_type": "markdown",
   "id": "e30d2f75-afbe-46ca-8e94-68c14489683c",
   "metadata": {},
   "source": [
    "2. 编写一个名为 is_sorted 的函数，它接受一个序列 seq 作为唯一参数，\r\n",
    "并返回 True 如果序列按升序排序，否则返回 False。您可以假设 seq\r\n",
    "实际上是一个 Python 序列。您的函数应该只需要对列表进行一次遍\r\n",
    "历，并且低效的解决方案（即需要多于一次遍历的解决方案）将不会获\r\n",
    "得满分。您可以假设输入序列 seq 中的所有元素都支持比较操作（==,\r\n",
    "</>, >=, 等），因此无需错误检查。（实际上，如果您尝试进行比较，\r\n",
    "比如 1 < ’cat’，Python 会为您引发错误。）注意：这个问题特别说明\r\n",
    "了 Python 动态类型的一个非常有用的特性。您可以在不知道输入变\r\n",
    "量类型的情况下编写这个函数。它只需要 seq 支持索引，并且 seq 中\r\n",
    "的元素支持比较操作即可。"
   ]
  },
  {
   "cell_type": "code",
   "execution_count": 32,
   "id": "3d901ae5-a8c9-4754-9cfb-cbc1ebbb27d0",
   "metadata": {},
   "outputs": [
    {
     "data": {
      "text/plain": [
       "(True, False, True, False)"
      ]
     },
     "execution_count": 32,
     "metadata": {},
     "output_type": "execute_result"
    }
   ],
   "source": [
    "def is_sorted(seq):\n",
    "    for i in range(1, len(seq)):\n",
    "        if seq[i-1] > seq[i]:\n",
    "            return False\n",
    "    return True\n",
    "\n",
    "# 测试 is_sorted 函数\n",
    "test_seq_1 = [1, 2, 3, 4, 5]\n",
    "test_seq_2 = [1, 3, 2, 4, 5]\n",
    "test_seq_3 = 'abcde'\n",
    "test_seq_4 = 'abxde'\n",
    "\n",
    "is_sorted(test_seq_1), is_sorted(test_seq_2), is_sorted(test_seq_3), is_sorted(test_seq_4)\n"
   ]
  },
  {
   "cell_type": "markdown",
   "id": "834241c8-6bd0-46b8-8096-6989da8c7444",
   "metadata": {},
   "source": [
    "# 5 更多字符串的乐趣\r\n",
    "在这个问题中您将实现一些常见的计数操作，这些操作在生物统计学\r\n",
    "和自然语言处理等领域很常。您不需要为这个问题中的任何函数执行任\r\n",
    "何错误检查。\r\n",
    "1. 编写一个名为 char_hist 的函数，它接受一个字符串作为参数，并返\r\n",
    "回一个字典，其键是字符，值是每个字符在输入中出现的次数。例如，\r\n",
    "给定字符串“gattaca”，您的函数应该返回一个字典，键值对为 (g, 1)，\r\n",
    "(a, 3)，(t, 2)，(c, 1)。您的函数应该计算输入中的所有字符（包括空\r\n",
    "格、制表符、数字等）。您的函数返回的字典应该只包含实际出现在输\r\n",
    "入中的字符作为键（即，您不需要有一堆值为 0 的键！）。您的函数应\r\n",
    "该将大写和小写字母视为相同，并以字符的小写版本作为键，以便 G\r\n",
    "和 g 都被视为相同的字符，并且在字典中对应的键是 g。\r\n"
   ]
  },
  {
   "cell_type": "code",
   "execution_count": 41,
   "id": "fb06d773-fe7e-4146-8691-48688d389bbb",
   "metadata": {},
   "outputs": [
    {
     "data": {
      "text/plain": [
       "{'g': 1, 'a': 3, 't': 2, 'c': 1}"
      ]
     },
     "execution_count": 41,
     "metadata": {},
     "output_type": "execute_result"
    }
   ],
   "source": [
    "def char_hist(s: str) -> dict:\n",
    "    # 将字符串转换为小写\n",
    "    s = s.lower()\n",
    "    \n",
    "    # 创建一个字典来存储字符直方图\n",
    "    histogram = {}\n",
    "    \n",
    "    # 遍历字符串中的每个字符\n",
    "    for char in s:\n",
    "        # 在直方图中增加字符的计数\n",
    "        histogram[char] = histogram.get(char, 0) + 1\n",
    "        \n",
    "    return histogram\n",
    "\n",
    "# 测试 char_hist 函数\n",
    "test_str = \"gattaca\"\n",
    "char_hist_result = char_hist(test_str)\n",
    "char_hist_result\n"
   ]
  },
  {
   "cell_type": "markdown",
   "id": "1d5c6a70-eb5d-4bb3-8cb6-cddf9d9e9146",
   "metadata": {},
   "source": [
    "2. 在自然语言处理和生物信息学中，我们经常想要计算字符或字符组出\n",
    "现的次数。对于我们的问题，一个 bigram 是一对字符。例如，字符\n",
    "串’mississippi’ 包含以下 bigram，按顺序：\n",
    "’mi’, ’is’, ’ss’, ’si’, ’is’, ’ss’, ’si’, ’ip’, ’pp’, ’pi’\n",
    "编写一个名为 bigram_hist 的函数，它接受一个字符串作为参数，并\n",
    "返回一个字典，其键是 2 元组的字符，值是那对字符在字符串中出现\n",
    "的次数。例如，当输入字符串’mississippi’ 时，您的函数应该返回一个\n",
    "字典，键为\n",
    "’mi’, ’is’, ’ss’, ’si’, ’ip’, ’pp’, ’pi’\n",
    "以及相应的计数值\n",
    "1, 2, 2, 2, 1, 1, 1。\n",
    "您的函数应该处理所有字符（字母数字、空格、标点符号等）。所以，\n",
    "例如，字符串’cat, dog’ 包含’t,’, ’, ’ 和’ d’。和前面的子问题一样，您\n",
    "的函数产生的字典应该只包含实际出现在输入中的对。和前面的子问\n",
    "题一样，您应该将大写和小写字母视为相同，所以’GA’ 和’ga’ 都计为\n",
    "相同的元组，(g, a)。"
   ]
  },
  {
   "cell_type": "code",
   "execution_count": 39,
   "id": "522733da-8def-40ec-98fd-4e21336c703a",
   "metadata": {},
   "outputs": [
    {
     "data": {
      "text/plain": [
       "{('m', 'i'): 1,\n",
       " ('i', 's'): 2,\n",
       " ('s', 's'): 2,\n",
       " ('s', 'i'): 2,\n",
       " ('i', 'p'): 1,\n",
       " ('p', 'p'): 1,\n",
       " ('p', 'i'): 1}"
      ]
     },
     "execution_count": 39,
     "metadata": {},
     "output_type": "execute_result"
    }
   ],
   "source": [
    "def bigram_hist(s: str) -> dict:\n",
    "    # 将字符串转换为小写\n",
    "    s = s.lower()\n",
    "    \n",
    "    # 创建一个字典来存储bigram的直方图\n",
    "    histogram = {}\n",
    "    \n",
    "    # 遍历字符串，停在倒数第二个字符\n",
    "    for i in range(len(s) - 1):\n",
    "        # 从当前字符和下一个字符创建一个bigram元组\n",
    "        bigram = (s[i], s[i+1])\n",
    "        \n",
    "        # 在直方图中增加bigram的计数\n",
    "        histogram[bigram] = histogram.get(bigram, 0) + 1\n",
    "        \n",
    "    return histogram\n",
    "\n",
    "# 测试 bigram_hist 函数\n",
    "test_str = \"mississippi\"\n",
    "bigram_hist_result = bigram_hist(test_str)\n",
    "bigram_hist_result\n"
   ]
  },
  {
   "cell_type": "markdown",
   "id": "a5ed3e08-a807-4ea5-8693-93159ac4fb17",
   "metadata": {},
   "source": [
    "# 6 作为向量的元组\r\n",
    "在这个问题中，我们将看到我们如何可以使用元组来表示向量。在本学\r\n",
    "期晚些时候，我们将看到 Python 的 numpy 和 scipy 包，它们提供了专门\r\n",
    "用于矩阵和向量操作的对象，但现在我们只有元组。所以，在这个问题中，\r\n",
    "我们将通过一个长度为 d 的元组来表示一个 d 维向量。\r\n",
    "1. 实现一个名为 vec_scalar_mult 的函数，它接受两个参数：一个数字\r\n",
    "元组（浮点数和/或整数）t 和一个数字（浮点数或整数）s，并返回\r\n",
    "一个与 t 长度相同的元组，其元素等于 t 的元素乘以 s。也就是说，\r\n",
    "vec_scalar_mult 实现了向量与标量的乘法。你的函数应该检查输入\r\n",
    "的类型是否合适（例如，s 是一个浮点数或整数），如果类型不正确，则\r\n",
    "引发一个 TypeError，并带有合适的错误消息。然而，你的函数应该\r\n",
    "优雅地处理输入 s 是一个整数而不是浮点数的情况，或者输入元组的\r\n",
    "一些或全部元素是整数而不是浮点数的情况。\r"
   ]
  },
  {
   "cell_type": "code",
   "execution_count": 44,
   "id": "fee13fc1-1eac-4891-8985-21048d1cef8d",
   "metadata": {},
   "outputs": [
    {
     "data": {
      "text/plain": [
       "(2.5, 5.0, 7.5, 10.0)"
      ]
     },
     "execution_count": 44,
     "metadata": {},
     "output_type": "execute_result"
    }
   ],
   "source": [
    "def vec_scalar_mult(t: tuple, s: (int, float)) -> tuple:\n",
    "    # 检查 s 是否是整数或浮点数\n",
    "    if not isinstance(s, (int, float)):\n",
    "        raise TypeError(\"标量 s 必须是整数或浮点数\")\n",
    "    \n",
    "    # 使用列表推导式计算元组 t 的每个元素与 s 的乘积\n",
    "    result = tuple(element * s for element in t)\n",
    "    \n",
    "    return result\n",
    "\n",
    "# 测试 vec_scalar_mult 函数\n",
    "test_tuple = (1, 2, 3, 4)\n",
    "test_scalar = 2.5\n",
    "vec_scalar_mult_result = vec_scalar_mult(test_tuple, test_scalar)\n",
    "vec_scalar_mult_result\n"
   ]
  },
  {
   "cell_type": "markdown",
   "id": "d8fa0fe3-cac8-4aa1-bd78-73dfc82513cb",
   "metadata": {},
   "source": [
    "2. 实现一个名为 vec_inner_product 的函数，它接受两个“向量”（即，\r\n",
    "浮点数和/或整数的元组）作为输入，并输出这两个向量的内积所对应\r\n",
    "的浮点数。回想一下，向量 x, y ∈ Rd 的内积由 ∑d\r\n",
    "j=1 xjyj 给出。你的\r\n",
    "函数应该检查两个输入是否是正确的类型（即，都是元组），如果不是，\r\n",
    "则引发一个 TypeError。你的函数还应该检查两个输入是否在它们的\r\n",
    "维度上一致（即，长度），如果不是，则引发一个 ValueError。\r"
   ]
  },
  {
   "cell_type": "code",
   "execution_count": 47,
   "id": "e94baee0-7563-47be-9309-5b5b44bd590b",
   "metadata": {},
   "outputs": [
    {
     "data": {
      "text/plain": [
       "32"
      ]
     },
     "execution_count": 47,
     "metadata": {},
     "output_type": "execute_result"
    }
   ],
   "source": [
    "def vec_inner_product(x: tuple, y: tuple) -> float:\n",
    "    # 检查 x 和 y 是否都是元组\n",
    "    if not (isinstance(x, tuple) and isinstance(y, tuple)):\n",
    "        raise TypeError(\"两个输入都必须是元组\")\n",
    "    \n",
    "    # 检查 x 和 y 的长度是否一致\n",
    "    if len(x) != len(y):\n",
    "        raise ValueError(\"两个输入元组的长度必须一致\")\n",
    "    \n",
    "    # 计算两个向量的内积\n",
    "    inner_product = sum(element_x * element_y for element_x, element_y in zip(x, y))\n",
    "    \n",
    "    return inner_product\n",
    "\n",
    "# 测试 vec_inner_product 函数\n",
    "test_vector1 = (1, 2, 3)\n",
    "test_vector2 = (4, 5, 6)\n",
    "vec_inner_product_result = vec_inner_product(test_vector1, test_vector2)\n",
    "vec_inner_product_result\n"
   ]
  },
  {
   "cell_type": "markdown",
   "id": "70b214ac-b9db-4bd2-ae4b-ce47da051aff",
   "metadata": {},
   "source": [
    "3. 按照上述方案，自然地将我们的方法扩展到矩阵的情况。回想一下，矩\r\n",
    "阵只是一个数字框。我们将矩阵表示为元组的元组，即，一个其元素\r\n",
    "本身是元组的元组。我们将一个 m×n 矩阵 M 表示为变量 my_mx。\r\n",
    "那么 my_mx 将是一个长度为 m 的 n 个元组的元组，使得矩阵的第 i\r\n",
    "行（作为一个向量）由元组 my_mx 的第 i 个元素给出。\r\n",
    "编写一个名为 check_valid_mx 的函数，它接受一个参数并返回一个\r\n",
    "布尔值，如果给定参数有效地表示了如上所述的矩阵，则返回 True，\r\n",
    "否则返回 False。一个有效的矩阵将是一个元组的元组，使得：\r\n",
    "• 元组的每个元素本身都是一个元组，\r\n",
    "• 这些元组的长度都相同，\r\n",
    "• 每个元组的每个元素都是一个数字（即，一个浮点数或整数）。"
   ]
  },
  {
   "cell_type": "code",
   "execution_count": 50,
   "id": "dcaa9adc-dab4-4f4a-96a4-23ab1c753773",
   "metadata": {},
   "outputs": [
    {
     "data": {
      "text/plain": [
       "{'test_matrix1': True,\n",
       " 'test_matrix2': False,\n",
       " 'test_matrix3': False,\n",
       " 'test_matrix4': False}"
      ]
     },
     "execution_count": 50,
     "metadata": {},
     "output_type": "execute_result"
    }
   ],
   "source": [
    "def check_valid_mx(mx: tuple) -> bool:\n",
    "    # 检查 mx 是否是元组\n",
    "    if not isinstance(mx, tuple):\n",
    "        return False\n",
    "    \n",
    "    # 检查 mx 的每个元素是否都是元组\n",
    "    for row in mx:\n",
    "        if not isinstance(row, tuple):\n",
    "            return False\n",
    "\n",
    "        # 检查每个元组的长度是否相同\n",
    "        if len(row) != len(mx[0]):\n",
    "            return False\n",
    "\n",
    "        # 检查每个元组的每个元素是否都是数字\n",
    "        for element in row:\n",
    "            if not isinstance(element, (int, float)):\n",
    "                return False\n",
    "    \n",
    "    return True\n",
    "\n",
    "# 测试 check_valid_mx 函数\n",
    "test_matrix1 = ((1, 2), (3, 4))\n",
    "test_matrix2 = ((1, 2), (3, \"a\"))\n",
    "test_matrix3 = ((1, 2), (3, 4, 5))\n",
    "test_matrix4 = (1, 2, 3)\n",
    "\n",
    "check_valid_mx_results = {\n",
    "    \"test_matrix1\": check_valid_mx(test_matrix1),\n",
    "    \"test_matrix2\": check_valid_mx(test_matrix2),\n",
    "    \"test_matrix3\": check_valid_mx(test_matrix3),\n",
    "    \"test_matrix4\": check_valid_mx(test_matrix4)\n",
    "}\n",
    "check_valid_mx_results\n"
   ]
  },
  {
   "cell_type": "markdown",
   "id": "16be8f57-bcab-40df-9ce5-488e66b49ae8",
   "metadata": {},
   "source": [
    "4. 编写一个名为 mx_vec_mult 的函数，它接受一个矩阵（即，元组的元\n",
    "组）和一个向量（即，一个元组）作为参数，并返回一个向量（即，一\n",
    "个数字的元组），该向量是给定向量与给定矩阵相乘的结果。你的函数\n",
    "应该检查所有提供的参数是否合理（例如，使用你的 check_valid_mx\n",
    "函数），如果不合理，则引发适当的错误。"
   ]
  },
  {
   "cell_type": "code",
   "execution_count": 53,
   "id": "08d96dd7-358e-42f4-9239-f5507843417f",
   "metadata": {},
   "outputs": [
    {
     "data": {
      "text/plain": [
       "(17, 39)"
      ]
     },
     "execution_count": 53,
     "metadata": {},
     "output_type": "execute_result"
    }
   ],
   "source": [
    "def mx_vec_mult(mx: tuple, vec: tuple) -> tuple:\n",
    "    # 检查矩阵是否有效\n",
    "    if not check_valid_mx(mx):\n",
    "        raise ValueError(\"Provided matrix is not valid.\")\n",
    "    \n",
    "    # 检查向量是否是元组\n",
    "    if not isinstance(vec, tuple):\n",
    "        raise TypeError(\"Vector must be a tuple.\")\n",
    "    \n",
    "    # 检查矩阵的列数是否与向量的长度相同\n",
    "    if len(mx[0]) != len(vec):\n",
    "        raise ValueError(\"Matrix columns and vector length do not match.\")\n",
    "    \n",
    "    # 执行矩阵和向量的乘法\n",
    "    result = []\n",
    "    for row in mx:\n",
    "        inner_product = sum(element * vec[i] for i, element in enumerate(row))\n",
    "        result.append(inner_product)\n",
    "    \n",
    "    return tuple(result)\n",
    "\n",
    "# 测试 mx_vec_mult 函数\n",
    "test_matrix = ((1, 2), (3, 4))\n",
    "test_vector = (5, 6)\n",
    "\n",
    "mx_vec_mult_result = mx_vec_mult(test_matrix, test_vector)\n",
    "mx_vec_mult_result\n"
   ]
  },
  {
   "cell_type": "markdown",
   "id": "e7f3f5f1-e845-4553-9e78-e03084c9250f",
   "metadata": {},
   "source": [
    "# 在上一个问题中，你使用元组来表示向量实现了矩阵和向量操作。在许\r\n",
    "多应用中，我们常见的向量维度在数千或数百万，但其中只有一小部分是非\r\n",
    "零的。这样的向量被称为稀疏向量，如果我们试图将它们表示为元组，我们\r\n",
    "将使用数千个元素仅用于存储零，如果我们需要存储数百或数千个这样的\r\n",
    "向量，这将很快变得难以处理。一个合理的解决方案是只存储其非零元素，\r\n",
    "用（索引，值）对表示。我们将在这个问题中采用这种方法，并将向量表示\r\n",
    "为字典，其中包含正整数键（所以我们从 1 开始索引我们的向量，就像在\r\n",
    "MATLAB 和 R 中一样）。一个有效的稀疏向量将是一个字典，具有以下属\r\n",
    "性：（1）它的所有索引都是正整数，以及（2）它的所有值都是浮点数。\r\n",
    "1. 编写一个名为 is_valid_sparse_vector 的函数，它接受一个参数，并\r\n",
    "返回 True 如果且仅如果输入是有效的稀疏向量，否则返回 False。注\r\n",
    "意：你的函数不应假设输入是一个字典。\r"
   ]
  },
  {
   "cell_type": "code",
   "execution_count": 56,
   "id": "a673d601-dc85-4fc9-aa5f-0f4ed6440ee3",
   "metadata": {},
   "outputs": [
    {
     "data": {
      "text/plain": [
       "(True, False, False)"
      ]
     },
     "execution_count": 56,
     "metadata": {},
     "output_type": "execute_result"
    }
   ],
   "source": [
    "def is_valid_sparse_vector(v: dict) -> bool:\n",
    "    # 检查输入是否是字典\n",
    "    if not isinstance(v, dict):\n",
    "        return False\n",
    "    \n",
    "    # 检查字典的键是否都是正整数，以及值是否都是浮点数\n",
    "    for key, value in v.items():\n",
    "        if not (isinstance(key, int) and key > 0):\n",
    "            return False\n",
    "        if not isinstance(value, (int, float)):\n",
    "            return False\n",
    "    \n",
    "    return True\n",
    "\n",
    "# 测试 is_valid_sparse_vector 函数\n",
    "test_vector1 = {1: 0.5, 3: 2.5, 5: 1.5}\n",
    "test_vector2 = {1: 0.5, -3: 2.5, 5: 1.5}  # 包含负键\n",
    "test_vector3 = {1: \"a\", 3: 2.5, 5: 1.5}   # 包含非数字值\n",
    "\n",
    "is_valid_sparse_vector(test_vector1), is_valid_sparse_vector(test_vector2), is_valid_sparse_vector(test_vector3)\n"
   ]
  },
  {
   "cell_type": "markdown",
   "id": "d47dd20c-5229-4a86-9749-b69aa0e3785a",
   "metadata": {},
   "source": [
    "2. 编写一个名为 sparse_inner_product 的函数，它接受两个“稀疏向量”\r\n",
    "作为输入，并返回一个浮点数，该浮点数是输入表示的向量的内积的\r\n",
    "值。如果你的函数应该在输入不是有效的稀疏向量的情况下引发适当\r\n",
    "的错误。\r"
   ]
  },
  {
   "cell_type": "code",
   "execution_count": 59,
   "id": "2e5d8c0d-808c-4801-90f6-e66952535736",
   "metadata": {},
   "outputs": [
    {
     "data": {
      "text/plain": [
       "15.0"
      ]
     },
     "execution_count": 59,
     "metadata": {},
     "output_type": "execute_result"
    }
   ],
   "source": [
    "def sparse_inner_product(v1: dict, v2: dict) -> float:\n",
    "    # 检查两个输入是否都是有效的稀疏向量\n",
    "    if not is_valid_sparse_vector(v1) or not is_valid_sparse_vector(v2):\n",
    "        raise ValueError(\"One or both inputs are not valid sparse vectors.\")\n",
    "    \n",
    "    # 计算内积\n",
    "    inner_product = 0.0\n",
    "    for key, value in v1.items():\n",
    "        if key in v2:\n",
    "            inner_product += value * v2[key]\n",
    "    \n",
    "    return inner_product\n",
    "\n",
    "# 测试 sparse_inner_product 函数\n",
    "test_vector_a = {1: 0.5, 3: 2.5, 5: 1.5}\n",
    "test_vector_b = {3: 3.0, 4: 4.0, 5: 5.0}\n",
    "\n",
    "sparse_inner_product(test_vector_a, test_vector_b)\n"
   ]
  },
  {
   "cell_type": "markdown",
   "id": "361a49e0-2736-486f-9db7-c848a3799bf9",
   "metadata": {},
   "source": [
    "# 8 更多元组的乐趣\r\n",
    "在这个问题中，你将进一步处理元组。\r\n",
    "1. 你可能还记得函数 min 和 max 可以接收任意（正）数量的参数，但\r\n",
    "sum 并不类似。编写一个名为 my_sum 的函数，它接受任意数量的数\r\n",
    "字（整数和浮点数）参数，并返回其参数的和。你的函数应理零参数的情况。你不需要为此函数执行任何错误检查。提醒：按照\r\n",
    "惯例，空和被认为是 0。\r",
    "该正确处"
   ]
  },
  {
   "cell_type": "code",
   "execution_count": 66,
   "id": "1f1d932b-f1a6-4c19-8cea-3cd018749d89",
   "metadata": {},
   "outputs": [
    {
     "data": {
      "text/plain": [
       "(15, 0)"
      ]
     },
     "execution_count": 66,
     "metadata": {},
     "output_type": "execute_result"
    }
   ],
   "source": [
    "def my_sum(*args):\n",
    "    return sum(args) if args else 0\n",
    "\n",
    "# 测试 my_sum 函数，包括零参数的情况\n",
    "test_values = (1, 2, 3, 4, 5)\n",
    "test_empty = ()\n",
    "\n",
    "my_sum_sum = my_sum(*test_values)\n",
    "my_sum_empty = my_sum(*test_empty)\n",
    "\n",
    "my_sum_sum, my_sum_empty\n"
   ]
  },
  {
   "cell_type": "markdown",
   "id": "5e4a59c1-fb34-4e14-baac-fba5be9df4c2",
   "metadata": {},
   "source": [
    "2. 编写一个名为 reverse_tuple 的函数，它接受一个元组作为唯一参数，\r\n",
    "并返回一个元组，该元组是输入的反转。也就是说，输出应该将其输\r\n",
    "入的最后一个元素作为第一个元素，输出的第二个元素应该是输入的\r\n",
    "倒数第二个元素，依此类推。你不需要为此函数执行任何错误检查。\r\n"
   ]
  },
  {
   "cell_type": "code",
   "execution_count": 69,
   "id": "bfd886d9-3322-470b-a60a-7c74a107f702",
   "metadata": {},
   "outputs": [
    {
     "data": {
      "text/plain": [
       "(5, 4, 3, 2, 1)"
      ]
     },
     "execution_count": 69,
     "metadata": {},
     "output_type": "execute_result"
    }
   ],
   "source": [
    "def reverse_tuple(t):\n",
    "    return t[::-1]\n",
    "\n",
    "# 测试 reverse_tuple 函数\n",
    "test_tuple = (1, 2, 3, 4, 5)\n",
    "reversed_test_tuple = reverse_tuple(test_tuple)\n",
    "\n",
    "reversed_test_tuple\n"
   ]
  },
  {
   "cell_type": "markdown",
   "id": "50f99d10-9d73-4ccc-b47c-ba2da4a164d6",
   "metadata": {},
   "source": [
    "3. 编写一个名为 rotate_tuple 的函数，它接受两个参数：一个元组和一\r\n",
    "个整数，按此顺序。让 n 是输入中给定的整数，你的函数应该返回一\r\n",
    "个与输入元组长度相同的元组，但其元素被“旋转”了 n 个元素。如\r\n",
    "果 n 是正数，这意味着要“向前”推动输入元组的所有元素 n 个元素，\r\n",
    "元素“掉出”元组的末尾应该被包裹到开头，使得输入元组的第 i 个元\r\n",
    "素成为输出的第 (i + n) 个元素，如果这个索引超出了末尾，则包裹到\r\n",
    "元组的开头。如果 n 是负数，那么这对应于向相反方向旋转元素，输\r\n",
    "入元组的元素被“向后”推动。你的函数应该执行错误检查以确保输\r\n",
    "入是合适的类型。如果用户提供了一个非整数，请打印一条消息提醒\r\n",
    "用户输入不是预期的，并尝试通过将其转换为整数来恢复。提示：一\r\n",
    "个 try/catch 语句在这里可能会很有用。"
   ]
  },
  {
   "cell_type": "code",
   "execution_count": 72,
   "id": "d8df1818-ff5e-4050-95b6-3cf17033c316",
   "metadata": {},
   "outputs": [
    {
     "data": {
      "text/plain": [
       "((4, 5, 1, 2, 3), (3, 4, 5, 1, 2))"
      ]
     },
     "execution_count": 72,
     "metadata": {},
     "output_type": "execute_result"
    }
   ],
   "source": [
    "def rotate_tuple(t, n):\n",
    "    # 检查输入类型\n",
    "    if not isinstance(t, tuple):\n",
    "        raise TypeError(\"First argument must be a tuple\")\n",
    "    \n",
    "    # 尝试将 n 转换为整数\n",
    "    try:\n",
    "        n = int(n)\n",
    "    except ValueError:\n",
    "        print(\"Second argument is not an integer. Attempting to convert...\")\n",
    "        try:\n",
    "            n = int(float(n))  # 尝试将可能的浮点数转换为整数\n",
    "        except ValueError:\n",
    "            raise TypeError(\"Second argument must be an integer or convertible to an integer\")\n",
    "    \n",
    "    # 计算旋转后的元组\n",
    "    length = len(t)\n",
    "    n = n % length  # 处理 n 大于元组长度的情形\n",
    "    return t[-n:] + t[:-n]\n",
    "\n",
    "# 测试 rotate_tuple 函数\n",
    "test_tuple = (1, 2, 3, 4, 5)\n",
    "rotated_test_tuple_pos = rotate_tuple(test_tuple, 2)\n",
    "rotated_test_tuple_neg = rotate_tuple(test_tuple, -2)\n",
    "\n",
    "rotated_test_tuple_pos, rotated_test_tuple_neg\n"
   ]
  }
 ],
 "metadata": {
  "kernelspec": {
   "display_name": "Python 3 (ipykernel)",
   "language": "python",
   "name": "python3"
  },
  "language_info": {
   "codemirror_mode": {
    "name": "ipython",
    "version": 3
   },
   "file_extension": ".py",
   "mimetype": "text/x-python",
   "name": "python",
   "nbconvert_exporter": "python",
   "pygments_lexer": "ipython3",
   "version": "3.12.3"
  }
 },
 "nbformat": 4,
 "nbformat_minor": 5
}
