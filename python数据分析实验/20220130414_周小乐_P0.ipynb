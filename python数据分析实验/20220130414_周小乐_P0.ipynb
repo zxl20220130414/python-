{
 "cells": [
  {
   "cell_type": "code",
   "execution_count": 2,
   "id": "8f042748-5cd8-42b1-81f8-0830b92930bd",
   "metadata": {},
   "outputs": [
    {
     "name": "stdout",
     "output_type": "stream",
     "text": [
      "Windows\n",
      "11\n",
      "AMD64\n",
      "Intel64 Family 6 Model 154 Stepping 3, GenuineIntel\n",
      "20\n",
      "scpufreq(current=2300.0, min=0.0, max=2300.0)\n",
      "svmem(total=16890978304, available=3218743296, percent=80.9, used=13672235008, free=3218743296)\n"
     ]
    }
   ],
   "source": [
    "import psutil\n",
    "import platform\n",
    "\n",
    "print(platform.system())  # 操作系统名称\n",
    "print(platform.release())  # 操作系统版本\n",
    "print(platform.machine())  # 计算机架构\n",
    "print(platform.processor())  # 处理器类型\n",
    "\n",
    "# CPU 信息\n",
    "print(psutil.cpu_count())  # CPU 核数\n",
    "print(psutil.cpu_freq())  # CPU 频率\n",
    "\n",
    "# 内存信息\n",
    "print(psutil.virtual_memory())  # 内存总量、可用内存、已用内存等"
   ]
  },
  {
   "cell_type": "code",
   "execution_count": 3,
   "id": "64e44fca-72cf-4c32-98b9-cf3bb0899d4a",
   "metadata": {},
   "outputs": [
    {
     "data": {
      "text/plain": [
       "0    1.754090\n",
       "1   -1.255626\n",
       "2   -0.776471\n",
       "3   -0.367090\n",
       "4   -0.549705\n",
       "dtype: float64"
      ]
     },
     "execution_count": 3,
     "metadata": {},
     "output_type": "execute_result"
    }
   ],
   "source": [
    "# 默认情况下，索引是整数，从0开始\n",
    "import pandas as pd\n",
    "import numpy as np\n",
    "numbers = np.random.randn(5)\n",
    "s = pd.Series(numbers)\n",
    "s"
   ]
  },
  {
   "cell_type": "code",
   "execution_count": 4,
   "id": "5b742882-b97c-4b34-931f-7d499959d629",
   "metadata": {},
   "outputs": [
    {
     "data": {
      "text/plain": [
       "a    1.754090\n",
       "b   -1.255626\n",
       "c   -0.776471\n",
       "d   -0.367090\n",
       "e   -0.549705\n",
       "dtype: float64"
      ]
     },
     "execution_count": 4,
     "metadata": {},
     "output_type": "execute_result"
    }
   ],
   "source": [
    "# 可以从任何类似数组的结构（例如，numpy数组、Python列表、字典）创建pandas Series\n",
    "# 可以用其他集合作为索引\n",
    "idx = ['a', 'b', 'c', 'd', 'e']\n",
    "s = pd.Series(numbers, index=idx)\n",
    "s"
   ]
  },
  {
   "cell_type": "code",
   "execution_count": 5,
   "id": "9f2789e6-aa1e-42a5-966a-491a6dbf2dd8",
   "metadata": {},
   "outputs": [
    {
     "data": {
      "text/plain": [
       "a    0\n",
       "b    1\n",
       "c    2\n",
       "dtype: int64"
      ]
     },
     "execution_count": 5,
     "metadata": {},
     "output_type": "execute_result"
    }
   ],
   "source": [
    "# 可以从字典创建一个Series。键成为索引\n",
    "d = {'a': 0, 'b' : 1, 'c': 2}\n",
    "s = pd.Series(d)\n",
    "s"
   ]
  },
  {
   "cell_type": "code",
   "execution_count": 6,
   "id": "29a18138-3bb9-4012-b425-d3a1d9b021df",
   "metadata": {},
   "outputs": [
    {
     "data": {
      "text/plain": [
       "1    3\n",
       "2    5\n",
       "dtype: int64"
      ]
     },
     "execution_count": 6,
     "metadata": {},
     "output_type": "execute_result"
    }
   ],
   "source": [
    "# Series支持切片，但不支持负索引。\n",
    "s = pd.Series([2, 3, 5, 7, 11])\n",
    "s[1:3]\n"
   ]
  },
  {
   "cell_type": "code",
   "execution_count": 7,
   "id": "92bdce40-c0b4-43fd-8808-67fee1b7b0b1",
   "metadata": {},
   "outputs": [
    {
     "data": {
      "text/plain": [
       "a     2\n",
       "a     3\n",
       "a     5\n",
       "a     7\n",
       "a    11\n",
       "dtype: int64"
      ]
     },
     "execution_count": 7,
     "metadata": {},
     "output_type": "execute_result"
    }
   ],
   "source": [
    "s = pd.Series([2, 3, 5, 7, 11], index=['a', 'a', 'a', 'a', 'a'])\n",
    "s['a']"
   ]
  },
  {
   "cell_type": "code",
   "execution_count": 8,
   "id": "8f63c3fe-1b21-4c29-90cb-9cff053b91a4",
   "metadata": {},
   "outputs": [
    {
     "data": {
      "text/plain": [
       "a     5\n",
       "a     7\n",
       "a    11\n",
       "dtype: int64"
      ]
     },
     "execution_count": 8,
     "metadata": {},
     "output_type": "execute_result"
    }
   ],
   "source": [
    "# Series对象就像np.ndarray对象一样，因此它们支持所有相同类型的切片操作\n",
    "s[s>3]"
   ]
  },
  {
   "cell_type": "code",
   "execution_count": 9,
   "id": "2e8e5713-599d-43d3-a801-a98d0abc9dd2",
   "metadata": {},
   "outputs": [
    {
     "data": {
      "text/plain": [
       "dog      4\n",
       "cat      9\n",
       "bird    25\n",
       "dtype: int64"
      ]
     },
     "execution_count": 9,
     "metadata": {},
     "output_type": "execute_result"
    }
   ],
   "source": [
    "d = {'dog': 2, 'cat':3, 'bird':5}\n",
    "s = pd.Series(d)\n",
    "s ** 2"
   ]
  },
  {
   "cell_type": "code",
   "execution_count": 10,
   "id": "3d069be4-147e-4202-a3d0-1657aefa98a2",
   "metadata": {},
   "outputs": [
    {
     "data": {
      "text/plain": [
       "dog     1\n",
       "cat     3\n",
       "bird    5\n",
       "dtype: int64"
      ]
     },
     "execution_count": 10,
     "metadata": {},
     "output_type": "execute_result"
    }
   ],
   "source": [
    "s['dog'] = 1\n",
    "s"
   ]
  },
  {
   "cell_type": "code",
   "execution_count": 11,
   "id": "e2b3d47d-815d-498c-983a-171ff3f2e803",
   "metadata": {},
   "outputs": [
    {
     "data": {
      "text/plain": [
       "dog     1\n",
       "cat     3\n",
       "bird    5\n",
       "Name: animals, dtype: int64"
      ]
     },
     "execution_count": 11,
     "metadata": {},
     "output_type": "execute_result"
    }
   ],
   "source": [
    "s.name = 'animals'\n",
    "s"
   ]
  },
  {
   "cell_type": "code",
   "execution_count": 12,
   "id": "409f2393-e5e7-4d9f-80ce-b1364753b9ce",
   "metadata": {},
   "outputs": [
    {
     "data": {
      "text/plain": [
       "dog     1\n",
       "cat     3\n",
       "bird    5\n",
       "Name: mammal, dtype: int64"
      ]
     },
     "execution_count": 12,
     "metadata": {},
     "output_type": "execute_result"
    }
   ],
   "source": [
    "s.rename('mammal')"
   ]
  },
  {
   "cell_type": "code",
   "execution_count": 13,
   "id": "5357d0b5-d8f9-4700-b0ab-03446d2c08f1",
   "metadata": {},
   "outputs": [
    {
     "data": {
      "text/plain": [
       "0    3\n",
       "1    4\n",
       "2    5\n",
       "dtype: int64"
      ]
     },
     "execution_count": 13,
     "metadata": {},
     "output_type": "execute_result"
    }
   ],
   "source": [
    "s = pd.Series(['dog', 'goat', 'skunk'])\n",
    "s.map(lambda s:len(s))"
   ]
  },
  {
   "cell_type": "code",
   "execution_count": 14,
   "id": "52794528-b81d-42f0-b4fb-7e77a57d88da",
   "metadata": {},
   "outputs": [
    {
     "data": {
      "text/plain": [
       "apple      fruit\n",
       "cat       animal\n",
       "goat      animal\n",
       "banana     fruit\n",
       "kiwi       fruit\n",
       "dtype: object"
      ]
     },
     "execution_count": 14,
     "metadata": {},
     "output_type": "execute_result"
    }
   ],
   "source": [
    "s = pd.Series(['fruit', 'animal', 'animal', 'fruit', 'fruit'], index=['apple', 'cat', 'goat', 'banana', 'kiwi'])\n",
    "s"
   ]
  },
  {
   "cell_type": "code",
   "execution_count": 15,
   "id": "343bb409-05f3-428a-a2f3-17acb11c4e2b",
   "metadata": {},
   "outputs": [
    {
     "data": {
      "text/plain": [
       "fruit     0\n",
       "animal    1\n",
       "dtype: int64"
      ]
     },
     "execution_count": 15,
     "metadata": {},
     "output_type": "execute_result"
    }
   ],
   "source": [
    "t = pd.Series({'fruit':0, 'animal':1})\n",
    "t"
   ]
  },
  {
   "cell_type": "code",
   "execution_count": 16,
   "id": "60d6e4df-f696-4f13-937e-3083dc421e48",
   "metadata": {},
   "outputs": [
    {
     "data": {
      "text/plain": [
       "apple     0\n",
       "cat       1\n",
       "goat      1\n",
       "banana    0\n",
       "kiwi      0\n",
       "dtype: int64"
      ]
     },
     "execution_count": 16,
     "metadata": {},
     "output_type": "execute_result"
    }
   ],
   "source": [
    "s.map(t)"
   ]
  },
  {
   "cell_type": "code",
   "execution_count": 17,
   "id": "110b711a-b42c-41a2-9af0-548391ef9327",
   "metadata": {},
   "outputs": [
    {
     "data": {
      "text/html": [
       "<div>\n",
       "<style scoped>\n",
       "    .dataframe tbody tr th:only-of-type {\n",
       "        vertical-align: middle;\n",
       "    }\n",
       "\n",
       "    .dataframe tbody tr th {\n",
       "        vertical-align: top;\n",
       "    }\n",
       "\n",
       "    .dataframe thead th {\n",
       "        text-align: right;\n",
       "    }\n",
       "</style>\n",
       "<table border=\"1\" class=\"dataframe\">\n",
       "  <thead>\n",
       "    <tr style=\"text-align: right;\">\n",
       "      <th></th>\n",
       "      <th>A</th>\n",
       "      <th>B</th>\n",
       "    </tr>\n",
       "  </thead>\n",
       "  <tbody>\n",
       "    <tr>\n",
       "      <th>bird</th>\n",
       "      <td>3.0</td>\n",
       "      <td>1.6180</td>\n",
       "    </tr>\n",
       "    <tr>\n",
       "      <th>cat</th>\n",
       "      <td>1.0</td>\n",
       "      <td>3.1400</td>\n",
       "    </tr>\n",
       "    <tr>\n",
       "      <th>dog</th>\n",
       "      <td>2.0</td>\n",
       "      <td>2.7180</td>\n",
       "    </tr>\n",
       "    <tr>\n",
       "      <th>goat</th>\n",
       "      <td>NaN</td>\n",
       "      <td>0.5772</td>\n",
       "    </tr>\n",
       "  </tbody>\n",
       "</table>\n",
       "</div>"
      ],
      "text/plain": [
       "        A       B\n",
       "bird  3.0  1.6180\n",
       "cat   1.0  3.1400\n",
       "dog   2.0  2.7180\n",
       "goat  NaN  0.5772"
      ]
     },
     "execution_count": 17,
     "metadata": {},
     "output_type": "execute_result"
    }
   ],
   "source": [
    "# 从字典创建DataFrame，键成为列名。值成为字典的行。\n",
    "# 对于给定列未指定的行，接收NaN。\n",
    "d = {'A':pd.Series([1,2,3], index=['cat','dog','bird']),\n",
    "    'B':{'cat':3.14, 'dog':2.718, 'bird':1.618, 'goat':0.5772}}\n",
    "df = pd.DataFrame(d)\n",
    "df"
   ]
  },
  {
   "cell_type": "code",
   "execution_count": 18,
   "id": "3780f39b-5bf3-4932-bd0c-6eb86972a53d",
   "metadata": {},
   "outputs": [
    {
     "data": {
      "text/html": [
       "<div>\n",
       "<style scoped>\n",
       "    .dataframe tbody tr th:only-of-type {\n",
       "        vertical-align: middle;\n",
       "    }\n",
       "\n",
       "    .dataframe tbody tr th {\n",
       "        vertical-align: top;\n",
       "    }\n",
       "\n",
       "    .dataframe thead th {\n",
       "        text-align: right;\n",
       "    }\n",
       "</style>\n",
       "<table border=\"1\" class=\"dataframe\">\n",
       "  <thead>\n",
       "    <tr style=\"text-align: right;\">\n",
       "      <th></th>\n",
       "      <th>Undergrad</th>\n",
       "      <th>PhD</th>\n",
       "      <th>JD</th>\n",
       "      <th>Terms</th>\n",
       "    </tr>\n",
       "  </thead>\n",
       "  <tbody>\n",
       "    <tr>\n",
       "      <th>Ford</th>\n",
       "      <td>UMich</td>\n",
       "      <td>NaN</td>\n",
       "      <td>Yale</td>\n",
       "      <td>NaN</td>\n",
       "    </tr>\n",
       "    <tr>\n",
       "      <th>Hoover</th>\n",
       "      <td>Stanford</td>\n",
       "      <td>NaN</td>\n",
       "      <td>NaN</td>\n",
       "      <td>NaN</td>\n",
       "    </tr>\n",
       "    <tr>\n",
       "      <th>Obama</th>\n",
       "      <td>Columbia</td>\n",
       "      <td>NaN</td>\n",
       "      <td>Harvard</td>\n",
       "      <td>NaN</td>\n",
       "    </tr>\n",
       "    <tr>\n",
       "      <th>Wilson</th>\n",
       "      <td>Princeton</td>\n",
       "      <td>Johns Hopkins</td>\n",
       "      <td>NaN</td>\n",
       "      <td>NaN</td>\n",
       "    </tr>\n",
       "    <tr>\n",
       "      <th>0</th>\n",
       "      <td>NaN</td>\n",
       "      <td>NaN</td>\n",
       "      <td>NaN</td>\n",
       "      <td>1.0</td>\n",
       "    </tr>\n",
       "    <tr>\n",
       "      <th>1</th>\n",
       "      <td>NaN</td>\n",
       "      <td>NaN</td>\n",
       "      <td>NaN</td>\n",
       "      <td>1.0</td>\n",
       "    </tr>\n",
       "    <tr>\n",
       "      <th>2</th>\n",
       "      <td>NaN</td>\n",
       "      <td>NaN</td>\n",
       "      <td>NaN</td>\n",
       "      <td>2.0</td>\n",
       "    </tr>\n",
       "    <tr>\n",
       "      <th>3</th>\n",
       "      <td>NaN</td>\n",
       "      <td>NaN</td>\n",
       "      <td>NaN</td>\n",
       "      <td>2.0</td>\n",
       "    </tr>\n",
       "  </tbody>\n",
       "</table>\n",
       "</div>"
      ],
      "text/plain": [
       "        Undergrad            PhD       JD  Terms\n",
       "Ford        UMich            NaN     Yale    NaN\n",
       "Hoover   Stanford            NaN      NaN    NaN\n",
       "Obama    Columbia            NaN  Harvard    NaN\n",
       "Wilson  Princeton  Johns Hopkins      NaN    NaN\n",
       "0             NaN            NaN      NaN    1.0\n",
       "1             NaN            NaN      NaN    1.0\n",
       "2             NaN            NaN      NaN    2.0\n",
       "3             NaN            NaN      NaN    2.0"
      ]
     },
     "execution_count": 18,
     "metadata": {},
     "output_type": "execute_result"
    }
   ],
   "source": [
    "d = {'Undergrad' : pd.Series(['UMich', 'Stanford', 'Princeton', 'Columbia'],\n",
    "                             index=['Ford', 'Hoover', 'Wilson', 'Obama']),\n",
    "     'PhD' : {'Wilson':'Johns Hopkins'},\n",
    "     'JD' : {'Ford':'Yale','Obama':'Harvard'},\n",
    "     'Terms': pd.Series([1,1,2,2]) }\n",
    "presidents = pd.DataFrame(d)\n",
    "presidents"
   ]
  },
  {
   "cell_type": "code",
   "execution_count": 19,
   "id": "be3005c3-ae78-4517-9e69-b18d86aef98b",
   "metadata": {},
   "outputs": [
    {
     "data": {
      "text/plain": [
       "Index(['Undergrad', 'PhD', 'JD', 'Terms'], dtype='object')"
      ]
     },
     "execution_count": 19,
     "metadata": {},
     "output_type": "execute_result"
    }
   ],
   "source": [
    "presidents.columns"
   ]
  },
  {
   "cell_type": "code",
   "execution_count": 20,
   "id": "ac16f33c-0fac-42b3-b03c-b08ed308e3e1",
   "metadata": {},
   "outputs": [
    {
     "data": {
      "text/plain": [
       "Index(['Ford', 'Hoover', 'Obama', 'Wilson', 0, 1, 2, 3], dtype='object')"
      ]
     },
     "execution_count": 20,
     "metadata": {},
     "output_type": "execute_result"
    }
   ],
   "source": [
    "presidents.index"
   ]
  },
  {
   "cell_type": "code",
   "execution_count": 21,
   "id": "4d934ae3-d3d0-4b8b-ae97-8dbb7ffa65d6",
   "metadata": {},
   "outputs": [
    {
     "data": {
      "text/html": [
       "<div>\n",
       "<style scoped>\n",
       "    .dataframe tbody tr th:only-of-type {\n",
       "        vertical-align: middle;\n",
       "    }\n",
       "\n",
       "    .dataframe tbody tr th {\n",
       "        vertical-align: top;\n",
       "    }\n",
       "\n",
       "    .dataframe thead th {\n",
       "        text-align: right;\n",
       "    }\n",
       "</style>\n",
       "<table border=\"1\" class=\"dataframe\">\n",
       "  <thead>\n",
       "    <tr style=\"text-align: right;\">\n",
       "      <th></th>\n",
       "      <th>Undergrad</th>\n",
       "      <th>PhD</th>\n",
       "      <th>JD</th>\n",
       "      <th>Terms</th>\n",
       "      <th>Nobels</th>\n",
       "    </tr>\n",
       "  </thead>\n",
       "  <tbody>\n",
       "    <tr>\n",
       "      <th>Ford</th>\n",
       "      <td>UMich</td>\n",
       "      <td>NaN</td>\n",
       "      <td>Yale</td>\n",
       "      <td>1</td>\n",
       "      <td>0</td>\n",
       "    </tr>\n",
       "    <tr>\n",
       "      <th>Hoover</th>\n",
       "      <td>Stanford</td>\n",
       "      <td>NaN</td>\n",
       "      <td>NaN</td>\n",
       "      <td>1</td>\n",
       "      <td>0</td>\n",
       "    </tr>\n",
       "    <tr>\n",
       "      <th>Obama</th>\n",
       "      <td>Columbia</td>\n",
       "      <td>NaN</td>\n",
       "      <td>Harvard</td>\n",
       "      <td>2</td>\n",
       "      <td>1</td>\n",
       "    </tr>\n",
       "    <tr>\n",
       "      <th>Wilson</th>\n",
       "      <td>Princeton</td>\n",
       "      <td>Johns Hopkins</td>\n",
       "      <td>NaN</td>\n",
       "      <td>2</td>\n",
       "      <td>1</td>\n",
       "    </tr>\n",
       "  </tbody>\n",
       "</table>\n",
       "</div>"
      ],
      "text/plain": [
       "        Undergrad            PhD       JD  Terms  Nobels\n",
       "Ford        UMich            NaN     Yale      1       0\n",
       "Hoover   Stanford            NaN      NaN      1       0\n",
       "Obama    Columbia            NaN  Harvard      2       1\n",
       "Wilson  Princeton  Johns Hopkins      NaN      2       1"
      ]
     },
     "execution_count": 21,
     "metadata": {},
     "output_type": "execute_result"
    }
   ],
   "source": [
    "d = {'Undergrad' : pd.Series(['UMich', 'Stanford', 'Princeton', 'Columbia'],\n",
    "                             index=['Ford', 'Hoover', 'Wilson', 'Obama']),\n",
    "     'PhD' : {'Wilson':'Johns Hopkins'},\n",
    "     'JD' : {'Ford':'Yale','Obama':'Harvard'},\n",
    "     'Terms': pd.Series([1,1,2,2], index=['Ford', 'Hoover', 'Wilson', 'Obama']) }\n",
    "presidents = pd.DataFrame(d)\n",
    "presidents['Nobels'] = [0,0,1,1]\n",
    "presidents"
   ]
  },
  {
   "cell_type": "code",
   "execution_count": 22,
   "id": "a389f640-6588-45bd-9241-e367f2adbc41",
   "metadata": {},
   "outputs": [
    {
     "data": {
      "text/html": [
       "<div>\n",
       "<style scoped>\n",
       "    .dataframe tbody tr th:only-of-type {\n",
       "        vertical-align: middle;\n",
       "    }\n",
       "\n",
       "    .dataframe tbody tr th {\n",
       "        vertical-align: top;\n",
       "    }\n",
       "\n",
       "    .dataframe thead th {\n",
       "        text-align: right;\n",
       "    }\n",
       "</style>\n",
       "<table border=\"1\" class=\"dataframe\">\n",
       "  <thead>\n",
       "    <tr style=\"text-align: right;\">\n",
       "      <th></th>\n",
       "      <th>Undergrad</th>\n",
       "      <th>PhD</th>\n",
       "      <th>JD</th>\n",
       "      <th>Terms</th>\n",
       "      <th>Nobels</th>\n",
       "      <th>Fields Medals</th>\n",
       "    </tr>\n",
       "  </thead>\n",
       "  <tbody>\n",
       "    <tr>\n",
       "      <th>Ford</th>\n",
       "      <td>UMich</td>\n",
       "      <td>NaN</td>\n",
       "      <td>Yale</td>\n",
       "      <td>1</td>\n",
       "      <td>0</td>\n",
       "      <td>0</td>\n",
       "    </tr>\n",
       "    <tr>\n",
       "      <th>Hoover</th>\n",
       "      <td>Stanford</td>\n",
       "      <td>NaN</td>\n",
       "      <td>NaN</td>\n",
       "      <td>1</td>\n",
       "      <td>0</td>\n",
       "      <td>0</td>\n",
       "    </tr>\n",
       "    <tr>\n",
       "      <th>Obama</th>\n",
       "      <td>Columbia</td>\n",
       "      <td>NaN</td>\n",
       "      <td>Harvard</td>\n",
       "      <td>2</td>\n",
       "      <td>1</td>\n",
       "      <td>0</td>\n",
       "    </tr>\n",
       "    <tr>\n",
       "      <th>Wilson</th>\n",
       "      <td>Princeton</td>\n",
       "      <td>Johns Hopkins</td>\n",
       "      <td>NaN</td>\n",
       "      <td>2</td>\n",
       "      <td>1</td>\n",
       "      <td>0</td>\n",
       "    </tr>\n",
       "  </tbody>\n",
       "</table>\n",
       "</div>"
      ],
      "text/plain": [
       "        Undergrad            PhD       JD  Terms  Nobels  Fields Medals\n",
       "Ford        UMich            NaN     Yale      1       0              0\n",
       "Hoover   Stanford            NaN      NaN      1       0              0\n",
       "Obama    Columbia            NaN  Harvard      2       1              0\n",
       "Wilson  Princeton  Johns Hopkins      NaN      2       1              0"
      ]
     },
     "execution_count": 22,
     "metadata": {},
     "output_type": "execute_result"
    }
   ],
   "source": [
    "# 标量在行中传播播。\n",
    "presidents['Fields Medals'] = 0\n",
    "presidents"
   ]
  },
  {
   "cell_type": "code",
   "execution_count": 23,
   "id": "aed98aa6-6367-4613-ba6e-7dac2e284d8a",
   "metadata": {},
   "outputs": [
    {
     "data": {
      "text/html": [
       "<div>\n",
       "<style scoped>\n",
       "    .dataframe tbody tr th:only-of-type {\n",
       "        vertical-align: middle;\n",
       "    }\n",
       "\n",
       "    .dataframe tbody tr th {\n",
       "        vertical-align: top;\n",
       "    }\n",
       "\n",
       "    .dataframe thead th {\n",
       "        text-align: right;\n",
       "    }\n",
       "</style>\n",
       "<table border=\"1\" class=\"dataframe\">\n",
       "  <thead>\n",
       "    <tr style=\"text-align: right;\">\n",
       "      <th></th>\n",
       "      <th>Undergrad</th>\n",
       "      <th>PhD</th>\n",
       "      <th>JD</th>\n",
       "      <th>Terms</th>\n",
       "      <th>Nobels</th>\n",
       "    </tr>\n",
       "  </thead>\n",
       "  <tbody>\n",
       "    <tr>\n",
       "      <th>Ford</th>\n",
       "      <td>UMich</td>\n",
       "      <td>NaN</td>\n",
       "      <td>Yale</td>\n",
       "      <td>1</td>\n",
       "      <td>0</td>\n",
       "    </tr>\n",
       "    <tr>\n",
       "      <th>Hoover</th>\n",
       "      <td>Stanford</td>\n",
       "      <td>NaN</td>\n",
       "      <td>NaN</td>\n",
       "      <td>1</td>\n",
       "      <td>0</td>\n",
       "    </tr>\n",
       "    <tr>\n",
       "      <th>Obama</th>\n",
       "      <td>Columbia</td>\n",
       "      <td>NaN</td>\n",
       "      <td>Harvard</td>\n",
       "      <td>2</td>\n",
       "      <td>1</td>\n",
       "    </tr>\n",
       "    <tr>\n",
       "      <th>Wilson</th>\n",
       "      <td>Princeton</td>\n",
       "      <td>Johns Hopkins</td>\n",
       "      <td>NaN</td>\n",
       "      <td>2</td>\n",
       "      <td>1</td>\n",
       "    </tr>\n",
       "  </tbody>\n",
       "</table>\n",
       "</div>"
      ],
      "text/plain": [
       "        Undergrad            PhD       JD  Terms  Nobels\n",
       "Ford        UMich            NaN     Yale      1       0\n",
       "Hoover   Stanford            NaN      NaN      1       0\n",
       "Obama    Columbia            NaN  Harvard      2       1\n",
       "Wilson  Princeton  Johns Hopkins      NaN      2       1"
      ]
     },
     "execution_count": 23,
     "metadata": {},
     "output_type": "execute_result"
    }
   ],
   "source": [
    "del presidents['Fields Medals']\n",
    "presidents"
   ]
  },
  {
   "cell_type": "code",
   "execution_count": 24,
   "id": "6e0f6c88-a651-4d56-a393-4409d613d442",
   "metadata": {},
   "outputs": [
    {
     "data": {
      "text/plain": [
       "Undergrad    Columbia\n",
       "PhD               NaN\n",
       "JD            Harvard\n",
       "Terms               2\n",
       "Nobels              1\n",
       "Name: Obama, dtype: object"
      ]
     },
     "execution_count": 24,
     "metadata": {},
     "output_type": "execute_result"
    }
   ],
   "source": [
    "# df.loc按其行标签选择行。df.iloc按其整数行标签（从0开始）选择行。\n",
    "presidents.loc['Obama']"
   ]
  },
  {
   "cell_type": "code",
   "execution_count": 25,
   "id": "b2878095-6f79-413c-bc3f-d62cf355a93b",
   "metadata": {},
   "outputs": [
    {
     "data": {
      "text/plain": [
       "Undergrad    Columbia\n",
       "PhD               NaN\n",
       "JD            Harvard\n",
       "Terms               2\n",
       "Nobels              1\n",
       "Name: Obama, dtype: object"
      ]
     },
     "execution_count": 25,
     "metadata": {},
     "output_type": "execute_result"
    }
   ],
   "source": [
    "presidents.iloc[2]"
   ]
  },
  {
   "cell_type": "code",
   "execution_count": 26,
   "id": "fc81eed3-14a9-4c4b-a074-97147597b1e8",
   "metadata": {},
   "outputs": [
    {
     "data": {
      "text/plain": [
       "(       Undergrad  PhD       JD  Terms  Nobels\n",
       " Hoover  Stanford  NaN      NaN      1       0\n",
       " Obama   Columbia  NaN  Harvard      2       1,\n",
       "        Undergrad  PhD       JD  Terms  Nobels\n",
       " Hoover  Stanford  NaN      NaN      1       0\n",
       " Obama   Columbia  NaN  Harvard      2       1)"
      ]
     },
     "execution_count": 26,
     "metadata": {},
     "output_type": "execute_result"
    }
   ],
   "source": [
    "# 多行\n",
    "presidents.iloc[1:3], presidents[1:3]"
   ]
  },
  {
   "cell_type": "code",
   "execution_count": 27,
   "id": "1340fd9d-4cc2-4713-b8b1-9d3c89385e51",
   "metadata": {},
   "outputs": [
    {
     "data": {
      "text/plain": [
       "Ford          UMich\n",
       "Hoover     Stanford\n",
       "Obama      Columbia\n",
       "Wilson    Princeton\n",
       "Name: Undergrad, dtype: object"
      ]
     },
     "execution_count": 27,
     "metadata": {},
     "output_type": "execute_result"
    }
   ],
   "source": [
    "# 按其名称选择列。\n",
    "presidents['Undergrad']"
   ]
  },
  {
   "cell_type": "code",
   "execution_count": 28,
   "id": "2f8d8475-f969-4fd6-b0b5-1113f9d580ee",
   "metadata": {},
   "outputs": [
    {
     "data": {
      "text/html": [
       "<div>\n",
       "<style scoped>\n",
       "    .dataframe tbody tr th:only-of-type {\n",
       "        vertical-align: middle;\n",
       "    }\n",
       "\n",
       "    .dataframe tbody tr th {\n",
       "        vertical-align: top;\n",
       "    }\n",
       "\n",
       "    .dataframe thead th {\n",
       "        text-align: right;\n",
       "    }\n",
       "</style>\n",
       "<table border=\"1\" class=\"dataframe\">\n",
       "  <thead>\n",
       "    <tr style=\"text-align: right;\">\n",
       "      <th></th>\n",
       "      <th>Undergrad</th>\n",
       "      <th>PhD</th>\n",
       "    </tr>\n",
       "  </thead>\n",
       "  <tbody>\n",
       "    <tr>\n",
       "      <th>Ford</th>\n",
       "      <td>UMich</td>\n",
       "      <td>NaN</td>\n",
       "    </tr>\n",
       "    <tr>\n",
       "      <th>Hoover</th>\n",
       "      <td>Stanford</td>\n",
       "      <td>NaN</td>\n",
       "    </tr>\n",
       "    <tr>\n",
       "      <th>Obama</th>\n",
       "      <td>Columbia</td>\n",
       "      <td>NaN</td>\n",
       "    </tr>\n",
       "    <tr>\n",
       "      <th>Wilson</th>\n",
       "      <td>Princeton</td>\n",
       "      <td>Johns Hopkins</td>\n",
       "    </tr>\n",
       "  </tbody>\n",
       "</table>\n",
       "</div>"
      ],
      "text/plain": [
       "        Undergrad            PhD\n",
       "Ford        UMich            NaN\n",
       "Hoover   Stanford            NaN\n",
       "Obama    Columbia            NaN\n",
       "Wilson  Princeton  Johns Hopkins"
      ]
     },
     "execution_count": 28,
     "metadata": {},
     "output_type": "execute_result"
    }
   ],
   "source": [
    "# 获得多列\n",
    "presidents[['Undergrad', 'PhD']]"
   ]
  },
  {
   "cell_type": "code",
   "execution_count": 29,
   "id": "78dd06c1-56f1-49a9-b593-bc149c54255c",
   "metadata": {},
   "outputs": [
    {
     "data": {
      "text/plain": [
       "(pandas.core.series.Series,\n",
       "        Undergrad  PhD    JD  Terms  Nobels\n",
       " Ford       UMich  NaN  Yale      1       0\n",
       " Hoover  Stanford  NaN   NaN      1       0)"
      ]
     },
     "execution_count": 29,
     "metadata": {},
     "output_type": "execute_result"
    }
   ],
   "source": [
    "# 布尔表达式选择行\n",
    "type(presidents['Terms']<2), presidents[presidents['Terms']<2]"
   ]
  },
  {
   "cell_type": "code",
   "execution_count": 30,
   "id": "222e7fe5-1328-473f-bf39-fc90dea870b3",
   "metadata": {},
   "outputs": [
    {
     "data": {
      "text/html": [
       "<div>\n",
       "<style scoped>\n",
       "    .dataframe tbody tr th:only-of-type {\n",
       "        vertical-align: middle;\n",
       "    }\n",
       "\n",
       "    .dataframe tbody tr th {\n",
       "        vertical-align: top;\n",
       "    }\n",
       "\n",
       "    .dataframe thead th {\n",
       "        text-align: right;\n",
       "    }\n",
       "</style>\n",
       "<table border=\"1\" class=\"dataframe\">\n",
       "  <thead>\n",
       "    <tr style=\"text-align: right;\">\n",
       "      <th></th>\n",
       "      <th>A</th>\n",
       "      <th>B</th>\n",
       "      <th>C</th>\n",
       "      <th>D</th>\n",
       "    </tr>\n",
       "  </thead>\n",
       "  <tbody>\n",
       "    <tr>\n",
       "      <th>0</th>\n",
       "      <td>0.061177</td>\n",
       "      <td>-0.194038</td>\n",
       "      <td>-0.424845</td>\n",
       "      <td>NaN</td>\n",
       "    </tr>\n",
       "    <tr>\n",
       "      <th>1</th>\n",
       "      <td>0.830433</td>\n",
       "      <td>-1.575588</td>\n",
       "      <td>0.171310</td>\n",
       "      <td>NaN</td>\n",
       "    </tr>\n",
       "    <tr>\n",
       "      <th>2</th>\n",
       "      <td>0.933202</td>\n",
       "      <td>-2.136887</td>\n",
       "      <td>-0.580832</td>\n",
       "      <td>NaN</td>\n",
       "    </tr>\n",
       "    <tr>\n",
       "      <th>3</th>\n",
       "      <td>-2.029443</td>\n",
       "      <td>0.803231</td>\n",
       "      <td>0.611888</td>\n",
       "      <td>NaN</td>\n",
       "    </tr>\n",
       "    <tr>\n",
       "      <th>4</th>\n",
       "      <td>-1.024011</td>\n",
       "      <td>-1.683306</td>\n",
       "      <td>-0.344807</td>\n",
       "      <td>NaN</td>\n",
       "    </tr>\n",
       "    <tr>\n",
       "      <th>5</th>\n",
       "      <td>NaN</td>\n",
       "      <td>NaN</td>\n",
       "      <td>NaN</td>\n",
       "      <td>NaN</td>\n",
       "    </tr>\n",
       "    <tr>\n",
       "      <th>6</th>\n",
       "      <td>NaN</td>\n",
       "      <td>NaN</td>\n",
       "      <td>NaN</td>\n",
       "      <td>NaN</td>\n",
       "    </tr>\n",
       "    <tr>\n",
       "      <th>7</th>\n",
       "      <td>NaN</td>\n",
       "      <td>NaN</td>\n",
       "      <td>NaN</td>\n",
       "      <td>NaN</td>\n",
       "    </tr>\n",
       "  </tbody>\n",
       "</table>\n",
       "</div>"
      ],
      "text/plain": [
       "          A         B         C   D\n",
       "0  0.061177 -0.194038 -0.424845 NaN\n",
       "1  0.830433 -1.575588  0.171310 NaN\n",
       "2  0.933202 -2.136887 -0.580832 NaN\n",
       "3 -2.029443  0.803231  0.611888 NaN\n",
       "4 -1.024011 -1.683306 -0.344807 NaN\n",
       "5       NaN       NaN       NaN NaN\n",
       "6       NaN       NaN       NaN NaN\n",
       "7       NaN       NaN       NaN NaN"
      ]
     },
     "execution_count": 30,
     "metadata": {},
     "output_type": "execute_result"
    }
   ],
   "source": [
    "df1 = pd.DataFrame(np.random.randn(8, 4), columns=['A', 'B', 'C', 'D'])\n",
    "df2 = pd.DataFrame(np.random.randn(5, 3), columns=['A', 'B', 'C'])\n",
    "df1+df2"
   ]
  },
  {
   "cell_type": "code",
   "execution_count": 31,
   "id": "4d37983a-824a-498e-bc5a-767ca2c72cdb",
   "metadata": {},
   "outputs": [
    {
     "data": {
      "text/html": [
       "<div>\n",
       "<style scoped>\n",
       "    .dataframe tbody tr th:only-of-type {\n",
       "        vertical-align: middle;\n",
       "    }\n",
       "\n",
       "    .dataframe tbody tr th {\n",
       "        vertical-align: top;\n",
       "    }\n",
       "\n",
       "    .dataframe thead th {\n",
       "        text-align: right;\n",
       "    }\n",
       "</style>\n",
       "<table border=\"1\" class=\"dataframe\">\n",
       "  <thead>\n",
       "    <tr style=\"text-align: right;\">\n",
       "      <th></th>\n",
       "      <th>A</th>\n",
       "      <th>B</th>\n",
       "    </tr>\n",
       "  </thead>\n",
       "  <tbody>\n",
       "    <tr>\n",
       "      <th>0</th>\n",
       "      <td>0.759576</td>\n",
       "      <td>0.858931</td>\n",
       "    </tr>\n",
       "    <tr>\n",
       "      <th>1</th>\n",
       "      <td>-0.022221</td>\n",
       "      <td>1.730997</td>\n",
       "    </tr>\n",
       "    <tr>\n",
       "      <th>2</th>\n",
       "      <td>0.655215</td>\n",
       "      <td>-0.683693</td>\n",
       "    </tr>\n",
       "    <tr>\n",
       "      <th>3</th>\n",
       "      <td>0.091297</td>\n",
       "      <td>-0.142306</td>\n",
       "    </tr>\n",
       "  </tbody>\n",
       "</table>\n",
       "</div>"
      ],
      "text/plain": [
       "          A         B\n",
       "0  0.759576  0.858931\n",
       "1 -0.022221  1.730997\n",
       "2  0.655215 -0.683693\n",
       "3  0.091297 -0.142306"
      ]
     },
     "execution_count": 31,
     "metadata": {},
     "output_type": "execute_result"
    }
   ],
   "source": [
    "df = pd.DataFrame(np.random.randn(4, 2), columns=['A', 'B'])\n",
    "df"
   ]
  },
  {
   "cell_type": "code",
   "execution_count": 32,
   "id": "7846607d-700f-4333-b223-d930e5d3567b",
   "metadata": {},
   "outputs": [
    {
     "data": {
      "text/html": [
       "<div>\n",
       "<style scoped>\n",
       "    .dataframe tbody tr th:only-of-type {\n",
       "        vertical-align: middle;\n",
       "    }\n",
       "\n",
       "    .dataframe tbody tr th {\n",
       "        vertical-align: top;\n",
       "    }\n",
       "\n",
       "    .dataframe thead th {\n",
       "        text-align: right;\n",
       "    }\n",
       "</style>\n",
       "<table border=\"1\" class=\"dataframe\">\n",
       "  <thead>\n",
       "    <tr style=\"text-align: right;\">\n",
       "      <th></th>\n",
       "      <th>A</th>\n",
       "      <th>B</th>\n",
       "    </tr>\n",
       "  </thead>\n",
       "  <tbody>\n",
       "    <tr>\n",
       "      <th>0</th>\n",
       "      <td>0.000000</td>\n",
       "      <td>0.000000</td>\n",
       "    </tr>\n",
       "    <tr>\n",
       "      <th>1</th>\n",
       "      <td>-0.781797</td>\n",
       "      <td>0.872066</td>\n",
       "    </tr>\n",
       "    <tr>\n",
       "      <th>2</th>\n",
       "      <td>-0.104361</td>\n",
       "      <td>-1.542623</td>\n",
       "    </tr>\n",
       "    <tr>\n",
       "      <th>3</th>\n",
       "      <td>-0.668279</td>\n",
       "      <td>-1.001237</td>\n",
       "    </tr>\n",
       "  </tbody>\n",
       "</table>\n",
       "</div>"
      ],
      "text/plain": [
       "          A         B\n",
       "0  0.000000  0.000000\n",
       "1 -0.781797  0.872066\n",
       "2 -0.104361 -1.542623\n",
       "3 -0.668279 -1.001237"
      ]
     },
     "execution_count": 32,
     "metadata": {},
     "output_type": "execute_result"
    }
   ],
   "source": [
    "df - df.iloc[0]"
   ]
  },
  {
   "cell_type": "code",
   "execution_count": 33,
   "id": "18cbcd29-6c79-4c47-9a7b-8442dc2e6d4b",
   "metadata": {},
   "outputs": [
    {
     "name": "stdout",
     "output_type": "stream",
     "text": [
      "A    True\n",
      "B    True\n",
      "dtype: bool\n",
      "*************************\n",
      "A    False\n",
      "B    False\n",
      "dtype: bool\n"
     ]
    }
   ],
   "source": [
    "print((df>0).any())\n",
    "print('*************************')\n",
    "print((df>0).all())"
   ]
  },
  {
   "cell_type": "code",
   "execution_count": 34,
   "id": "c1c748e3-1e15-4ea0-8faa-b3b3e966c86a",
   "metadata": {},
   "outputs": [
    {
     "data": {
      "text/plain": [
       "array([[ 0.75957611,  0.85893056],\n",
       "       [-0.02222095,  1.73099673],\n",
       "       [ 0.65521509, -0.68369292],\n",
       "       [ 0.09129698, -0.14230617]])"
      ]
     },
     "execution_count": 34,
     "metadata": {},
     "output_type": "execute_result"
    }
   ],
   "source": [
    "# values属性将dataframe中的元素存储在一个numpy数组中。\n",
    "df.values"
   ]
  },
  {
   "cell_type": "code",
   "execution_count": 35,
   "id": "3836fbf5-e83a-4e1a-b4ca-fefab8f2f557",
   "metadata": {},
   "outputs": [
    {
     "data": {
      "text/html": [
       "<div>\n",
       "<style scoped>\n",
       "    .dataframe tbody tr th:only-of-type {\n",
       "        vertical-align: middle;\n",
       "    }\n",
       "\n",
       "    .dataframe tbody tr th {\n",
       "        vertical-align: top;\n",
       "    }\n",
       "\n",
       "    .dataframe thead th {\n",
       "        text-align: right;\n",
       "    }\n",
       "</style>\n",
       "<table border=\"1\" class=\"dataframe\">\n",
       "  <thead>\n",
       "    <tr style=\"text-align: right;\">\n",
       "      <th></th>\n",
       "      <th>A</th>\n",
       "      <th>B</th>\n",
       "    </tr>\n",
       "  </thead>\n",
       "  <tbody>\n",
       "    <tr>\n",
       "      <th>A</th>\n",
       "      <td>1.015092</td>\n",
       "      <td>0.153001</td>\n",
       "    </tr>\n",
       "    <tr>\n",
       "      <th>B</th>\n",
       "      <td>0.153001</td>\n",
       "      <td>4.221798</td>\n",
       "    </tr>\n",
       "  </tbody>\n",
       "</table>\n",
       "</div>"
      ],
      "text/plain": [
       "          A         B\n",
       "A  1.015092  0.153001\n",
       "B  0.153001  4.221798"
      ]
     },
     "execution_count": 35,
     "metadata": {},
     "output_type": "execute_result"
    }
   ],
   "source": [
    "df.T @ df"
   ]
  },
  {
   "cell_type": "code",
   "execution_count": 36,
   "id": "5193340a-49c2-45ef-8d26-46a0df69e772",
   "metadata": {},
   "outputs": [
    {
     "data": {
      "text/html": [
       "<div>\n",
       "<style scoped>\n",
       "    .dataframe tbody tr th:only-of-type {\n",
       "        vertical-align: middle;\n",
       "    }\n",
       "\n",
       "    .dataframe tbody tr th {\n",
       "        vertical-align: top;\n",
       "    }\n",
       "\n",
       "    .dataframe thead th {\n",
       "        text-align: right;\n",
       "    }\n",
       "</style>\n",
       "<table border=\"1\" class=\"dataframe\">\n",
       "  <thead>\n",
       "    <tr style=\"text-align: right;\">\n",
       "      <th></th>\n",
       "      <th>A</th>\n",
       "      <th>B</th>\n",
       "    </tr>\n",
       "  </thead>\n",
       "  <tbody>\n",
       "    <tr>\n",
       "      <th>0</th>\n",
       "      <td>0.576956</td>\n",
       "      <td>0.737762</td>\n",
       "    </tr>\n",
       "    <tr>\n",
       "      <th>1</th>\n",
       "      <td>0.000494</td>\n",
       "      <td>2.996350</td>\n",
       "    </tr>\n",
       "    <tr>\n",
       "      <th>2</th>\n",
       "      <td>0.429307</td>\n",
       "      <td>0.467436</td>\n",
       "    </tr>\n",
       "    <tr>\n",
       "      <th>3</th>\n",
       "      <td>0.008335</td>\n",
       "      <td>0.020251</td>\n",
       "    </tr>\n",
       "  </tbody>\n",
       "</table>\n",
       "</div>"
      ],
      "text/plain": [
       "          A         B\n",
       "0  0.576956  0.737762\n",
       "1  0.000494  2.996350\n",
       "2  0.429307  0.467436\n",
       "3  0.008335  0.020251"
      ]
     },
     "execution_count": 36,
     "metadata": {},
     "output_type": "execute_result"
    }
   ],
   "source": [
    "df * df"
   ]
  },
  {
   "cell_type": "code",
   "execution_count": 37,
   "id": "fb8d28ff-d8d8-4ce8-b4e5-e576404af164",
   "metadata": {},
   "outputs": [
    {
     "data": {
      "text/html": [
       "<div>\n",
       "<style scoped>\n",
       "    .dataframe tbody tr th:only-of-type {\n",
       "        vertical-align: middle;\n",
       "    }\n",
       "\n",
       "    .dataframe tbody tr th {\n",
       "        vertical-align: top;\n",
       "    }\n",
       "\n",
       "    .dataframe thead th {\n",
       "        text-align: right;\n",
       "    }\n",
       "</style>\n",
       "<table border=\"1\" class=\"dataframe\">\n",
       "  <thead>\n",
       "    <tr style=\"text-align: right;\">\n",
       "      <th></th>\n",
       "      <th>Undergrad</th>\n",
       "      <th>PhD</th>\n",
       "      <th>JD</th>\n",
       "      <th>Terms</th>\n",
       "      <th>Nobels</th>\n",
       "    </tr>\n",
       "  </thead>\n",
       "  <tbody>\n",
       "  </tbody>\n",
       "</table>\n",
       "</div>"
      ],
      "text/plain": [
       "Empty DataFrame\n",
       "Columns: [Undergrad, PhD, JD, Terms, Nobels]\n",
       "Index: []"
      ]
     },
     "execution_count": 37,
     "metadata": {},
     "output_type": "execute_result"
    }
   ],
   "source": [
    "presidents.dropna(axis=0)"
   ]
  },
  {
   "cell_type": "code",
   "execution_count": 38,
   "id": "7bf382d0-3dd2-4997-b960-2576ece6dd8d",
   "metadata": {},
   "outputs": [
    {
     "data": {
      "text/html": [
       "<div>\n",
       "<style scoped>\n",
       "    .dataframe tbody tr th:only-of-type {\n",
       "        vertical-align: middle;\n",
       "    }\n",
       "\n",
       "    .dataframe tbody tr th {\n",
       "        vertical-align: top;\n",
       "    }\n",
       "\n",
       "    .dataframe thead th {\n",
       "        text-align: right;\n",
       "    }\n",
       "</style>\n",
       "<table border=\"1\" class=\"dataframe\">\n",
       "  <thead>\n",
       "    <tr style=\"text-align: right;\">\n",
       "      <th></th>\n",
       "      <th>Undergrad</th>\n",
       "      <th>Terms</th>\n",
       "      <th>Nobels</th>\n",
       "    </tr>\n",
       "  </thead>\n",
       "  <tbody>\n",
       "    <tr>\n",
       "      <th>Ford</th>\n",
       "      <td>UMich</td>\n",
       "      <td>1</td>\n",
       "      <td>0</td>\n",
       "    </tr>\n",
       "    <tr>\n",
       "      <th>Hoover</th>\n",
       "      <td>Stanford</td>\n",
       "      <td>1</td>\n",
       "      <td>0</td>\n",
       "    </tr>\n",
       "    <tr>\n",
       "      <th>Obama</th>\n",
       "      <td>Columbia</td>\n",
       "      <td>2</td>\n",
       "      <td>1</td>\n",
       "    </tr>\n",
       "    <tr>\n",
       "      <th>Wilson</th>\n",
       "      <td>Princeton</td>\n",
       "      <td>2</td>\n",
       "      <td>1</td>\n",
       "    </tr>\n",
       "  </tbody>\n",
       "</table>\n",
       "</div>"
      ],
      "text/plain": [
       "        Undergrad  Terms  Nobels\n",
       "Ford        UMich      1       0\n",
       "Hoover   Stanford      1       0\n",
       "Obama    Columbia      2       1\n",
       "Wilson  Princeton      2       1"
      ]
     },
     "execution_count": 38,
     "metadata": {},
     "output_type": "execute_result"
    }
   ],
   "source": [
    "presidents.dropna(axis=1)"
   ]
  },
  {
   "cell_type": "code",
   "execution_count": 39,
   "id": "88aa01c7-a92b-4f15-a321-43aec5803272",
   "metadata": {},
   "outputs": [
    {
     "data": {
      "text/html": [
       "<div>\n",
       "<style scoped>\n",
       "    .dataframe tbody tr th:only-of-type {\n",
       "        vertical-align: middle;\n",
       "    }\n",
       "\n",
       "    .dataframe tbody tr th {\n",
       "        vertical-align: top;\n",
       "    }\n",
       "\n",
       "    .dataframe thead th {\n",
       "        text-align: right;\n",
       "    }\n",
       "</style>\n",
       "<table border=\"1\" class=\"dataframe\">\n",
       "  <thead>\n",
       "    <tr style=\"text-align: right;\">\n",
       "      <th></th>\n",
       "      <th>id</th>\n",
       "      <th>year</th>\n",
       "      <th>stint</th>\n",
       "      <th>team</th>\n",
       "      <th>lg</th>\n",
       "      <th>g</th>\n",
       "      <th>ab</th>\n",
       "      <th>r</th>\n",
       "      <th>h</th>\n",
       "      <th>X2b</th>\n",
       "      <th>...</th>\n",
       "      <th>rbi</th>\n",
       "      <th>sb</th>\n",
       "      <th>cs</th>\n",
       "      <th>bb</th>\n",
       "      <th>so</th>\n",
       "      <th>ibb</th>\n",
       "      <th>hbp</th>\n",
       "      <th>sh</th>\n",
       "      <th>sf</th>\n",
       "      <th>gidp</th>\n",
       "    </tr>\n",
       "  </thead>\n",
       "  <tbody>\n",
       "    <tr>\n",
       "      <th>4</th>\n",
       "      <td>ansonca01</td>\n",
       "      <td>1871</td>\n",
       "      <td>1</td>\n",
       "      <td>RC1</td>\n",
       "      <td>NaN</td>\n",
       "      <td>25</td>\n",
       "      <td>120</td>\n",
       "      <td>29</td>\n",
       "      <td>39</td>\n",
       "      <td>11</td>\n",
       "      <td>...</td>\n",
       "      <td>16.0</td>\n",
       "      <td>6.0</td>\n",
       "      <td>2.0</td>\n",
       "      <td>2</td>\n",
       "      <td>1.0</td>\n",
       "      <td>NaN</td>\n",
       "      <td>NaN</td>\n",
       "      <td>NaN</td>\n",
       "      <td>NaN</td>\n",
       "      <td>NaN</td>\n",
       "    </tr>\n",
       "    <tr>\n",
       "      <th>44</th>\n",
       "      <td>forceda01</td>\n",
       "      <td>1871</td>\n",
       "      <td>1</td>\n",
       "      <td>WS3</td>\n",
       "      <td>NaN</td>\n",
       "      <td>32</td>\n",
       "      <td>162</td>\n",
       "      <td>45</td>\n",
       "      <td>45</td>\n",
       "      <td>9</td>\n",
       "      <td>...</td>\n",
       "      <td>29.0</td>\n",
       "      <td>8.0</td>\n",
       "      <td>0.0</td>\n",
       "      <td>4</td>\n",
       "      <td>0.0</td>\n",
       "      <td>NaN</td>\n",
       "      <td>NaN</td>\n",
       "      <td>NaN</td>\n",
       "      <td>NaN</td>\n",
       "      <td>NaN</td>\n",
       "    </tr>\n",
       "    <tr>\n",
       "      <th>68</th>\n",
       "      <td>mathebo01</td>\n",
       "      <td>1871</td>\n",
       "      <td>1</td>\n",
       "      <td>FW1</td>\n",
       "      <td>NaN</td>\n",
       "      <td>19</td>\n",
       "      <td>89</td>\n",
       "      <td>15</td>\n",
       "      <td>24</td>\n",
       "      <td>3</td>\n",
       "      <td>...</td>\n",
       "      <td>10.0</td>\n",
       "      <td>2.0</td>\n",
       "      <td>1.0</td>\n",
       "      <td>2</td>\n",
       "      <td>0.0</td>\n",
       "      <td>NaN</td>\n",
       "      <td>NaN</td>\n",
       "      <td>NaN</td>\n",
       "      <td>NaN</td>\n",
       "      <td>NaN</td>\n",
       "    </tr>\n",
       "    <tr>\n",
       "      <th>99</th>\n",
       "      <td>startjo01</td>\n",
       "      <td>1871</td>\n",
       "      <td>1</td>\n",
       "      <td>NY2</td>\n",
       "      <td>NaN</td>\n",
       "      <td>33</td>\n",
       "      <td>161</td>\n",
       "      <td>35</td>\n",
       "      <td>58</td>\n",
       "      <td>5</td>\n",
       "      <td>...</td>\n",
       "      <td>34.0</td>\n",
       "      <td>4.0</td>\n",
       "      <td>2.0</td>\n",
       "      <td>3</td>\n",
       "      <td>0.0</td>\n",
       "      <td>NaN</td>\n",
       "      <td>NaN</td>\n",
       "      <td>NaN</td>\n",
       "      <td>NaN</td>\n",
       "      <td>NaN</td>\n",
       "    </tr>\n",
       "    <tr>\n",
       "      <th>102</th>\n",
       "      <td>suttoez01</td>\n",
       "      <td>1871</td>\n",
       "      <td>1</td>\n",
       "      <td>CL1</td>\n",
       "      <td>NaN</td>\n",
       "      <td>29</td>\n",
       "      <td>128</td>\n",
       "      <td>35</td>\n",
       "      <td>45</td>\n",
       "      <td>3</td>\n",
       "      <td>...</td>\n",
       "      <td>23.0</td>\n",
       "      <td>3.0</td>\n",
       "      <td>1.0</td>\n",
       "      <td>1</td>\n",
       "      <td>0.0</td>\n",
       "      <td>NaN</td>\n",
       "      <td>NaN</td>\n",
       "      <td>NaN</td>\n",
       "      <td>NaN</td>\n",
       "      <td>NaN</td>\n",
       "    </tr>\n",
       "  </tbody>\n",
       "</table>\n",
       "<p>5 rows × 22 columns</p>\n",
       "</div>"
      ],
      "text/plain": [
       "            id  year  stint team   lg   g   ab   r   h  X2b  ...   rbi   sb  \\\n",
       "4    ansonca01  1871      1  RC1  NaN  25  120  29  39   11  ...  16.0  6.0   \n",
       "44   forceda01  1871      1  WS3  NaN  32  162  45  45    9  ...  29.0  8.0   \n",
       "68   mathebo01  1871      1  FW1  NaN  19   89  15  24    3  ...  10.0  2.0   \n",
       "99   startjo01  1871      1  NY2  NaN  33  161  35  58    5  ...  34.0  4.0   \n",
       "102  suttoez01  1871      1  CL1  NaN  29  128  35  45    3  ...  23.0  3.0   \n",
       "\n",
       "      cs  bb   so  ibb  hbp  sh  sf  gidp  \n",
       "4    2.0   2  1.0  NaN  NaN NaN NaN   NaN  \n",
       "44   0.0   4  0.0  NaN  NaN NaN NaN   NaN  \n",
       "68   1.0   2  0.0  NaN  NaN NaN NaN   NaN  \n",
       "99   2.0   3  0.0  NaN  NaN NaN NaN   NaN  \n",
       "102  1.0   1  0.0  NaN  NaN NaN NaN   NaN  \n",
       "\n",
       "[5 rows x 22 columns]"
      ]
     },
     "execution_count": 39,
     "metadata": {},
     "output_type": "execute_result"
    }
   ],
   "source": [
    "baseball = pd.read_csv('baseball.csv')\n",
    "# head()方法显示DataFrame的前几行）。tail()显示最后几行。\n",
    "baseball.head(5)"
   ]
  },
  {
   "cell_type": "code",
   "execution_count": 40,
   "id": "842d893b-ef67-4c2a-9660-61d365a28969",
   "metadata": {},
   "outputs": [
    {
     "data": {
      "text/plain": [
       "A    0.370967\n",
       "B    0.440982\n",
       "dtype: float64"
      ]
     },
     "execution_count": 40,
     "metadata": {},
     "output_type": "execute_result"
    }
   ],
   "source": [
    "df.mean(axis=0) # 列的均值"
   ]
  },
  {
   "cell_type": "code",
   "execution_count": 41,
   "id": "ea01a96c-08b4-4bc6-b8ae-9f2bbb07b416",
   "metadata": {},
   "outputs": [
    {
     "data": {
      "text/plain": [
       "0    0.809253\n",
       "1    0.854388\n",
       "2   -0.014239\n",
       "3   -0.025505\n",
       "dtype: float64"
      ]
     },
     "execution_count": 41,
     "metadata": {},
     "output_type": "execute_result"
    }
   ],
   "source": [
    "df.mean(axis=1) # 行的均值"
   ]
  },
  {
   "cell_type": "code",
   "execution_count": 42,
   "id": "246570e1-9eba-4de5-aa6a-6003a91149d4",
   "metadata": {},
   "outputs": [
    {
     "data": {
      "text/plain": [
       "A    0.370967\n",
       "B    0.440982\n",
       "dtype: float64"
      ]
     },
     "execution_count": 42,
     "metadata": {},
     "output_type": "execute_result"
    }
   ],
   "source": [
    "df.apply(np.mean, axis=0)"
   ]
  },
  {
   "cell_type": "code",
   "execution_count": 43,
   "id": "f252528e-318d-4072-a638-9cec552ea0e3",
   "metadata": {},
   "outputs": [
    {
     "data": {
      "text/plain": [
       "0    0.809253\n",
       "1    0.854388\n",
       "2   -0.014239\n",
       "3   -0.025505\n",
       "dtype: float64"
      ]
     },
     "execution_count": 43,
     "metadata": {},
     "output_type": "execute_result"
    }
   ],
   "source": [
    "df.apply(np.mean, axis=1)"
   ]
  },
  {
   "cell_type": "code",
   "execution_count": 44,
   "id": "dbe3fdf1-ea26-445e-a4b1-9f7e1711a9ff",
   "metadata": {},
   "outputs": [
    {
     "data": {
      "text/html": [
       "<div>\n",
       "<style scoped>\n",
       "    .dataframe tbody tr th:only-of-type {\n",
       "        vertical-align: middle;\n",
       "    }\n",
       "\n",
       "    .dataframe tbody tr th {\n",
       "        vertical-align: top;\n",
       "    }\n",
       "\n",
       "    .dataframe thead th {\n",
       "        text-align: right;\n",
       "    }\n",
       "</style>\n",
       "<table border=\"1\" class=\"dataframe\">\n",
       "  <thead>\n",
       "    <tr style=\"text-align: right;\">\n",
       "      <th></th>\n",
       "      <th>A</th>\n",
       "      <th>B</th>\n",
       "    </tr>\n",
       "  </thead>\n",
       "  <tbody>\n",
       "    <tr>\n",
       "      <th>0</th>\n",
       "      <td>2.137370</td>\n",
       "      <td>2.360635</td>\n",
       "    </tr>\n",
       "    <tr>\n",
       "      <th>1</th>\n",
       "      <td>0.978024</td>\n",
       "      <td>5.646279</td>\n",
       "    </tr>\n",
       "    <tr>\n",
       "      <th>2</th>\n",
       "      <td>1.925557</td>\n",
       "      <td>0.504750</td>\n",
       "    </tr>\n",
       "    <tr>\n",
       "      <th>3</th>\n",
       "      <td>1.095594</td>\n",
       "      <td>0.867356</td>\n",
       "    </tr>\n",
       "  </tbody>\n",
       "</table>\n",
       "</div>"
      ],
      "text/plain": [
       "          A         B\n",
       "0  2.137370  2.360635\n",
       "1  0.978024  5.646279\n",
       "2  1.925557  0.504750\n",
       "3  1.095594  0.867356"
      ]
     },
     "execution_count": 44,
     "metadata": {},
     "output_type": "execute_result"
    }
   ],
   "source": [
    "df.apply(np.exp)"
   ]
  },
  {
   "cell_type": "code",
   "execution_count": 45,
   "id": "884946bc-c19b-4aa8-b8db-24d5b65e6c2d",
   "metadata": {},
   "outputs": [
    {
     "data": {
      "text/html": [
       "<div>\n",
       "<style scoped>\n",
       "    .dataframe tbody tr th:only-of-type {\n",
       "        vertical-align: middle;\n",
       "    }\n",
       "\n",
       "    .dataframe tbody tr th {\n",
       "        vertical-align: top;\n",
       "    }\n",
       "\n",
       "    .dataframe thead th {\n",
       "        text-align: right;\n",
       "    }\n",
       "</style>\n",
       "<table border=\"1\" class=\"dataframe\">\n",
       "  <thead>\n",
       "    <tr style=\"text-align: right;\">\n",
       "      <th></th>\n",
       "      <th>DOW</th>\n",
       "      <th>NASDAQ</th>\n",
       "      <th>S&amp;P500</th>\n",
       "    </tr>\n",
       "  </thead>\n",
       "  <tbody>\n",
       "    <tr>\n",
       "      <th>2000-01-01</th>\n",
       "      <td>0.555845</td>\n",
       "      <td>1.009969</td>\n",
       "      <td>-1.190773</td>\n",
       "    </tr>\n",
       "    <tr>\n",
       "      <th>2000-01-02</th>\n",
       "      <td>-1.748919</td>\n",
       "      <td>-1.348599</td>\n",
       "      <td>0.608051</td>\n",
       "    </tr>\n",
       "    <tr>\n",
       "      <th>2000-01-03</th>\n",
       "      <td>0.107232</td>\n",
       "      <td>1.706671</td>\n",
       "      <td>2.289426</td>\n",
       "    </tr>\n",
       "    <tr>\n",
       "      <th>2000-01-04</th>\n",
       "      <td>0.632826</td>\n",
       "      <td>1.554259</td>\n",
       "      <td>-0.549232</td>\n",
       "    </tr>\n",
       "    <tr>\n",
       "      <th>2000-01-05</th>\n",
       "      <td>1.794205</td>\n",
       "      <td>-1.233810</td>\n",
       "      <td>0.211847</td>\n",
       "    </tr>\n",
       "  </tbody>\n",
       "</table>\n",
       "</div>"
      ],
      "text/plain": [
       "                 DOW    NASDAQ    S&P500\n",
       "2000-01-01  0.555845  1.009969 -1.190773\n",
       "2000-01-02 -1.748919 -1.348599  0.608051\n",
       "2000-01-03  0.107232  1.706671  2.289426\n",
       "2000-01-04  0.632826  1.554259 -0.549232\n",
       "2000-01-05  1.794205 -1.233810  0.211847"
      ]
     },
     "execution_count": 45,
     "metadata": {},
     "output_type": "execute_result"
    }
   ],
   "source": [
    "tsdf = pd.DataFrame(np.random.randn(10, 3),\n",
    "                    columns=['DOW', 'NASDAQ', 'S&P500'],\n",
    "                    index=pd.date_range('1/1/2000', periods=10))\n",
    "tsdf.head()"
   ]
  },
  {
   "cell_type": "code",
   "execution_count": 46,
   "id": "730eeb01-2f48-499a-bcc9-b717939fb221",
   "metadata": {},
   "outputs": [
    {
     "data": {
      "text/html": [
       "<div>\n",
       "<style scoped>\n",
       "    .dataframe tbody tr th:only-of-type {\n",
       "        vertical-align: middle;\n",
       "    }\n",
       "\n",
       "    .dataframe tbody tr th {\n",
       "        vertical-align: top;\n",
       "    }\n",
       "\n",
       "    .dataframe thead th {\n",
       "        text-align: right;\n",
       "    }\n",
       "</style>\n",
       "<table border=\"1\" class=\"dataframe\">\n",
       "  <thead>\n",
       "    <tr style=\"text-align: right;\">\n",
       "      <th></th>\n",
       "      <th>DOW</th>\n",
       "      <th>NASDAQ</th>\n",
       "      <th>S&amp;P500</th>\n",
       "    </tr>\n",
       "  </thead>\n",
       "  <tbody>\n",
       "    <tr>\n",
       "      <th>median</th>\n",
       "      <td>0.040245</td>\n",
       "      <td>-0.543082</td>\n",
       "      <td>-0.264140</td>\n",
       "    </tr>\n",
       "    <tr>\n",
       "      <th>mean</th>\n",
       "      <td>-0.012043</td>\n",
       "      <td>-0.046489</td>\n",
       "      <td>0.029724</td>\n",
       "    </tr>\n",
       "    <tr>\n",
       "      <th>std</th>\n",
       "      <td>1.080521</td>\n",
       "      <td>1.376362</td>\n",
       "      <td>1.022590</td>\n",
       "    </tr>\n",
       "  </tbody>\n",
       "</table>\n",
       "</div>"
      ],
      "text/plain": [
       "             DOW    NASDAQ    S&P500\n",
       "median  0.040245 -0.543082 -0.264140\n",
       "mean   -0.012043 -0.046489  0.029724\n",
       "std     1.080521  1.376362  1.022590"
      ]
     },
     "execution_count": 46,
     "metadata": {},
     "output_type": "execute_result"
    }
   ],
   "source": [
    "import warnings\n",
    "warnings.filterwarnings('ignore')\n",
    "tsdf.agg([np.median, np.mean, np.std])"
   ]
  },
  {
   "cell_type": "code",
   "execution_count": 47,
   "id": "882a930e-4844-4e04-87b3-3be9363d90f5",
   "metadata": {},
   "outputs": [
    {
     "data": {
      "text/plain": [
       "DOW      -0.012043\n",
       "NASDAQ   -0.543082\n",
       "S&P500    2.289426\n",
       "dtype: float64"
      ]
     },
     "execution_count": 47,
     "metadata": {},
     "output_type": "execute_result"
    }
   ],
   "source": [
    "# agg()可以接受一个字典，其键是列名，值是函数。\n",
    "tsdf.agg({'DOW':'mean',\n",
    "          'NASDAQ':'median',\n",
    "          'S&P500':'max'})"
   ]
  },
  {
   "cell_type": "code",
   "execution_count": 48,
   "id": "5aa1740f-c5cb-45c8-9cb8-d2c776776fe8",
   "metadata": {},
   "outputs": [
    {
     "data": {
      "text/html": [
       "<div>\n",
       "<style scoped>\n",
       "    .dataframe tbody tr th:only-of-type {\n",
       "        vertical-align: middle;\n",
       "    }\n",
       "\n",
       "    .dataframe tbody tr th {\n",
       "        vertical-align: top;\n",
       "    }\n",
       "\n",
       "    .dataframe thead th {\n",
       "        text-align: right;\n",
       "    }\n",
       "</style>\n",
       "<table border=\"1\" class=\"dataframe\">\n",
       "  <thead>\n",
       "    <tr style=\"text-align: right;\">\n",
       "      <th></th>\n",
       "      <th>A</th>\n",
       "      <th>B</th>\n",
       "    </tr>\n",
       "  </thead>\n",
       "  <tbody>\n",
       "    <tr>\n",
       "      <th>0</th>\n",
       "      <td>CAT</td>\n",
       "      <td>UNICORN</td>\n",
       "    </tr>\n",
       "    <tr>\n",
       "      <th>1</th>\n",
       "      <td>DOG</td>\n",
       "      <td>CHUPACABRA</td>\n",
       "    </tr>\n",
       "    <tr>\n",
       "      <th>2</th>\n",
       "      <td>BIRD</td>\n",
       "      <td>PIXIE</td>\n",
       "    </tr>\n",
       "  </tbody>\n",
       "</table>\n",
       "</div>"
      ],
      "text/plain": [
       "      A           B\n",
       "0   CAT     UNICORN\n",
       "1   DOG  CHUPACABRA\n",
       "2  BIRD       PIXIE"
      ]
     },
     "execution_count": 48,
     "metadata": {},
     "output_type": "execute_result"
    }
   ],
   "source": [
    "df = pd.DataFrame({'A': ['cat', 'dog', 'bird'],\n",
    "                   'B': ['unicorn','chupacabra','pixie']})\n",
    "df.applymap(lambda s: s.upper())"
   ]
  },
  {
   "cell_type": "code",
   "execution_count": 49,
   "id": "c5b8ed66-d371-4356-ac88-79202cd2dd91",
   "metadata": {},
   "outputs": [
    {
     "data": {
      "text/plain": [
       "apple      fruit\n",
       "cat       animal\n",
       "goat      animal\n",
       "banana     fruit\n",
       "kiwi       fruit\n",
       "dtype: object"
      ]
     },
     "execution_count": 49,
     "metadata": {},
     "output_type": "execute_result"
    }
   ],
   "source": [
    "s"
   ]
  },
  {
   "cell_type": "code",
   "execution_count": 50,
   "id": "fb6780b7-e5be-4ffb-82bd-9201c4e7c0fb",
   "metadata": {},
   "outputs": [
    {
     "name": "stdout",
     "output_type": "stream",
     "text": [
      "fruit\n",
      "animal\n",
      "animal\n",
      "fruit\n",
      "fruit\n"
     ]
    }
   ],
   "source": [
    "for i in s:\n",
    "    print(i)"
   ]
  },
  {
   "cell_type": "code",
   "execution_count": 51,
   "id": "f4ac35a3-794b-4fe2-8f3b-be9110af42c9",
   "metadata": {},
   "outputs": [
    {
     "data": {
      "text/html": [
       "<div>\n",
       "<style scoped>\n",
       "    .dataframe tbody tr th:only-of-type {\n",
       "        vertical-align: middle;\n",
       "    }\n",
       "\n",
       "    .dataframe tbody tr th {\n",
       "        vertical-align: top;\n",
       "    }\n",
       "\n",
       "    .dataframe thead th {\n",
       "        text-align: right;\n",
       "    }\n",
       "</style>\n",
       "<table border=\"1\" class=\"dataframe\">\n",
       "  <thead>\n",
       "    <tr style=\"text-align: right;\">\n",
       "      <th></th>\n",
       "      <th>DOW</th>\n",
       "      <th>NASDAQ</th>\n",
       "      <th>S&amp;P500</th>\n",
       "    </tr>\n",
       "  </thead>\n",
       "  <tbody>\n",
       "    <tr>\n",
       "      <th>2000-01-01</th>\n",
       "      <td>0.555845</td>\n",
       "      <td>1.009969</td>\n",
       "      <td>-1.190773</td>\n",
       "    </tr>\n",
       "    <tr>\n",
       "      <th>2000-01-02</th>\n",
       "      <td>-1.748919</td>\n",
       "      <td>-1.348599</td>\n",
       "      <td>0.608051</td>\n",
       "    </tr>\n",
       "    <tr>\n",
       "      <th>2000-01-03</th>\n",
       "      <td>0.107232</td>\n",
       "      <td>1.706671</td>\n",
       "      <td>2.289426</td>\n",
       "    </tr>\n",
       "    <tr>\n",
       "      <th>2000-01-04</th>\n",
       "      <td>0.632826</td>\n",
       "      <td>1.554259</td>\n",
       "      <td>-0.549232</td>\n",
       "    </tr>\n",
       "    <tr>\n",
       "      <th>2000-01-05</th>\n",
       "      <td>1.794205</td>\n",
       "      <td>-1.233810</td>\n",
       "      <td>0.211847</td>\n",
       "    </tr>\n",
       "  </tbody>\n",
       "</table>\n",
       "</div>"
      ],
      "text/plain": [
       "                 DOW    NASDAQ    S&P500\n",
       "2000-01-01  0.555845  1.009969 -1.190773\n",
       "2000-01-02 -1.748919 -1.348599  0.608051\n",
       "2000-01-03  0.107232  1.706671  2.289426\n",
       "2000-01-04  0.632826  1.554259 -0.549232\n",
       "2000-01-05  1.794205 -1.233810  0.211847"
      ]
     },
     "execution_count": 51,
     "metadata": {},
     "output_type": "execute_result"
    }
   ],
   "source": [
    "tsdf.head()"
   ]
  },
  {
   "cell_type": "code",
   "execution_count": 52,
   "id": "ff12b9bf-fa41-4291-9d69-70334148766c",
   "metadata": {},
   "outputs": [
    {
     "name": "stdout",
     "output_type": "stream",
     "text": [
      "DOW\n",
      "NASDAQ\n",
      "S&P500\n"
     ]
    }
   ],
   "source": [
    "for i in tsdf:\n",
    "    print(i)"
   ]
  },
  {
   "cell_type": "code",
   "execution_count": 53,
   "id": "d2dce1c2-45ff-47af-b8b3-64a6d2f4a9f0",
   "metadata": {},
   "outputs": [
    {
     "data": {
      "text/plain": [
       "-0.0035194103854995634"
      ]
     },
     "execution_count": 53,
     "metadata": {},
     "output_type": "execute_result"
    }
   ],
   "source": [
    "s1 = pd.Series(np.random.randn(1000))\n",
    "s2 = pd.Series(np.random.randn(1000))\n",
    "s1.cov(s2)"
   ]
  },
  {
   "cell_type": "code",
   "execution_count": 54,
   "id": "b1f2e2a7-24ca-4378-b82c-b8e61f2e2dbd",
   "metadata": {},
   "outputs": [
    {
     "data": {
      "text/html": [
       "<div>\n",
       "<style scoped>\n",
       "    .dataframe tbody tr th:only-of-type {\n",
       "        vertical-align: middle;\n",
       "    }\n",
       "\n",
       "    .dataframe tbody tr th {\n",
       "        vertical-align: top;\n",
       "    }\n",
       "\n",
       "    .dataframe thead th {\n",
       "        text-align: right;\n",
       "    }\n",
       "</style>\n",
       "<table border=\"1\" class=\"dataframe\">\n",
       "  <thead>\n",
       "    <tr style=\"text-align: right;\">\n",
       "      <th></th>\n",
       "      <th>DOW</th>\n",
       "      <th>NASDAQ</th>\n",
       "      <th>S&amp;P500</th>\n",
       "    </tr>\n",
       "  </thead>\n",
       "  <tbody>\n",
       "    <tr>\n",
       "      <th>2000-01-01</th>\n",
       "      <td>0.555845</td>\n",
       "      <td>1.009969</td>\n",
       "      <td>-1.190773</td>\n",
       "    </tr>\n",
       "    <tr>\n",
       "      <th>2000-01-02</th>\n",
       "      <td>-1.748919</td>\n",
       "      <td>-1.348599</td>\n",
       "      <td>0.608051</td>\n",
       "    </tr>\n",
       "    <tr>\n",
       "      <th>2000-01-03</th>\n",
       "      <td>0.107232</td>\n",
       "      <td>1.706671</td>\n",
       "      <td>2.289426</td>\n",
       "    </tr>\n",
       "  </tbody>\n",
       "</table>\n",
       "</div>"
      ],
      "text/plain": [
       "                 DOW    NASDAQ    S&P500\n",
       "2000-01-01  0.555845  1.009969 -1.190773\n",
       "2000-01-02 -1.748919 -1.348599  0.608051\n",
       "2000-01-03  0.107232  1.706671  2.289426"
      ]
     },
     "execution_count": 54,
     "metadata": {},
     "output_type": "execute_result"
    }
   ],
   "source": [
    "tsdf.head(3)"
   ]
  },
  {
   "cell_type": "code",
   "execution_count": 55,
   "id": "a820e506-45a6-458a-a7cf-010da96d8126",
   "metadata": {},
   "outputs": [
    {
     "data": {
      "text/html": [
       "<div>\n",
       "<style scoped>\n",
       "    .dataframe tbody tr th:only-of-type {\n",
       "        vertical-align: middle;\n",
       "    }\n",
       "\n",
       "    .dataframe tbody tr th {\n",
       "        vertical-align: top;\n",
       "    }\n",
       "\n",
       "    .dataframe thead th {\n",
       "        text-align: right;\n",
       "    }\n",
       "</style>\n",
       "<table border=\"1\" class=\"dataframe\">\n",
       "  <thead>\n",
       "    <tr style=\"text-align: right;\">\n",
       "      <th></th>\n",
       "      <th>DOW</th>\n",
       "      <th>NASDAQ</th>\n",
       "      <th>S&amp;P500</th>\n",
       "    </tr>\n",
       "  </thead>\n",
       "  <tbody>\n",
       "    <tr>\n",
       "      <th>DOW</th>\n",
       "      <td>1.167526</td>\n",
       "      <td>0.253206</td>\n",
       "      <td>-0.331411</td>\n",
       "    </tr>\n",
       "    <tr>\n",
       "      <th>NASDAQ</th>\n",
       "      <td>0.253206</td>\n",
       "      <td>1.894373</td>\n",
       "      <td>0.146538</td>\n",
       "    </tr>\n",
       "    <tr>\n",
       "      <th>S&amp;P500</th>\n",
       "      <td>-0.331411</td>\n",
       "      <td>0.146538</td>\n",
       "      <td>1.045690</td>\n",
       "    </tr>\n",
       "  </tbody>\n",
       "</table>\n",
       "</div>"
      ],
      "text/plain": [
       "             DOW    NASDAQ    S&P500\n",
       "DOW     1.167526  0.253206 -0.331411\n",
       "NASDAQ  0.253206  1.894373  0.146538\n",
       "S&P500 -0.331411  0.146538  1.045690"
      ]
     },
     "execution_count": 55,
     "metadata": {},
     "output_type": "execute_result"
    }
   ],
   "source": [
    "tsdf.cov()"
   ]
  },
  {
   "cell_type": "code",
   "execution_count": 56,
   "id": "a0c8de1a-d3e9-4ae7-9c2f-6eeaa1dac71d",
   "metadata": {},
   "outputs": [
    {
     "data": {
      "text/html": [
       "<div>\n",
       "<style scoped>\n",
       "    .dataframe tbody tr th:only-of-type {\n",
       "        vertical-align: middle;\n",
       "    }\n",
       "\n",
       "    .dataframe tbody tr th {\n",
       "        vertical-align: top;\n",
       "    }\n",
       "\n",
       "    .dataframe thead th {\n",
       "        text-align: right;\n",
       "    }\n",
       "</style>\n",
       "<table border=\"1\" class=\"dataframe\">\n",
       "  <thead>\n",
       "    <tr style=\"text-align: right;\">\n",
       "      <th></th>\n",
       "      <th>DOW</th>\n",
       "      <th>NASDAQ</th>\n",
       "      <th>S&amp;P500</th>\n",
       "    </tr>\n",
       "  </thead>\n",
       "  <tbody>\n",
       "    <tr>\n",
       "      <th>DOW</th>\n",
       "      <td>1.000000</td>\n",
       "      <td>0.236364</td>\n",
       "      <td>-0.296970</td>\n",
       "    </tr>\n",
       "    <tr>\n",
       "      <th>NASDAQ</th>\n",
       "      <td>0.236364</td>\n",
       "      <td>1.000000</td>\n",
       "      <td>0.078788</td>\n",
       "    </tr>\n",
       "    <tr>\n",
       "      <th>S&amp;P500</th>\n",
       "      <td>-0.296970</td>\n",
       "      <td>0.078788</td>\n",
       "      <td>1.000000</td>\n",
       "    </tr>\n",
       "  </tbody>\n",
       "</table>\n",
       "</div>"
      ],
      "text/plain": [
       "             DOW    NASDAQ    S&P500\n",
       "DOW     1.000000  0.236364 -0.296970\n",
       "NASDAQ  0.236364  1.000000  0.078788\n",
       "S&P500 -0.296970  0.078788  1.000000"
      ]
     },
     "execution_count": 56,
     "metadata": {},
     "output_type": "execute_result"
    }
   ],
   "source": [
    "tsdf.corr(method='spearman')"
   ]
  },
  {
   "cell_type": "code",
   "execution_count": 57,
   "id": "b345b942-2e80-4331-88d0-2189766dce72",
   "metadata": {},
   "outputs": [
    {
     "data": {
      "text/plain": [
       "a    1.216196\n",
       "b    0.777482\n",
       "c   -0.246684\n",
       "d   -1.470868\n",
       "e    0.440191\n",
       "dtype: float64"
      ]
     },
     "execution_count": 57,
     "metadata": {},
     "output_type": "execute_result"
    }
   ],
   "source": [
    "import pandas as pd\n",
    "import numpy as np\n",
    "s = pd.Series(np.random.randn(5), index=list('abcde'))\n",
    "s"
   ]
  },
  {
   "cell_type": "code",
   "execution_count": 58,
   "id": "de193198-35c9-4759-8dc0-b5ad3038f303",
   "metadata": {},
   "outputs": [
    {
     "data": {
      "text/plain": [
       "a    5.0\n",
       "b    4.0\n",
       "c    2.0\n",
       "d    1.0\n",
       "e    3.0\n",
       "dtype: float64"
      ]
     },
     "execution_count": 58,
     "metadata": {},
     "output_type": "execute_result"
    }
   ],
   "source": [
    "s.rank()\n"
   ]
  },
  {
   "cell_type": "code",
   "execution_count": 59,
   "id": "99058e03-f55f-4fe7-9c61-f35177024d48",
   "metadata": {},
   "outputs": [
    {
     "data": {
      "text/html": [
       "<div>\n",
       "<style scoped>\n",
       "    .dataframe tbody tr th:only-of-type {\n",
       "        vertical-align: middle;\n",
       "    }\n",
       "\n",
       "    .dataframe tbody tr th {\n",
       "        vertical-align: top;\n",
       "    }\n",
       "\n",
       "    .dataframe thead th {\n",
       "        text-align: right;\n",
       "    }\n",
       "</style>\n",
       "<table border=\"1\" class=\"dataframe\">\n",
       "  <thead>\n",
       "    <tr style=\"text-align: right;\">\n",
       "      <th></th>\n",
       "      <th>DOW</th>\n",
       "      <th>NASDAQ</th>\n",
       "      <th>S&amp;P500</th>\n",
       "    </tr>\n",
       "  </thead>\n",
       "  <tbody>\n",
       "    <tr>\n",
       "      <th>2000-01-01</th>\n",
       "      <td>7.0</td>\n",
       "      <td>7.0</td>\n",
       "      <td>1.0</td>\n",
       "    </tr>\n",
       "    <tr>\n",
       "      <th>2000-01-02</th>\n",
       "      <td>1.0</td>\n",
       "      <td>2.0</td>\n",
       "      <td>8.0</td>\n",
       "    </tr>\n",
       "    <tr>\n",
       "      <th>2000-01-03</th>\n",
       "      <td>6.0</td>\n",
       "      <td>10.0</td>\n",
       "      <td>10.0</td>\n",
       "    </tr>\n",
       "    <tr>\n",
       "      <th>2000-01-04</th>\n",
       "      <td>8.0</td>\n",
       "      <td>8.0</td>\n",
       "      <td>4.0</td>\n",
       "    </tr>\n",
       "    <tr>\n",
       "      <th>2000-01-05</th>\n",
       "      <td>10.0</td>\n",
       "      <td>4.0</td>\n",
       "      <td>7.0</td>\n",
       "    </tr>\n",
       "    <tr>\n",
       "      <th>2000-01-06</th>\n",
       "      <td>4.0</td>\n",
       "      <td>9.0</td>\n",
       "      <td>5.0</td>\n",
       "    </tr>\n",
       "    <tr>\n",
       "      <th>2000-01-07</th>\n",
       "      <td>5.0</td>\n",
       "      <td>1.0</td>\n",
       "      <td>6.0</td>\n",
       "    </tr>\n",
       "    <tr>\n",
       "      <th>2000-01-08</th>\n",
       "      <td>3.0</td>\n",
       "      <td>3.0</td>\n",
       "      <td>2.0</td>\n",
       "    </tr>\n",
       "    <tr>\n",
       "      <th>2000-01-09</th>\n",
       "      <td>9.0</td>\n",
       "      <td>5.0</td>\n",
       "      <td>3.0</td>\n",
       "    </tr>\n",
       "    <tr>\n",
       "      <th>2000-01-10</th>\n",
       "      <td>2.0</td>\n",
       "      <td>6.0</td>\n",
       "      <td>9.0</td>\n",
       "    </tr>\n",
       "  </tbody>\n",
       "</table>\n",
       "</div>"
      ],
      "text/plain": [
       "             DOW  NASDAQ  S&P500\n",
       "2000-01-01   7.0     7.0     1.0\n",
       "2000-01-02   1.0     2.0     8.0\n",
       "2000-01-03   6.0    10.0    10.0\n",
       "2000-01-04   8.0     8.0     4.0\n",
       "2000-01-05  10.0     4.0     7.0\n",
       "2000-01-06   4.0     9.0     5.0\n",
       "2000-01-07   5.0     1.0     6.0\n",
       "2000-01-08   3.0     3.0     2.0\n",
       "2000-01-09   9.0     5.0     3.0\n",
       "2000-01-10   2.0     6.0     9.0"
      ]
     },
     "execution_count": 59,
     "metadata": {},
     "output_type": "execute_result"
    }
   ],
   "source": [
    "tsdf.rank(axis=0)"
   ]
  },
  {
   "cell_type": "code",
   "execution_count": 60,
   "id": "2eb6c59b-54c7-408c-8cb2-248b682ffeec",
   "metadata": {},
   "outputs": [
    {
     "data": {
      "text/html": [
       "<div>\n",
       "<style scoped>\n",
       "    .dataframe tbody tr th:only-of-type {\n",
       "        vertical-align: middle;\n",
       "    }\n",
       "\n",
       "    .dataframe tbody tr th {\n",
       "        vertical-align: top;\n",
       "    }\n",
       "\n",
       "    .dataframe thead th {\n",
       "        text-align: right;\n",
       "    }\n",
       "</style>\n",
       "<table border=\"1\" class=\"dataframe\">\n",
       "  <thead>\n",
       "    <tr style=\"text-align: right;\">\n",
       "      <th></th>\n",
       "      <th>DOW</th>\n",
       "      <th>NASDAQ</th>\n",
       "      <th>S&amp;P500</th>\n",
       "    </tr>\n",
       "  </thead>\n",
       "  <tbody>\n",
       "    <tr>\n",
       "      <th>2000-01-01</th>\n",
       "      <td>2.0</td>\n",
       "      <td>3.0</td>\n",
       "      <td>1.0</td>\n",
       "    </tr>\n",
       "    <tr>\n",
       "      <th>2000-01-02</th>\n",
       "      <td>1.0</td>\n",
       "      <td>2.0</td>\n",
       "      <td>3.0</td>\n",
       "    </tr>\n",
       "    <tr>\n",
       "      <th>2000-01-03</th>\n",
       "      <td>1.0</td>\n",
       "      <td>2.0</td>\n",
       "      <td>3.0</td>\n",
       "    </tr>\n",
       "    <tr>\n",
       "      <th>2000-01-04</th>\n",
       "      <td>2.0</td>\n",
       "      <td>3.0</td>\n",
       "      <td>1.0</td>\n",
       "    </tr>\n",
       "    <tr>\n",
       "      <th>2000-01-05</th>\n",
       "      <td>3.0</td>\n",
       "      <td>1.0</td>\n",
       "      <td>2.0</td>\n",
       "    </tr>\n",
       "    <tr>\n",
       "      <th>2000-01-06</th>\n",
       "      <td>2.0</td>\n",
       "      <td>3.0</td>\n",
       "      <td>1.0</td>\n",
       "    </tr>\n",
       "    <tr>\n",
       "      <th>2000-01-07</th>\n",
       "      <td>3.0</td>\n",
       "      <td>1.0</td>\n",
       "      <td>2.0</td>\n",
       "    </tr>\n",
       "    <tr>\n",
       "      <th>2000-01-08</th>\n",
       "      <td>3.0</td>\n",
       "      <td>1.0</td>\n",
       "      <td>2.0</td>\n",
       "    </tr>\n",
       "    <tr>\n",
       "      <th>2000-01-09</th>\n",
       "      <td>3.0</td>\n",
       "      <td>2.0</td>\n",
       "      <td>1.0</td>\n",
       "    </tr>\n",
       "    <tr>\n",
       "      <th>2000-01-10</th>\n",
       "      <td>1.0</td>\n",
       "      <td>2.0</td>\n",
       "      <td>3.0</td>\n",
       "    </tr>\n",
       "  </tbody>\n",
       "</table>\n",
       "</div>"
      ],
      "text/plain": [
       "            DOW  NASDAQ  S&P500\n",
       "2000-01-01  2.0     3.0     1.0\n",
       "2000-01-02  1.0     2.0     3.0\n",
       "2000-01-03  1.0     2.0     3.0\n",
       "2000-01-04  2.0     3.0     1.0\n",
       "2000-01-05  3.0     1.0     2.0\n",
       "2000-01-06  2.0     3.0     1.0\n",
       "2000-01-07  3.0     1.0     2.0\n",
       "2000-01-08  3.0     1.0     2.0\n",
       "2000-01-09  3.0     2.0     1.0\n",
       "2000-01-10  1.0     2.0     3.0"
      ]
     },
     "execution_count": 60,
     "metadata": {},
     "output_type": "execute_result"
    }
   ],
   "source": [
    "tsdf.rank(axis=1)"
   ]
  },
  {
   "cell_type": "code",
   "execution_count": 61,
   "id": "fab699dc-350a-442d-8c34-cf725f6f0f33",
   "metadata": {},
   "outputs": [
    {
     "data": {
      "text/html": [
       "<div>\n",
       "<style scoped>\n",
       "    .dataframe tbody tr th:only-of-type {\n",
       "        vertical-align: middle;\n",
       "    }\n",
       "\n",
       "    .dataframe tbody tr th {\n",
       "        vertical-align: top;\n",
       "    }\n",
       "\n",
       "    .dataframe thead th {\n",
       "        text-align: right;\n",
       "    }\n",
       "</style>\n",
       "<table border=\"1\" class=\"dataframe\">\n",
       "  <thead>\n",
       "    <tr style=\"text-align: right;\">\n",
       "      <th></th>\n",
       "      <th>A</th>\n",
       "      <th>B</th>\n",
       "      <th>C</th>\n",
       "      <th>D</th>\n",
       "    </tr>\n",
       "  </thead>\n",
       "  <tbody>\n",
       "    <tr>\n",
       "      <th>0</th>\n",
       "      <td>plant</td>\n",
       "      <td>apple</td>\n",
       "      <td>-0.230037</td>\n",
       "      <td>0.216062</td>\n",
       "    </tr>\n",
       "    <tr>\n",
       "      <th>1</th>\n",
       "      <td>animal</td>\n",
       "      <td>goat</td>\n",
       "      <td>0.223778</td>\n",
       "      <td>-0.725920</td>\n",
       "    </tr>\n",
       "    <tr>\n",
       "      <th>2</th>\n",
       "      <td>plant</td>\n",
       "      <td>kiwi</td>\n",
       "      <td>0.538707</td>\n",
       "      <td>-1.015244</td>\n",
       "    </tr>\n",
       "    <tr>\n",
       "      <th>3</th>\n",
       "      <td>plant</td>\n",
       "      <td>grape</td>\n",
       "      <td>-0.828536</td>\n",
       "      <td>1.010723</td>\n",
       "    </tr>\n",
       "  </tbody>\n",
       "</table>\n",
       "</div>"
      ],
      "text/plain": [
       "        A      B         C         D\n",
       "0   plant  apple -0.230037  0.216062\n",
       "1  animal   goat  0.223778 -0.725920\n",
       "2   plant   kiwi  0.538707 -1.015244\n",
       "3   plant  grape -0.828536  1.010723"
      ]
     },
     "execution_count": 61,
     "metadata": {},
     "output_type": "execute_result"
    }
   ],
   "source": [
    "df = pd.DataFrame({'A' : ['plant', 'animal', 'plant', 'plant'],\n",
    "                   'B' : ['apple', 'goat', 'kiwi', 'grape'],\n",
    "                   'C' : np.random.randn(4),\n",
    "                   'D' : np.random.randn(4)})\n",
    "df"
   ]
  },
  {
   "cell_type": "code",
   "execution_count": 62,
   "id": "6c0be0b2-bcf7-4c58-92bb-3de40e169c9c",
   "metadata": {},
   "outputs": [
    {
     "data": {
      "text/plain": [
       "<pandas.core.groupby.generic.DataFrameGroupBy object at 0x0000020997A96A20>"
      ]
     },
     "execution_count": 62,
     "metadata": {},
     "output_type": "execute_result"
    }
   ],
   "source": [
    "df.groupby('A')"
   ]
  },
  {
   "cell_type": "code",
   "execution_count": 63,
   "id": "38eb5c42-c3a7-4c3d-9725-b7a88c148962",
   "metadata": {},
   "outputs": [
    {
     "data": {
      "text/html": [
       "<div>\n",
       "<style scoped>\n",
       "    .dataframe tbody tr th:only-of-type {\n",
       "        vertical-align: middle;\n",
       "    }\n",
       "\n",
       "    .dataframe tbody tr th {\n",
       "        vertical-align: top;\n",
       "    }\n",
       "\n",
       "    .dataframe thead th {\n",
       "        text-align: right;\n",
       "    }\n",
       "</style>\n",
       "<table border=\"1\" class=\"dataframe\">\n",
       "  <thead>\n",
       "    <tr style=\"text-align: right;\">\n",
       "      <th></th>\n",
       "      <th>C</th>\n",
       "      <th>D</th>\n",
       "    </tr>\n",
       "    <tr>\n",
       "      <th>A</th>\n",
       "      <th></th>\n",
       "      <th></th>\n",
       "    </tr>\n",
       "  </thead>\n",
       "  <tbody>\n",
       "    <tr>\n",
       "      <th>animal</th>\n",
       "      <td>0.223778</td>\n",
       "      <td>-0.725920</td>\n",
       "    </tr>\n",
       "    <tr>\n",
       "      <th>plant</th>\n",
       "      <td>-0.173289</td>\n",
       "      <td>0.070513</td>\n",
       "    </tr>\n",
       "  </tbody>\n",
       "</table>\n",
       "</div>"
      ],
      "text/plain": [
       "               C         D\n",
       "A                         \n",
       "animal  0.223778 -0.725920\n",
       "plant  -0.173289  0.070513"
      ]
     },
     "execution_count": 63,
     "metadata": {},
     "output_type": "execute_result"
    }
   ],
   "source": [
    "# 在组‘A’上拆分，然后在每个组内计算平均值。\n",
    "# 注意，对于不支持平均值的列将被移除，所以列‘B’不会出现在结果中。\n",
    "df.groupby('A')[['C', 'D']].mean()"
   ]
  },
  {
   "cell_type": "code",
   "execution_count": 64,
   "id": "b47b04da-9160-4386-b9fa-56f51dfad8d7",
   "metadata": {},
   "outputs": [
    {
     "data": {
      "text/plain": [
       "major  handedness\n",
       "math   left          1.374531\n",
       "       right        -0.674679\n",
       "econ   left          0.385960\n",
       "       right        -0.219831\n",
       "stats  left          3.479059\n",
       "       right         0.423206\n",
       "dtype: float64"
      ]
     },
     "execution_count": 64,
     "metadata": {},
     "output_type": "execute_result"
    }
   ],
   "source": [
    "# 构建一个层次化索引的Series（即，多索引），记录（虚构的）按专业和惯用手的学生分数。\n",
    "arrs = [['math', 'math', 'econ', 'econ', 'stats', 'stats'],\n",
    "          ['left', 'right', 'left', 'right', 'left', 'right']]\n",
    "index = pd.MultiIndex.from_arrays(arrs, names=['major', 'handedness'])\n",
    "s = pd.Series(np.random.randn(6), index=index)\n",
    "s"
   ]
  },
  {
   "cell_type": "code",
   "execution_count": 65,
   "id": "f543d866-23b6-4d01-b3ef-f157a3df8a28",
   "metadata": {},
   "outputs": [
    {
     "data": {
      "text/plain": [
       "major\n",
       "econ     0.083065\n",
       "math     0.349926\n",
       "stats    1.951133\n",
       "dtype: float64"
      ]
     },
     "execution_count": 65,
     "metadata": {},
     "output_type": "execute_result"
    }
   ],
   "source": [
    "# 假设我想在忽略惯用手的情况下按专业得到平均分数。\n",
    "# 按层次结构的0级（即，‘major’）进行分组，并取平均值\n",
    "s.groupby('major').mean()"
   ]
  },
  {
   "cell_type": "code",
   "execution_count": 66,
   "id": "573767e9-64da-449d-95e1-34afcabdc0af",
   "metadata": {},
   "outputs": [
    {
     "name": "stdout",
     "output_type": "stream",
     "text": [
      "   A  B  B_mean     B_std   Z_Score\n",
      "0  a  1     2.0  1.414214 -0.707107\n",
      "1  a  3     2.0  1.414214  0.707107\n",
      "2  b  3     3.5  0.707107 -0.707107\n",
      "3  b  4     3.5  0.707107  0.707107\n",
      "4  c  5     5.5  0.707107 -0.707107\n",
      "5  c  6     5.5  0.707107  0.707107\n"
     ]
    }
   ],
   "source": [
    "import pandas as pd\n",
    "df = pd.DataFrame({\n",
    "    'A': ['a', 'a', 'b', 'b', 'c', 'c'],\n",
    "    'B': [1, 3, 3, 4, 5, 6],\n",
    "})\n",
    "zscore = lambda x: (x - x.mean()) / x.std()\n",
    "\n",
    "# 对数据框架进行分组，并对分组后的数据进行转换\n",
    "df['B_mean'] = df.groupby('A')['B'].transform('mean')\n",
    "df['B_std'] = df.groupby('A')['B'].transform('std')\n",
    "df['Z_Score'] = df.groupby('A')['B'].transform(zscore)\n",
    "\n",
    "print(df)"
   ]
  },
  {
   "cell_type": "code",
   "execution_count": 67,
   "id": "cfd8a254-cc60-41a8-9eab-270bd1a66066",
   "metadata": {},
   "outputs": [
    {
     "data": {
      "text/plain": [
       "2    3\n",
       "3    4\n",
       "4    5\n",
       "5    6\n",
       "Name: B, dtype: int64"
      ]
     },
     "execution_count": 67,
     "metadata": {},
     "output_type": "execute_result"
    }
   ],
   "source": [
    "# * 所以这将丢弃所有均值小于等于2的组\n",
    "df_filtered = df.groupby('A')['B'].filter(lambda x: x.mean()>2)\n",
    "df_filtered"
   ]
  },
  {
   "cell_type": "code",
   "execution_count": 68,
   "id": "54e60e64-4a59-476d-b761-517dbdcf5d80",
   "metadata": {},
   "outputs": [
    {
     "data": {
      "text/html": [
       "<div>\n",
       "<style scoped>\n",
       "    .dataframe tbody tr th:only-of-type {\n",
       "        vertical-align: middle;\n",
       "    }\n",
       "\n",
       "    .dataframe tbody tr th {\n",
       "        vertical-align: top;\n",
       "    }\n",
       "\n",
       "    .dataframe thead th {\n",
       "        text-align: right;\n",
       "    }\n",
       "</style>\n",
       "<table border=\"1\" class=\"dataframe\">\n",
       "  <thead>\n",
       "    <tr style=\"text-align: right;\">\n",
       "      <th></th>\n",
       "      <th>A</th>\n",
       "      <th>B</th>\n",
       "      <th>C</th>\n",
       "    </tr>\n",
       "  </thead>\n",
       "  <tbody>\n",
       "    <tr>\n",
       "      <th>0</th>\n",
       "      <td>-0.012279</td>\n",
       "      <td>0.490301</td>\n",
       "      <td>1.026728</td>\n",
       "    </tr>\n",
       "    <tr>\n",
       "      <th>1</th>\n",
       "      <td>-0.356936</td>\n",
       "      <td>0.662965</td>\n",
       "      <td>-1.734937</td>\n",
       "    </tr>\n",
       "    <tr>\n",
       "      <th>2</th>\n",
       "      <td>-0.088602</td>\n",
       "      <td>-1.255429</td>\n",
       "      <td>-1.140953</td>\n",
       "    </tr>\n",
       "    <tr>\n",
       "      <th>3</th>\n",
       "      <td>-0.748437</td>\n",
       "      <td>-1.314912</td>\n",
       "      <td>0.041127</td>\n",
       "    </tr>\n",
       "    <tr>\n",
       "      <th>4</th>\n",
       "      <td>-0.370162</td>\n",
       "      <td>-1.935569</td>\n",
       "      <td>-0.905743</td>\n",
       "    </tr>\n",
       "    <tr>\n",
       "      <th>5</th>\n",
       "      <td>0.498665</td>\n",
       "      <td>-0.123706</td>\n",
       "      <td>-0.026089</td>\n",
       "    </tr>\n",
       "    <tr>\n",
       "      <th>6</th>\n",
       "      <td>0.014765</td>\n",
       "      <td>-1.334430</td>\n",
       "      <td>2.222096</td>\n",
       "    </tr>\n",
       "    <tr>\n",
       "      <th>7</th>\n",
       "      <td>1.080689</td>\n",
       "      <td>0.915541</td>\n",
       "      <td>-0.205828</td>\n",
       "    </tr>\n",
       "  </tbody>\n",
       "</table>\n",
       "</div>"
      ],
      "text/plain": [
       "          A         B         C\n",
       "0 -0.012279  0.490301  1.026728\n",
       "1 -0.356936  0.662965 -1.734937\n",
       "2 -0.088602 -1.255429 -1.140953\n",
       "3 -0.748437 -1.314912  0.041127\n",
       "4 -0.370162 -1.935569 -0.905743\n",
       "5  0.498665 -0.123706 -0.026089\n",
       "6  0.014765 -1.334430  2.222096\n",
       "7  1.080689  0.915541 -0.205828"
      ]
     },
     "execution_count": 68,
     "metadata": {},
     "output_type": "execute_result"
    }
   ],
   "source": [
    "df1 = pd.DataFrame({'A':np.random.randn(4),\n",
    "                    'B':np.random.randn(4),\n",
    "                    'C':np.random.randn(4)},\n",
    "                   index=[0,1,2,3])\n",
    "df2 = pd.DataFrame({'A':np.random.randn(4),\n",
    "                    'B':np.random.randn(4),\n",
    "                    'C':np.random.randn(4)},\n",
    "                   index=[4,5,6,7])\n",
    "pd.concat([df1,df2])"
   ]
  },
  {
   "cell_type": "code",
   "execution_count": 69,
   "id": "a8e74427-8a80-4762-9778-5b801e969867",
   "metadata": {},
   "outputs": [
    {
     "data": {
      "text/html": [
       "<div>\n",
       "<style scoped>\n",
       "    .dataframe tbody tr th:only-of-type {\n",
       "        vertical-align: middle;\n",
       "    }\n",
       "\n",
       "    .dataframe tbody tr th {\n",
       "        vertical-align: top;\n",
       "    }\n",
       "\n",
       "    .dataframe thead th {\n",
       "        text-align: right;\n",
       "    }\n",
       "</style>\n",
       "<table border=\"1\" class=\"dataframe\">\n",
       "  <thead>\n",
       "    <tr style=\"text-align: right;\">\n",
       "      <th></th>\n",
       "      <th>A</th>\n",
       "      <th>B</th>\n",
       "      <th>C</th>\n",
       "    </tr>\n",
       "  </thead>\n",
       "  <tbody>\n",
       "    <tr>\n",
       "      <th>0</th>\n",
       "      <td>1.219297</td>\n",
       "      <td>-0.877769</td>\n",
       "      <td>-0.158106</td>\n",
       "    </tr>\n",
       "    <tr>\n",
       "      <th>1</th>\n",
       "      <td>0.307676</td>\n",
       "      <td>0.017088</td>\n",
       "      <td>0.487945</td>\n",
       "    </tr>\n",
       "    <tr>\n",
       "      <th>2</th>\n",
       "      <td>-1.579874</td>\n",
       "      <td>-1.248218</td>\n",
       "      <td>1.376761</td>\n",
       "    </tr>\n",
       "    <tr>\n",
       "      <th>3</th>\n",
       "      <td>-0.368481</td>\n",
       "      <td>-0.003725</td>\n",
       "      <td>-0.128234</td>\n",
       "    </tr>\n",
       "    <tr>\n",
       "      <th>3</th>\n",
       "      <td>-0.400157</td>\n",
       "      <td>0.846009</td>\n",
       "      <td>NaN</td>\n",
       "    </tr>\n",
       "    <tr>\n",
       "      <th>4</th>\n",
       "      <td>-0.649434</td>\n",
       "      <td>2.131915</td>\n",
       "      <td>NaN</td>\n",
       "    </tr>\n",
       "    <tr>\n",
       "      <th>5</th>\n",
       "      <td>-2.412951</td>\n",
       "      <td>-1.156462</td>\n",
       "      <td>NaN</td>\n",
       "    </tr>\n",
       "    <tr>\n",
       "      <th>6</th>\n",
       "      <td>1.951079</td>\n",
       "      <td>-1.105371</td>\n",
       "      <td>NaN</td>\n",
       "    </tr>\n",
       "  </tbody>\n",
       "</table>\n",
       "</div>"
      ],
      "text/plain": [
       "          A         B         C\n",
       "0  1.219297 -0.877769 -0.158106\n",
       "1  0.307676  0.017088  0.487945\n",
       "2 -1.579874 -1.248218  1.376761\n",
       "3 -0.368481 -0.003725 -0.128234\n",
       "3 -0.400157  0.846009       NaN\n",
       "4 -0.649434  2.131915       NaN\n",
       "5 -2.412951 -1.156462       NaN\n",
       "6  1.951079 -1.105371       NaN"
      ]
     },
     "execution_count": 69,
     "metadata": {},
     "output_type": "execute_result"
    }
   ],
   "source": [
    "df1 = pd.DataFrame({'A':np.random.randn(4),\n",
    "                    'B':np.random.randn(4),\n",
    "                    'C':np.random.randn(4)},\n",
    "                   index=[0,1,2,3])\n",
    "df2 = pd.DataFrame({'A':np.random.randn(4),\n",
    "                    'B':np.random.randn(4)},\n",
    "                   index=[3,4,5,6])\n",
    "pd.concat([df1,df2])"
   ]
  },
  {
   "cell_type": "code",
   "execution_count": 70,
   "id": "bd68e3cb-1215-4b14-9c3e-531427705399",
   "metadata": {},
   "outputs": [
    {
     "name": "stdout",
     "output_type": "stream",
     "text": [
      "  key  value1  value2\n",
      "0   A     1.0       4\n",
      "1   B     2.0       5\n",
      "2   D     NaN       6\n"
     ]
    }
   ],
   "source": [
    "# merge 函数用于合并两个数据框架，基于一个或多个公共列。它可以进行内连接、左连接、右连接和全外连接。\n",
    "df1 = pd.DataFrame({'key': ['A', 'B', 'C'], 'value1': [1, 2, 3]})\n",
    "df2 = pd.DataFrame({'key': ['A', 'B', 'D'], 'value2': [4, 5, 6]})\n",
    "df_merge = pd.merge(df1, df2, on='key', how='right')\n",
    "print(df_merge)"
   ]
  },
  {
   "cell_type": "code",
   "execution_count": 71,
   "id": "34016578-c7c2-41c9-b0d6-7943956da37c",
   "metadata": {},
   "outputs": [
    {
     "name": "stdout",
     "output_type": "stream",
     "text": [
      "   value1  value2\n",
      "A     1.0     4.0\n",
      "B     2.0     5.0\n",
      "C     3.0     NaN\n",
      "D     NaN     6.0\n"
     ]
    }
   ],
   "source": [
    "# join 函数用于合并两个数据框架，基于索引。\n",
    "import pandas as pd\n",
    "df1 = pd.DataFrame({'value1': [1, 2, 3]}, index=['A', 'B', 'C'])\n",
    "df2 = pd.DataFrame({'value2': [4, 5, 6]}, index=['A', 'B', 'D'])\n",
    "df_join = df1.join(df2, how='outer')\n",
    "print(df_join)"
   ]
  },
  {
   "cell_type": "code",
   "execution_count": 72,
   "id": "b78cd879-2349-4106-84ac-992879c6d7d0",
   "metadata": {},
   "outputs": [
    {
     "data": {
      "text/html": [
       "<div>\n",
       "<style scoped>\n",
       "    .dataframe tbody tr th:only-of-type {\n",
       "        vertical-align: middle;\n",
       "    }\n",
       "\n",
       "    .dataframe tbody tr th {\n",
       "        vertical-align: top;\n",
       "    }\n",
       "\n",
       "    .dataframe thead th {\n",
       "        text-align: right;\n",
       "    }\n",
       "</style>\n",
       "<table border=\"1\" class=\"dataframe\">\n",
       "  <thead>\n",
       "    <tr style=\"text-align: right;\">\n",
       "      <th></th>\n",
       "      <th>Name</th>\n",
       "      <th>Year</th>\n",
       "      <th>Sales</th>\n",
       "      <th>Salary</th>\n",
       "    </tr>\n",
       "  </thead>\n",
       "  <tbody>\n",
       "    <tr>\n",
       "      <th>0</th>\n",
       "      <td>Alice</td>\n",
       "      <td>2018</td>\n",
       "      <td>100</td>\n",
       "      <td>3000</td>\n",
       "    </tr>\n",
       "    <tr>\n",
       "      <th>1</th>\n",
       "      <td>Bob</td>\n",
       "      <td>2018</td>\n",
       "      <td>200</td>\n",
       "      <td>20000</td>\n",
       "    </tr>\n",
       "    <tr>\n",
       "      <th>2</th>\n",
       "      <td>Alice</td>\n",
       "      <td>2019</td>\n",
       "      <td>150</td>\n",
       "      <td>15000</td>\n",
       "    </tr>\n",
       "    <tr>\n",
       "      <th>3</th>\n",
       "      <td>Bob</td>\n",
       "      <td>2019</td>\n",
       "      <td>250</td>\n",
       "      <td>5500</td>\n",
       "    </tr>\n",
       "  </tbody>\n",
       "</table>\n",
       "</div>"
      ],
      "text/plain": [
       "    Name  Year  Sales  Salary\n",
       "0  Alice  2018    100    3000\n",
       "1    Bob  2018    200   20000\n",
       "2  Alice  2019    150   15000\n",
       "3    Bob  2019    250    5500"
      ]
     },
     "execution_count": 72,
     "metadata": {},
     "output_type": "execute_result"
    }
   ],
   "source": [
    "# 这种格式的数据通常被称为堆叠。\n",
    "# 通常在文件中以这种形式存储数据\n",
    "# 但一旦读入表格，通常更有意义的是为2018和2019创建列。也就是说，我们希望将这个DataFrame解堆叠\n",
    "data = {'Name': ['Alice', 'Bob', 'Alice', 'Bob'],\n",
    "        'Year': [2018, 2018, 2019, 2019],\n",
    "        'Sales': [100, 200, 150, 250],\n",
    "        'Salary': [3000, 20000, 15000, 5500]}\n",
    "df = pd.DataFrame(data)\n",
    "df"
   ]
  },
  {
   "cell_type": "code",
   "execution_count": 73,
   "id": "e9395a0d-471d-408c-b5fd-d9505336122e",
   "metadata": {},
   "outputs": [
    {
     "name": "stdout",
     "output_type": "stream",
     "text": [
      "      Sales      Salary       \n",
      "Year   2018 2019   2018   2019\n",
      "Name                          \n",
      "Alice   100  150   3000  15000\n",
      "Bob     200  250  20000   5500\n"
     ]
    }
   ],
   "source": [
    "# 使用 pivot 函数进行数据转换\n",
    "df_pivot = df.pivot(index='Name', columns='Year', values=['Sales', 'Salary'])\n",
    "print(df_pivot)"
   ]
  },
  {
   "cell_type": "code",
   "execution_count": 74,
   "id": "fe464c5c-fd8a-4a86-b043-4427b72e772b",
   "metadata": {},
   "outputs": [
    {
     "data": {
      "text/html": [
       "<div>\n",
       "<style scoped>\n",
       "    .dataframe tbody tr th:only-of-type {\n",
       "        vertical-align: middle;\n",
       "    }\n",
       "\n",
       "    .dataframe tbody tr th {\n",
       "        vertical-align: top;\n",
       "    }\n",
       "\n",
       "    .dataframe thead th {\n",
       "        text-align: right;\n",
       "    }\n",
       "</style>\n",
       "<table border=\"1\" class=\"dataframe\">\n",
       "  <thead>\n",
       "    <tr style=\"text-align: right;\">\n",
       "      <th></th>\n",
       "      <th></th>\n",
       "      <th>Sales</th>\n",
       "      <th>Salary</th>\n",
       "    </tr>\n",
       "    <tr>\n",
       "      <th>Name</th>\n",
       "      <th>Year</th>\n",
       "      <th></th>\n",
       "      <th></th>\n",
       "    </tr>\n",
       "  </thead>\n",
       "  <tbody>\n",
       "    <tr>\n",
       "      <th rowspan=\"2\" valign=\"top\">Alice</th>\n",
       "      <th>2018</th>\n",
       "      <td>100</td>\n",
       "      <td>3000</td>\n",
       "    </tr>\n",
       "    <tr>\n",
       "      <th>2019</th>\n",
       "      <td>150</td>\n",
       "      <td>15000</td>\n",
       "    </tr>\n",
       "    <tr>\n",
       "      <th rowspan=\"2\" valign=\"top\">Bob</th>\n",
       "      <th>2018</th>\n",
       "      <td>200</td>\n",
       "      <td>20000</td>\n",
       "    </tr>\n",
       "    <tr>\n",
       "      <th>2019</th>\n",
       "      <td>250</td>\n",
       "      <td>5500</td>\n",
       "    </tr>\n",
       "  </tbody>\n",
       "</table>\n",
       "</div>"
      ],
      "text/plain": [
       "            Sales  Salary\n",
       "Name  Year               \n",
       "Alice 2018    100    3000\n",
       "      2019    150   15000\n",
       "Bob   2018    200   20000\n",
       "      2019    250    5500"
      ]
     },
     "execution_count": 74,
     "metadata": {},
     "output_type": "execute_result"
    }
   ],
   "source": [
    "df_stack = df_pivot.stack()\n",
    "df_stack\n"
   ]
  },
  {
   "cell_type": "code",
   "execution_count": 75,
   "id": "04ff0122-39b1-4347-8b4f-823308bed37b",
   "metadata": {},
   "outputs": [
    {
     "data": {
      "text/plain": [
       "(Index(['Alice', 'Bob'], dtype='object', name='Name'),\n",
       " MultiIndex([( 'Sales', 2018),\n",
       "             ( 'Sales', 2019),\n",
       "             ('Salary', 2018),\n",
       "             ('Salary', 2019)],\n",
       "            names=[None, 'Year']),\n",
       " MultiIndex([('Alice', 2018),\n",
       "             ('Alice', 2019),\n",
       "             (  'Bob', 2018),\n",
       "             (  'Bob', 2019)],\n",
       "            names=['Name', 'Year']),\n",
       " Index(['Sales', 'Salary'], dtype='object'))"
      ]
     },
     "execution_count": 75,
     "metadata": {},
     "output_type": "execute_result"
    }
   ],
   "source": [
    "df_pivot.index, df_pivot.columns, df_stack.index, df_stack.columns"
   ]
  },
  {
   "cell_type": "code",
   "execution_count": 76,
   "id": "21c2c175-3d9e-41e7-9b46-479cce7dd8c4",
   "metadata": {},
   "outputs": [
    {
     "data": {
      "image/png": "[encoded data removed]",
      "text/plain": [
       "<Figure size 640x480 with 1 Axes>"
      ]
     },
     "metadata": {},
     "output_type": "display_data"
    }
   ],
   "source": [
    "df = pd.DataFrame(np.random.randn(1000, 3),\n",
    "                  index=pd.date_range('1/1/2000', periods=1000),\n",
    "                  columns=['cat','bird','goat'])\n",
    "df_cumsum = df.cumsum()\n",
    "_ = df_cumsum.plot()"
   ]
  },
  {
   "cell_type": "code",
   "execution_count": null,
   "id": "6bc134c0-11b1-4ff4-a683-2cba7aaee0d1",
   "metadata": {},
   "outputs": [],
   "source": []
  }
 ],
 "metadata": {
  "kernelspec": {
   "display_name": "base",
   "language": "python",
   "name": "python3"
  },
  "language_info": {
   "codemirror_mode": {
    "name": "ipython",
    "version": 3
   },
   "file_extension": ".py",
   "mimetype": "text/x-python",
   "name": "python",
   "nbconvert_exporter": "python",
   "pygments_lexer": "ipython3",
   "version": "3.12.3"
  }
 },
 "nbformat": 4,
 "nbformat_minor": 5
}
