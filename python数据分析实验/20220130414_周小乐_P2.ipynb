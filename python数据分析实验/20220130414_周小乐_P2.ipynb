{
 "cells": [
  {
   "cell_type": "code",
   "execution_count": 105,
   "id": "751aa86a-767e-4034-8e91-251612ff8385",
   "metadata": {},
   "outputs": [
    {
     "name": "stdout",
     "output_type": "stream",
     "text": [
      "Windows\n",
      "11\n",
      "AMD64\n",
      "Intel64 Family 6 Model 154 Stepping 3, GenuineIntel\n",
      "20\n",
      "scpufreq(current=2300.0, min=0.0, max=2300.0)\n",
      "svmem(total=16890978304, available=6001377280, percent=64.5, used=10889601024, free=6001377280)\n"
     ]
    }
   ],
   "source": [
    "import psutil\n",
    "import platform\n",
    "\n",
    "print(platform.system())  # 操作系统名称\n",
    "print(platform.release())  # 操作系统版本\n",
    "print(platform.machine())  # 计算机架构\n",
    "print(platform.processor())  # 处理器类型\n",
    "\n",
    "# CPU 信息\n",
    "print(psutil.cpu_count())  # CPU 核数\n",
    "print(psutil.cpu_freq())  # CPU 频率\n",
    "\n",
    "# 内存信息\n",
    "print(psutil.virtual_memory())  # 内存总量、可用内存、已用内存等"
   ]
  },
  {
   "cell_type": "markdown",
   "id": "56c05fa7",
   "metadata": {},
   "source": [
    "# LECTURE07"
   ]
  },
  {
   "cell_type": "code",
   "execution_count": 106,
   "id": "5769804b",
   "metadata": {},
   "outputs": [
    {
     "data": {
      "text/plain": [
       "http.client.HTTPResponse"
      ]
     },
     "execution_count": 106,
     "metadata": {},
     "output_type": "execute_result"
    }
   ],
   "source": [
    "import urllib.request\n",
    "response = urllib.request.urlopen('https://kdding.github.io/researches.html')\n",
    "type(response)"
   ]
  },
  {
   "cell_type": "code",
   "execution_count": 107,
   "id": "8d5369b5",
   "metadata": {},
   "outputs": [
    {
     "data": {
      "text/plain": [
       "200"
      ]
     },
     "execution_count": 107,
     "metadata": {},
     "output_type": "execute_result"
    }
   ],
   "source": [
    "response.getcode()"
   ]
  },
  {
   "cell_type": "code",
   "execution_count": 108,
   "id": "a9a229c8",
   "metadata": {},
   "outputs": [
    {
     "data": {
      "text/plain": [
       "'https://kdding.github.io/researches.html'"
      ]
     },
     "execution_count": 108,
     "metadata": {},
     "output_type": "execute_result"
    }
   ],
   "source": [
    "response.geturl()"
   ]
  },
  {
   "cell_type": "code",
   "execution_count": 109,
   "id": "104441d1",
   "metadata": {},
   "outputs": [
    {
     "data": {
      "text/plain": [
       "'https://kdding.github.io/researches.html'"
      ]
     },
     "execution_count": 109,
     "metadata": {},
     "output_type": "execute_result"
    }
   ],
   "source": [
    "response.geturl()"
   ]
  },
  {
   "cell_type": "code",
   "execution_count": 110,
   "id": "6b2154af",
   "metadata": {},
   "outputs": [
    {
     "name": "stdout",
     "output_type": "stream",
     "text": [
      "<class 'http.client.HTTPResponse'>\n"
     ]
    },
    {
     "data": {
      "text/plain": [
       "b'<!DOCTYPE html>\\n<html xmlns=\"http://www.w3.org/1999/xhtml\" lang=\"en\" xml:lang=\"en\"><head>\\n\\n<meta charset=\"utf-8\">\\n<meta name=\"generator\" content=\"quarto-1.4.553\">\\n\\n<meta name=\"viewport\" content=\"width=device-width, initial-scale=1.0, user-scalable=yes\">\\n\\n\\n<title>Pingjian Ding - Researches</title>\\n<style>\\ncode{white-space: pre-wrap;}\\nspan.smallcaps{font-variant: small-caps;}\\ndiv.columns{display: flex; gap: min(4vw, 1.5em);}\\ndiv.column{flex: auto; overflow-x: auto;}\\ndiv.hanging-indent{margin-left: 1.5em; text-indent: -1.5em;}\\nul.task-list{list-style: none;}\\nul.task-list li input[type=\"checkbox\"] {\\n  width: 0.8em;\\n  margin: 0 0.8em 0.2em -1em; /* quarto-specific, see https://github.com/quarto-dev/quarto-cli/issues/4556 */ \\n  vertical-align: middle;\\n}\\n</style>\\n\\n\\n<script src=\"site_libs/quarto-nav/quarto-nav.js\"></script>\\n<script src=\"site_libs/quarto-nav/headroom.min.js\"></script>\\n<script src=\"site_libs/clipboard/clipboard.min.js\"></script>\\n<script src=\"site_libs/quarto-search/autocomplete.umd.js\"></script>\\n<script src=\"site_libs/quarto-search/fuse.min.js\"></script>\\n<script src=\"site_libs/quarto-search/quarto-search.js\"></script>\\n<meta name=\"quarto:offset\" content=\"./\">\\n<script src=\"site_libs/quarto-html/quarto.js\"></script>\\n<script src=\"site_libs/quarto-html/popper.min.js\"></script>\\n<script src=\"site_libs/quarto-html/tippy.umd.min.js\"></script>\\n<script src=\"site_libs/quarto-html/anchor.min.js\"></script>\\n<link href=\"site_libs/quarto-html/tippy.css\" rel=\"stylesheet\">\\n<link href=\"site_libs/quarto-html/quarto-syntax-highlighting.css\" rel=\"stylesheet\" id=\"quarto-text-highlighting-styles\">\\n<script src=\"site_libs/bootstrap/bootstrap.min.js\"></script>\\n<link href=\"site_libs/bootstrap/bootstrap-icons.css\" rel=\"stylesheet\">\\n<link href=\"site_libs/bootstrap/bootstrap.min.css\" rel=\"stylesheet\" id=\"quarto-bootstrap\" data-mode=\"light\">\\n<script id=\"quarto-search-options\" type=\"application/json\">{\\n  \"location\": \"navbar\",\\n  \"copy-button\": false,\\n  \"collapse-after\": 3,\\n  \"panel-placement\": \"end\",\\n  \"type\": \"overlay\",\\n  \"limit\": 50,\\n  \"keyboard-shortcut\": [\\n    \"f\",\\n    \"/\",\\n    \"s\"\\n  ],\\n  \"show-item-context\": false,\\n  \"language\": {\\n    \"search-no-results-text\": \"No results\",\\n    \"search-matching-documents-text\": \"matching documents\",\\n    \"search-copy-link-title\": \"Copy link to search\",\\n    \"search-hide-matches-text\": \"Hide additional matches\",\\n    \"search-more-match-text\": \"more match in this document\",\\n    \"search-more-matches-text\": \"more matches in this document\",\\n    \"search-clear-button-title\": \"Clear\",\\n    \"search-text-placeholder\": \"\",\\n    \"search-detached-cancel-button-title\": \"Cancel\",\\n    \"search-submit-button-title\": \"Submit\",\\n    \"search-label\": \"Search\"\\n  }\\n}</script>\\n\\n\\n<link rel=\"stylesheet\" href=\"styles.css\">\\n</head>\\n\\n<body class=\"nav-fixed\">\\n\\n<div id=\"quarto-search-results\"></div>\\n  <header id=\"quarto-header\" class=\"headroom fixed-top\">\\n    <nav class=\"navbar navbar-expand-lg \" data-bs-theme=\"dark\">\\n      <div class=\"navbar-container container-fluid\">\\n      <div class=\"navbar-brand-container mx-auto\">\\n    <a class=\"navbar-brand\" href=\"./index.html\">\\n    <span class=\"navbar-title\">Pingjian Ding</span>\\n    </a>\\n  </div>\\n            <div id=\"quarto-search\" class=\"\" title=\"Search\"></div>\\n          <button class=\"navbar-toggler\" type=\"button\" data-bs-toggle=\"collapse\" data-bs-target=\"#navbarCollapse\" aria-controls=\"navbarCollapse\" aria-expanded=\"false\" aria-label=\"Toggle navigation\" onclick=\"if (window.quartoToggleHeadroom) { window.quartoToggleHeadroom(); }\">\\n  <span class=\"navbar-toggler-icon\"></span>\\n</button>\\n          <div class=\"collapse navbar-collapse\" id=\"navbarCollapse\">\\n            <ul class=\"navbar-nav navbar-nav-scroll me-auto\">\\n  <li class=\"nav-item\">\\n    <a class=\"nav-link\" href=\"./index.html\"> \\n<span class=\"menu-text\">Home</span></a>\\n  </li>  \\n  <li class=\"nav-item\">\\n    <a class=\"nav-link active\" href=\"./researches.html\" aria-current=\"page\"> \\n<span class=\"menu-text\">Researches</span></a>\\n  </li>  \\n  <li class=\"nav-item\">\\n    <a class=\"nav-link\" href=\"./publications.html\"> \\n<span class=\"menu-text\">Publications</span></a>\\n  </li>  \\n  <li class=\"nav-item\">\\n    <a class=\"nav-link\" href=\"./courses.html\"> \\n<span class=\"menu-text\">Courses</span></a>\\n  </li>  \\n  <li class=\"nav-item\">\\n    <a class=\"nav-link\" href=\"./blogs.html\"> \\n<span class=\"menu-text\">Blogs</span></a>\\n  </li>  \\n  <li class=\"nav-item\">\\n    <a class=\"nav-link\" href=\"./contact.html\"> \\n<span class=\"menu-text\">Contact</span></a>\\n  </li>  \\n</ul>\\n          </div> <!-- /navcollapse -->\\n          <div class=\"quarto-navbar-tools\">\\n</div>\\n      </div> <!-- /container-fluid -->\\n    </nav>\\n</header>\\n<!-- content -->\\n<div id=\"quarto-content\" class=\"quarto-container page-columns page-rows-contents page-layout-article page-navbar\">\\n<!-- sidebar -->\\n<!-- margin-sidebar -->\\n    <div id=\"quarto-margin-sidebar\" class=\"sidebar margin-sidebar\">\\n        <nav id=\"TOC\" role=\"doc-toc\" class=\"toc-active\">\\n    <h2 id=\"toc-title\">On this page</h2>\\n   \\n  <ul>\\n  <li><a href=\"#machine-learning-frameworks-in-biomedical-science\" id=\"toc-machine-learning-frameworks-in-biomedical-science\" class=\"nav-link active\" data-scroll-target=\"#machine-learning-frameworks-in-biomedical-science\">Machine Learning Frameworks in Biomedical Science</a></li>\\n  <li><a href=\"#statistical-genetics-for-causal-relationships\" id=\"toc-statistical-genetics-for-causal-relationships\" class=\"nav-link\" data-scroll-target=\"#statistical-genetics-for-causal-relationships\">Statistical Genetics for Causal Relationships</a></li>\\n  <li><a href=\"#target-trial-emulation\" id=\"toc-target-trial-emulation\" class=\"nav-link\" data-scroll-target=\"#target-trial-emulation\">Target trial emulation</a></li>\\n  </ul>\\n</nav>\\n    </div>\\n<!-- main -->\\n<main class=\"content\" id=\"quarto-document-content\">\\n\\n<header id=\"title-block-header\" class=\"quarto-title-block default\">\\n<div class=\"quarto-title\">\\n<h1 class=\"title\">Researches</h1>\\n</div>\\n\\n\\n\\n<div class=\"quarto-title-meta\">\\n\\n    \\n  \\n    \\n  </div>\\n  \\n\\n\\n</header>\\n\\n\\n<section id=\"machine-learning-frameworks-in-biomedical-science\" class=\"level2\">\\n<h2 class=\"anchored\" data-anchor-id=\"machine-learning-frameworks-in-biomedical-science\">Machine Learning Frameworks in Biomedical Science</h2>\\n<div class=\"columns\">\\n<div class=\"column\" style=\"width:65%;\">\\n<p>We have been developing tensor factorization and deep learning methods to facilitate the analysis of epigenomic data and use integrative modeling approaches to study genomic transcriptional and epigenetic gene regulatory mechanisms underlying psychiatry diseases. We are developing new methods to utilize the abundant public relationship data to understand targets and specificity of drugs in treating Alzheimer\\xe2\\x80\\x99s Disease.</p>\\n</div><div class=\"column\" style=\"width:35%;\">\\n<p><img src=\"assets/img/research-deep-learning.png\" class=\"img-fluid\"></p>\\n</div>\\n</div>\\n</section>\\n<section id=\"statistical-genetics-for-causal-relationships\" class=\"level2\">\\n<h2 class=\"anchored\" data-anchor-id=\"statistical-genetics-for-causal-relationships\">Statistical Genetics for Causal Relationships</h2>\\n<div class=\"columns\">\\n<div class=\"column\" style=\"width:65%;\">\\n<p>We have been utilizing causal inference methods to facilitate the analysis of genotyping data and employing Mendelian randomization approaches to investigate the causal associations between Alzheimer\\xe2\\x80\\x99s disease and various drugs, viruses, and other risk factors. Our investigations on aspirin and GLP-1R agonists suggest that they may have the potential to offer effective neuroprotective properties.</p>\\n</div><div class=\"column\" style=\"width:35%;\">\\n<p><img src=\"assets/img/statistic.png\" class=\"img-fluid\"></p>\\n</div>\\n</div>\\n</section>\\n<section id=\"target-trial-emulation\" class=\"level2\">\\n<h2 class=\"anchored\" data-anchor-id=\"target-trial-emulation\">Target trial emulation</h2>\\n<div class=\"columns\">\\n<div class=\"column\" style=\"width:65%;\">\\n<p>We are developing deep learning-based methods to approximate the results of a randomized trial by directly comparing outcomes between individuals who received the treatment of interest and those who did not. Additionally, by analyzing electronic health records, we are identifying potential drug combinations for controlling blood pressure and exploring novel drugs for neurodegenerative diseases.</p>\\n</div><div class=\"column\" style=\"width:35%;\">\\n<p><img src=\"assets/img/research_EHR.png\" class=\"img-fluid\"></p>\\n</div>\\n</div>\\n\\n\\n</section>\\n\\n</main> <!-- /main -->\\n<script id=\"quarto-html-after-body\" type=\"application/javascript\">\\nwindow.document.addEventListener(\"DOMContentLoaded\", function (event) {\\n  const toggleBodyColorMode = (bsSheetEl) => {\\n    const mode = bsSheetEl.getAttribute(\"data-mode\");\\n    const bodyEl = window.document.querySelector(\"body\");\\n    if (mode === \"dark\") {\\n      bodyEl.classList.add(\"quarto-dark\");\\n      bodyEl.classList.remove(\"quarto-light\");\\n    } else {\\n      bodyEl.classList.add(\"quarto-light\");\\n      bodyEl.classList.remove(\"quarto-dark\");\\n    }\\n  }\\n  const toggleBodyColorPrimary = () => {\\n    const bsSheetEl = window.document.querySelector(\"link#quarto-bootstrap\");\\n    if (bsSheetEl) {\\n      toggleBodyColorMode(bsSheetEl);\\n    }\\n  }\\n  toggleBodyColorPrimary();  \\n  const icon = \"\\xee\\xa7\\x8b\";\\n  const anchorJS = new window.AnchorJS();\\n  anchorJS.options = {\\n    placement: \\'right\\',\\n    icon: icon\\n  };\\n  anchorJS.add(\\'.anchored\\');\\n  const isCodeAnnotation = (el) => {\\n    for (const clz of el.classList) {\\n      if (clz.startsWith(\\'code-annotation-\\')) {                     \\n        return true;\\n      }\\n    }\\n    return false;\\n  }\\n  const clipboard = new window.ClipboardJS(\\'.code-copy-button\\', {\\n    text: function(trigger) {\\n      const codeEl = trigger.previousElementSibling.cloneNode(true);\\n      for (const childEl of codeEl.children) {\\n        if (isCodeAnnotation(childEl)) {\\n          childEl.remove();\\n        }\\n      }\\n      return codeEl.innerText;\\n    }\\n  });\\n  clipboard.on(\\'success\\', function(e) {\\n    // button target\\n    const button = e.trigger;\\n    // don\\'t keep focus\\n    button.blur();\\n    // flash \"checked\"\\n    button.classList.add(\\'code-copy-button-checked\\');\\n    var currentTitle = button.getAttribute(\"title\");\\n    button.setAttribute(\"title\", \"Copied!\");\\n    let tooltip;\\n    if (window.bootstrap) {\\n      button.setAttribute(\"data-bs-toggle\", \"tooltip\");\\n      button.setAttribute(\"data-bs-placement\", \"left\");\\n      button.setAttribute(\"data-bs-title\", \"Copied!\");\\n      tooltip = new bootstrap.Tooltip(button, \\n        { trigger: \"manual\", \\n          customClass: \"code-copy-button-tooltip\",\\n          offset: [0, -8]});\\n      tooltip.show();    \\n    }\\n    setTimeout(function() {\\n      if (tooltip) {\\n        tooltip.hide();\\n        button.removeAttribute(\"data-bs-title\");\\n        button.removeAttribute(\"data-bs-toggle\");\\n        button.removeAttribute(\"data-bs-placement\");\\n      }\\n      button.setAttribute(\"title\", currentTitle);\\n      button.classList.remove(\\'code-copy-button-checked\\');\\n    }, 1000);\\n    // clear code selection\\n    e.clearSelection();\\n  });\\n    var localhostRegex = new RegExp(/^(?:http|https):\\\\/\\\\/localhost\\\\:?[0-9]*\\\\//);\\n    var mailtoRegex = new RegExp(/^mailto:/);\\n      var filterRegex = new RegExp(\\'/\\' + window.location.host + \\'/\\');\\n    var isInternal = (href) => {\\n        return filterRegex.test(href) || localhostRegex.test(href) || mailtoRegex.test(href);\\n    }\\n    // Inspect non-navigation links and adorn them if external\\n \\tvar links = window.document.querySelectorAll(\\'a[href]:not(.nav-link):not(.navbar-brand):not(.toc-action):not(.sidebar-link):not(.sidebar-item-toggle):not(.pagination-link):not(.no-external):not([aria-hidden]):not(.dropdown-item):not(.quarto-navigation-tool)\\');\\n    for (var i=0; i<links.length; i++) {\\n      const link = links[i];\\n      if (!isInternal(link.href)) {\\n        // undo the damage that might have been done by quarto-nav.js in the case of\\n        // links that we want to consider external\\n        if (link.dataset.originalHref !== undefined) {\\n          link.href = link.dataset.originalHref;\\n        }\\n      }\\n    }\\n  function tippyHover(el, contentFn, onTriggerFn, onUntriggerFn) {\\n    const config = {\\n      allowHTML: true,\\n      maxWidth: 500,\\n      delay: 100,\\n      arrow: false,\\n      appendTo: function(el) {\\n          return el.parentElement;\\n      },\\n      interactive: true,\\n      interactiveBorder: 10,\\n      theme: \\'quarto\\',\\n      placement: \\'bottom-start\\',\\n    };\\n    if (contentFn) {\\n      config.content = contentFn;\\n    }\\n    if (onTriggerFn) {\\n      config.onTrigger = onTriggerFn;\\n    }\\n    if (onUntriggerFn) {\\n      config.onUntrigger = onUntriggerFn;\\n    }\\n    window.tippy(el, config); \\n  }\\n  const noterefs = window.document.querySelectorAll(\\'a[role=\"doc-noteref\"]\\');\\n  for (var i=0; i<noterefs.length; i++) {\\n    const ref = noterefs[i];\\n    tippyHover(ref, function() {\\n      // use id or data attribute instead here\\n      let href = ref.getAttribute(\\'data-footnote-href\\') || ref.getAttribute(\\'href\\');\\n      try { href = new URL(href).hash; } catch {}\\n      const id = href.replace(/^#\\\\/?/, \"\");\\n      const note = window.document.getElementById(id);\\n      if (note) {\\n        return note.innerHTML;\\n      } else {\\n        return \"\";\\n      }\\n    });\\n  }\\n  const xrefs = window.document.querySelectorAll(\\'a.quarto-xref\\');\\n  const processXRef = (id, note) => {\\n    // Strip column container classes\\n    const stripColumnClz = (el) => {\\n      el.classList.remove(\"page-full\", \"page-columns\");\\n      if (el.children) {\\n        for (const child of el.children) {\\n          stripColumnClz(child);\\n        }\\n      }\\n    }\\n    stripColumnClz(note)\\n    if (id === null || id.startsWith(\\'sec-\\')) {\\n      // Special case sections, only their first couple elements\\n      const container = document.createElement(\"div\");\\n      if (note.children && note.children.length > 2) {\\n        container.appendChild(note.children[0].cloneNode(true));\\n        for (let i = 1; i < note.children.length; i++) {\\n          const child = note.children[i];\\n          if (child.tagName === \"P\" && child.innerText === \"\") {\\n            continue;\\n          } else {\\n            container.appendChild(child.cloneNode(true));\\n            break;\\n          }\\n        }\\n        if (window.Quarto?.typesetMath) {\\n          window.Quarto.typesetMath(container);\\n        }\\n        return container.innerHTML\\n      } else {\\n        if (window.Quarto?.typesetMath) {\\n          window.Quarto.typesetMath(note);\\n        }\\n        return note.innerHTML;\\n      }\\n    } else {\\n      // Remove any anchor links if they are present\\n      const anchorLink = note.querySelector(\\'a.anchorjs-link\\');\\n      if (anchorLink) {\\n        anchorLink.remove();\\n      }\\n      if (window.Quarto?.typesetMath) {\\n        window.Quarto.typesetMath(note);\\n      }\\n      // TODO in 1.5, we should make sure this works without a callout special case\\n      if (note.classList.contains(\"callout\")) {\\n        return note.outerHTML;\\n      } else {\\n        return note.innerHTML;\\n      }\\n    }\\n  }\\n  for (var i=0; i<xrefs.length; i++) {\\n    const xref = xrefs[i];\\n    tippyHover(xref, undefined, function(instance) {\\n      instance.disable();\\n      let url = xref.getAttribute(\\'href\\');\\n      let hash = undefined; \\n      if (url.startsWith(\\'#\\')) {\\n        hash = url;\\n      } else {\\n        try { hash = new URL(url).hash; } catch {}\\n      }\\n      if (hash) {\\n        const id = hash.replace(/^#\\\\/?/, \"\");\\n        const note = window.document.getElementById(id);\\n        if (note !== null) {\\n          try {\\n            const html = processXRef(id, note.cloneNode(true));\\n            instance.setContent(html);\\n          } finally {\\n            instance.enable();\\n            instance.show();\\n          }\\n        } else {\\n          // See if we can fetch this\\n          fetch(url.split(\\'#\\')[0])\\n          .then(res => res.text())\\n          .then(html => {\\n            const parser = new DOMParser();\\n            const htmlDoc = parser.parseFromString(html, \"text/html\");\\n            const note = htmlDoc.getElementById(id);\\n            if (note !== null) {\\n              const html = processXRef(id, note);\\n              instance.setContent(html);\\n            } \\n          }).finally(() => {\\n            instance.enable();\\n            instance.show();\\n          });\\n        }\\n      } else {\\n        // See if we can fetch a full url (with no hash to target)\\n        // This is a special case and we should probably do some content thinning / targeting\\n        fetch(url)\\n        .then(res => res.text())\\n        .then(html => {\\n          const parser = new DOMParser();\\n          const htmlDoc = parser.parseFromString(html, \"text/html\");\\n          const note = htmlDoc.querySelector(\\'main.content\\');\\n          if (note !== null) {\\n            // This should only happen for chapter cross references\\n            // (since there is no id in the URL)\\n            // remove the first header\\n            if (note.children.length > 0 && note.children[0].tagName === \"HEADER\") {\\n              note.children[0].remove();\\n            }\\n            const html = processXRef(null, note);\\n            instance.setContent(html);\\n          } \\n        }).finally(() => {\\n          instance.enable();\\n          instance.show();\\n        });\\n      }\\n    }, function(instance) {\\n    });\\n  }\\n      let selectedAnnoteEl;\\n      const selectorForAnnotation = ( cell, annotation) => {\\n        let cellAttr = \\'data-code-cell=\"\\' + cell + \\'\"\\';\\n        let lineAttr = \\'data-code-annotation=\"\\' +  annotation + \\'\"\\';\\n        const selector = \\'span[\\' + cellAttr + \\'][\\' + lineAttr + \\']\\';\\n        return selector;\\n      }\\n      const selectCodeLines = (annoteEl) => {\\n        const doc = window.document;\\n        const targetCell = annoteEl.getAttribute(\"data-target-cell\");\\n        const targetAnnotation = annoteEl.getAttribute(\"data-target-annotation\");\\n        const annoteSpan = window.document.querySelector(selectorForAnnotation(targetCell, targetAnnotation));\\n        const lines = annoteSpan.getAttribute(\"data-code-lines\").split(\",\");\\n        const lineIds = lines.map((line) => {\\n          return targetCell + \"-\" + line;\\n        })\\n        let top = null;\\n        let height = null;\\n        let parent = null;\\n        if (lineIds.length > 0) {\\n            //compute the position of the single el (top and bottom and make a div)\\n            const el = window.document.getElementById(lineIds[0]);\\n            top = el.offsetTop;\\n            height = el.offsetHeight;\\n            parent = el.parentElement.parentElement;\\n          if (lineIds.length > 1) {\\n            const lastEl = window.document.getElementById(lineIds[lineIds.length - 1]);\\n            const bottom = lastEl.offsetTop + lastEl.offsetHeight;\\n            height = bottom - top;\\n          }\\n          if (top !== null && height !== null && parent !== null) {\\n            // cook up a div (if necessary) and position it \\n            let div = window.document.getElementById(\"code-annotation-line-highlight\");\\n            if (div === null) {\\n              div = window.document.createElement(\"div\");\\n              div.setAttribute(\"id\", \"code-annotation-line-highlight\");\\n              div.style.position = \\'absolute\\';\\n              parent.appendChild(div);\\n            }\\n            div.style.top = top - 2 + \"px\";\\n            div.style.height = height + 4 + \"px\";\\n            div.style.left = 0;\\n            let gutterDiv = window.document.getElementById(\"code-annotation-line-highlight-gutter\");\\n            if (gutterDiv === null) {\\n              gutterDiv = window.document.createElement(\"div\");\\n              gutterDiv.setAttribute(\"id\", \"code-annotation-line-highlight-gutter\");\\n              gutterDiv.style.position = \\'absolute\\';\\n              const codeCell = window.document.getElementById(targetCell);\\n              const gutter = codeCell.querySelector(\\'.code-annotation-gutter\\');\\n              gutter.appendChild(gutterDiv);\\n            }\\n            gutterDiv.style.top = top - 2 + \"px\";\\n            gutterDiv.style.height = height + 4 + \"px\";\\n          }\\n          selectedAnnoteEl = annoteEl;\\n        }\\n      };\\n      const unselectCodeLines = () => {\\n        const elementsIds = [\"code-annotation-line-highlight\", \"code-annotation-line-highlight-gutter\"];\\n        elementsIds.forEach((elId) => {\\n          const div = window.document.getElementById(elId);\\n          if (div) {\\n            div.remove();\\n          }\\n        });\\n        selectedAnnoteEl = undefined;\\n      };\\n        // Handle positioning of the toggle\\n    window.addEventListener(\\n      \"resize\",\\n      throttle(() => {\\n        elRect = undefined;\\n        if (selectedAnnoteEl) {\\n          selectCodeLines(selectedAnnoteEl);\\n        }\\n      }, 10)\\n    );\\n    function throttle(fn, ms) {\\n    let throttle = false;\\n    let timer;\\n      return (...args) => {\\n        if(!throttle) { // first call gets through\\n            fn.apply(this, args);\\n            throttle = true;\\n        } else { // all the others get throttled\\n            if(timer) clearTimeout(timer); // cancel #2\\n            timer = setTimeout(() => {\\n              fn.apply(this, args);\\n              timer = throttle = false;\\n            }, ms);\\n        }\\n      };\\n    }\\n      // Attach click handler to the DT\\n      const annoteDls = window.document.querySelectorAll(\\'dt[data-target-cell]\\');\\n      for (const annoteDlNode of annoteDls) {\\n        annoteDlNode.addEventListener(\\'click\\', (event) => {\\n          const clickedEl = event.target;\\n          if (clickedEl !== selectedAnnoteEl) {\\n            unselectCodeLines();\\n            const activeEl = window.document.querySelector(\\'dt[data-target-cell].code-annotation-active\\');\\n            if (activeEl) {\\n              activeEl.classList.remove(\\'code-annotation-active\\');\\n            }\\n            selectCodeLines(clickedEl);\\n            clickedEl.classList.add(\\'code-annotation-active\\');\\n          } else {\\n            // Unselect the line\\n            unselectCodeLines();\\n            clickedEl.classList.remove(\\'code-annotation-active\\');\\n          }\\n        });\\n      }\\n  const findCites = (el) => {\\n    const parentEl = el.parentElement;\\n    if (parentEl) {\\n      const cites = parentEl.dataset.cites;\\n      if (cites) {\\n        return {\\n          el,\\n          cites: cites.split(\\' \\')\\n        };\\n      } else {\\n        return findCites(el.parentElement)\\n      }\\n    } else {\\n      return undefined;\\n    }\\n  };\\n  var bibliorefs = window.document.querySelectorAll(\\'a[role=\"doc-biblioref\"]\\');\\n  for (var i=0; i<bibliorefs.length; i++) {\\n    const ref = bibliorefs[i];\\n    const citeInfo = findCites(ref);\\n    if (citeInfo) {\\n      tippyHover(citeInfo.el, function() {\\n        var popup = window.document.createElement(\\'div\\');\\n        citeInfo.cites.forEach(function(cite) {\\n          var citeDiv = window.document.createElement(\\'div\\');\\n          citeDiv.classList.add(\\'hanging-indent\\');\\n          citeDiv.classList.add(\\'csl-entry\\');\\n          var biblioDiv = window.document.getElementById(\\'ref-\\' + cite);\\n          if (biblioDiv) {\\n            citeDiv.innerHTML = biblioDiv.innerHTML;\\n          }\\n          popup.appendChild(citeDiv);\\n        });\\n        return popup.innerHTML;\\n      });\\n    }\\n  }\\n});\\n</script>\\n</div> <!-- /content -->\\n<footer class=\"footer\">\\n  <div class=\"nav-footer\">\\n    <div class=\"nav-footer-left\">\\n      &nbsp;\\n    </div>   \\n    <div class=\"nav-footer-center\">\\n<p>Copyright 2023, Pingjian Ding</p>\\n</div>\\n    <div class=\"nav-footer-right\">\\n      &nbsp;\\n    </div>\\n  </div>\\n</footer>\\n\\n\\n\\n\\n</body></html>'"
      ]
     },
     "execution_count": 110,
     "metadata": {},
     "output_type": "execute_result"
    }
   ],
   "source": [
    "import urllib.request\n",
    "response = urllib.request.urlopen('https://kdding.github.io/researches.html')\n",
    "print(type(response))\n",
    "response.read()"
   ]
  },
  {
   "cell_type": "code",
   "execution_count": 111,
   "id": "a3bfca93",
   "metadata": {},
   "outputs": [
    {
     "name": "stdout",
     "output_type": "stream",
     "text": [
      "<html>\n",
      " <head>\n",
      "  <title>\n",
      "   The Dormouse's story\n",
      "  </title>\n",
      " </head>\n",
      " <body>\n",
      "  <p class=\"title\">\n",
      "   <b>\n",
      "    The Dormouse's story\n",
      "   </b>\n",
      "  </p>\n",
      "  <p class=\"story\">\n",
      "   Once upon a time there were three little sisters; and their names were\n",
      "   <a class=\"sister\" href=\"http://example.com/elsie\" id=\"link1\">\n",
      "    Elsie\n",
      "   </a>\n",
      "   ,\n",
      "   <a class=\"sister\" href=\"http://example.com/lacie\" id=\"link2\">\n",
      "    Lacie\n",
      "   </a>\n",
      "   and\n",
      "   <a class=\"sister\" href=\"http://example.com/tillie\" id=\"link3\">\n",
      "    Tillie\n",
      "   </a>\n",
      "   ;\n",
      "and they lived at the bottom of a well.\n",
      "  </p>\n",
      "  <p class=\"story\">\n",
      "   ...\n",
      "  </p>\n",
      " </body>\n",
      "</html>\n",
      "\n"
     ]
    }
   ],
   "source": [
    "html_doc = \"\"\"\n",
    "<html><head><title>The Dormouse's story</title></head>\n",
    "<body>\n",
    "<p class=\"title\"><b>The Dormouse's story</b></p>\n",
    "\n",
    "<p class=\"story\">Once upon a time there were three little sisters; and their names were\n",
    "<a href=\"http://example.com/elsie\" class=\"sister\" id=\"link1\">Elsie</a>,\n",
    "<a href=\"http://example.com/lacie\" class=\"sister\" id=\"link2\">Lacie</a> and\n",
    "<a href=\"http://example.com/tillie\" class=\"sister\" id=\"link3\">Tillie</a>;\n",
    "and they lived at the bottom of a well.</p>\n",
    "\n",
    "<p class=\"story\">...</p></html>\n",
    "\"\"\"\n",
    "from bs4 import BeautifulSoup\n",
    "parsed = BeautifulSoup(html_doc, 'html.parser')\n",
    "print(parsed.prettify())"
   ]
  },
  {
   "cell_type": "code",
   "execution_count": 112,
   "id": "5a8ea65e",
   "metadata": {},
   "outputs": [
    {
     "name": "stdout",
     "output_type": "stream",
     "text": [
      "<class 'bs4.element.Tag'>\n",
      "<title>The Dormouse's story</title>\n"
     ]
    }
   ],
   "source": [
    "print(type(parsed.title))\n",
    "print(parsed.title)"
   ]
  },
  {
   "cell_type": "code",
   "execution_count": 113,
   "id": "ec8013af",
   "metadata": {},
   "outputs": [
    {
     "data": {
      "text/plain": [
       "'title'"
      ]
     },
     "execution_count": 113,
     "metadata": {},
     "output_type": "execute_result"
    }
   ],
   "source": [
    "parsed.title.name"
   ]
  },
  {
   "cell_type": "code",
   "execution_count": 114,
   "id": "a7387c65",
   "metadata": {},
   "outputs": [
    {
     "data": {
      "text/plain": [
       "\"The Dormouse's story\""
      ]
     },
     "execution_count": 114,
     "metadata": {},
     "output_type": "execute_result"
    }
   ],
   "source": [
    "parsed.title.string"
   ]
  },
  {
   "cell_type": "code",
   "execution_count": 115,
   "id": "18cf6a73",
   "metadata": {},
   "outputs": [
    {
     "data": {
      "text/plain": [
       "<a class=\"sister\" href=\"http://example.com/elsie\" id=\"link1\">Elsie</a>"
      ]
     },
     "execution_count": 115,
     "metadata": {},
     "output_type": "execute_result"
    }
   ],
   "source": [
    "parsed.a"
   ]
  },
  {
   "cell_type": "code",
   "execution_count": 116,
   "id": "f7f1045e",
   "metadata": {},
   "outputs": [
    {
     "data": {
      "text/plain": [
       "[<a class=\"sister\" href=\"http://example.com/elsie\" id=\"link1\">Elsie</a>,\n",
       " <a class=\"sister\" href=\"http://example.com/lacie\" id=\"link2\">Lacie</a>,\n",
       " <a class=\"sister\" href=\"http://example.com/tillie\" id=\"link3\">Tillie</a>]"
      ]
     },
     "execution_count": 116,
     "metadata": {},
     "output_type": "execute_result"
    }
   ],
   "source": [
    "# * 找到所有名为‘a’的标签，这是HTML中用于超链接的标签。\n",
    "parsed.find_all('a')"
   ]
  },
  {
   "cell_type": "code",
   "execution_count": 117,
   "id": "36e4fb33",
   "metadata": {},
   "outputs": [
    {
     "name": "stdout",
     "output_type": "stream",
     "text": [
      "http://example.com/elsie\n",
      "http://example.com/lacie\n",
      "http://example.com/tillie\n"
     ]
    }
   ],
   "source": [
    "# * 在名为‘a’的标签中的‘href’属性包含用于超链接的实际URL。\n",
    "for link in parsed.find_all('a'):\n",
    "    print(link.get('href'))"
   ]
  },
  {
   "cell_type": "code",
   "execution_count": 118,
   "id": "0128890f",
   "metadata": {},
   "outputs": [
    {
     "name": "stdout",
     "output_type": "stream",
     "text": [
      "['story']\n"
     ]
    }
   ],
   "source": [
    "# BeautifulSoup标签具有可以像字典一样访问的HTML属性：\n",
    "shortdoc = \"\"\"\n",
    "<p class=\"story\">Once upon a time there were three little sisters; and their names were\n",
    "<a href=\"http://example.com/elsie\" class=\"sister\" id=\"link1\">Elsie</a>,\n",
    "<a href=\"http://example.com/lacie\" class=\"sister\" id=\"link2\">Lacie</a> and\n",
    "<a href=\"http://example.com/tillie\" class=\"sister\" id=\"link3\">Tillie</a>;\n",
    "and they lived at the bottom of a well.</p>\n",
    "\"\"\"\n",
    "pshort = BeautifulSoup(shortdoc, 'html.parser')\n",
    "print(pshort.p['class'])"
   ]
  },
  {
   "cell_type": "code",
   "execution_count": 119,
   "id": "7aacb4fe",
   "metadata": {},
   "outputs": [
    {
     "name": "stdout",
     "output_type": "stream",
     "text": [
      "<a class=\"sister\" href=\"http://example.com/elsie\" id=\"link1\">Elsie</a>\n"
     ]
    }
   ],
   "source": [
    "# BeautifulSoup标签具有可以作为Python属性访问的子代：\n",
    "print(pshort.p.a)"
   ]
  },
  {
   "cell_type": "code",
   "execution_count": 120,
   "id": "4a8fe80e",
   "metadata": {},
   "outputs": [
    {
     "name": "stdout",
     "output_type": "stream",
     "text": [
      "<title>The Dormouse's story</title>\n",
      "<a class=\"sister\" href=\"http://example.com/elsie\" id=\"link1\">Elsie</a>\n",
      "<p class=\"title\"><b>The Dormouse's story</b></p>\n"
     ]
    }
   ],
   "source": [
    "# * 通过标签名获得树中的第一个的标签\n",
    "print(parsed.title)\n",
    "print(parsed.a)\n",
    "print(parsed.p)"
   ]
  },
  {
   "cell_type": "code",
   "execution_count": 121,
   "id": "8996aef6",
   "metadata": {},
   "outputs": [
    {
     "data": {
      "text/plain": [
       "\"The Dormouse's story\""
      ]
     },
     "execution_count": 121,
     "metadata": {},
     "output_type": "execute_result"
    }
   ],
   "source": [
    "# * 如果标签的子代是一个字符串(叶子节点)，用tag.string访问\n",
    "parsed.title.string"
   ]
  },
  {
   "cell_type": "code",
   "execution_count": 122,
   "id": "c87e8a4a",
   "metadata": {},
   "outputs": [
    {
     "name": "stdout",
     "output_type": "stream",
     "text": [
      "<b>The Dormouse's story</b>\n"
     ]
    }
   ],
   "source": [
    "# * 通过标签的标签来深度遍历树\n",
    "print(parsed.p.b)"
   ]
  },
  {
   "cell_type": "code",
   "execution_count": 123,
   "id": "5195d339",
   "metadata": {},
   "outputs": [
    {
     "data": {
      "text/plain": [
       "['Once upon a time there were three little sisters; and their names were\\n',\n",
       " <a class=\"sister\" href=\"http://example.com/elsie\" id=\"link1\">Elsie</a>,\n",
       " ',\\n',\n",
       " <a class=\"sister\" href=\"http://example.com/lacie\" id=\"link2\">Lacie</a>,\n",
       " ' and\\n',\n",
       " <a class=\"sister\" href=\"http://example.com/tillie\" id=\"link3\">Tillie</a>,\n",
       " ';\\nand they lived at the bottom of a well.']"
      ]
     },
     "execution_count": 123,
     "metadata": {},
     "output_type": "execute_result"
    }
   ],
   "source": [
    "# * 用.contents访问标签的子代列表\n",
    "pshort.p.contents"
   ]
  },
  {
   "cell_type": "code",
   "execution_count": 124,
   "id": "4521a116",
   "metadata": {},
   "outputs": [
    {
     "name": "stdout",
     "output_type": "stream",
     "text": [
      "<list_iterator object at 0x0000025A3E229A50>\n",
      "Once upon a time there were three little sisters; and their names were\n",
      "\n",
      "<a class=\"sister\" href=\"http://example.com/elsie\" id=\"link1\">Elsie</a>\n",
      ",\n",
      "\n",
      "<a class=\"sister\" href=\"http://example.com/lacie\" id=\"link2\">Lacie</a>\n",
      " and\n",
      "\n",
      "<a class=\"sister\" href=\"http://example.com/tillie\" id=\"link3\">Tillie</a>\n",
      ";\n",
      "and they lived at the bottom of a well.\n"
     ]
    }
   ],
   "source": [
    "# * 或者用.children获取子代信息（Python迭代器）\n",
    "print(pshort.p.children)\n",
    "for i in pshort.p.children:\n",
    "    print(i)"
   ]
  },
  {
   "cell_type": "code",
   "execution_count": 125,
   "id": "2c3c1059",
   "metadata": {},
   "outputs": [
    {
     "name": "stdout",
     "output_type": "stream",
     "text": [
      "<generator object Tag.descendants at 0x0000025A3F9B92F0>\n",
      "Once upon a time there were three little sisters; and their names were\n",
      "\n",
      "<a class=\"sister\" href=\"http://example.com/elsie\" id=\"link1\">Elsie</a>\n",
      "Elsie\n",
      ",\n",
      "\n",
      "<a class=\"sister\" href=\"http://example.com/lacie\" id=\"link2\">Lacie</a>\n",
      "Lacie\n",
      " and\n",
      "\n",
      "<a class=\"sister\" href=\"http://example.com/tillie\" id=\"link3\">Tillie</a>\n",
      "Tillie\n",
      ";\n",
      "and they lived at the bottom of a well.\n"
     ]
    }
   ],
   "source": [
    "# * 用.descendants递归遍历树\n",
    "print(pshort.p.descendants)\n",
    "for i in pshort.p.descendants:\n",
    "    print(i)"
   ]
  },
  {
   "cell_type": "code",
   "execution_count": 126,
   "id": "46d0addd",
   "metadata": {},
   "outputs": [
    {
     "data": {
      "text/plain": [
       "<a class=\"sister\" href=\"http://example.com/elsie\" id=\"link1\">Elsie</a>"
      ]
     },
     "execution_count": 126,
     "metadata": {},
     "output_type": "execute_result"
    }
   ],
   "source": [
    "link = parsed.a\n",
    "link"
   ]
  },
  {
   "cell_type": "code",
   "execution_count": 127,
   "id": "b245d396",
   "metadata": {},
   "outputs": [
    {
     "data": {
      "text/plain": [
       "<p class=\"story\">Once upon a time there were three little sisters; and their names were\n",
       "<a class=\"sister\" href=\"http://example.com/elsie\" id=\"link1\">Elsie</a>,\n",
       "<a class=\"sister\" href=\"http://example.com/lacie\" id=\"link2\">Lacie</a> and\n",
       "<a class=\"sister\" href=\"http://example.com/tillie\" id=\"link3\">Tillie</a>;\n",
       "and they lived at the bottom of a well.</p>"
      ]
     },
     "execution_count": 127,
     "metadata": {},
     "output_type": "execute_result"
    }
   ],
   "source": [
    "# 用.parent访问标签的父标签\n",
    "link.parent"
   ]
  },
  {
   "cell_type": "code",
   "execution_count": 128,
   "id": "a2406ce9",
   "metadata": {},
   "outputs": [
    {
     "data": {
      "text/plain": [
       "<generator object PageElement.parents at 0x0000025A3F91BF40>"
      ]
     },
     "execution_count": 128,
     "metadata": {},
     "output_type": "execute_result"
    }
   ],
   "source": [
    "link.parents"
   ]
  },
  {
   "cell_type": "code",
   "execution_count": 129,
   "id": "1a0f1b50",
   "metadata": {},
   "outputs": [
    {
     "name": "stdout",
     "output_type": "stream",
     "text": [
      "p\n",
      "body\n",
      "html\n",
      "[document]\n"
     ]
    }
   ],
   "source": [
    "# 用.parents获取回到根标签的整个父链\n",
    "for parent in link.parents:\n",
    "    print(parent.name)"
   ]
  },
  {
   "cell_type": "code",
   "execution_count": 130,
   "id": "1e913240",
   "metadata": {},
   "outputs": [
    {
     "name": "stdout",
     "output_type": "stream",
     "text": [
      "Once upon a time there were three little sisters; and their names were\n",
      "\n",
      ",\n",
      "\n"
     ]
    }
   ],
   "source": [
    "# 用.previous_sibling和.next_sibling在树中“左”和“右”移动\n",
    "print(link.previous_sibling)\n",
    "print(link.next_sibling)"
   ]
  },
  {
   "cell_type": "code",
   "execution_count": 131,
   "id": "61571b93",
   "metadata": {},
   "outputs": [
    {
     "data": {
      "text/plain": [
       "[<p class=\"title\"><b>The Dormouse's story</b></p>,\n",
       " <p class=\"story\">Once upon a time there were three little sisters; and their names were\n",
       " <a class=\"sister\" href=\"http://example.com/elsie\" id=\"link1\">Elsie</a>,\n",
       " <a class=\"sister\" href=\"http://example.com/lacie\" id=\"link2\">Lacie</a> and\n",
       " <a class=\"sister\" href=\"http://example.com/tillie\" id=\"link3\">Tillie</a>;\n",
       " and they lived at the bottom of a well.</p>,\n",
       " <p class=\"story\">...</p>]"
      ]
     },
     "execution_count": 131,
     "metadata": {},
     "output_type": "execute_result"
    }
   ],
   "source": [
    "# 找到所有名为‘p’的标签\n",
    "parsed.find_all('p')"
   ]
  },
  {
   "cell_type": "code",
   "execution_count": 132,
   "id": "54ab4472",
   "metadata": {},
   "outputs": [
    {
     "data": {
      "text/plain": [
       "[<b>The Dormouse's story</b>,\n",
       " <a class=\"sister\" href=\"http://example.com/elsie\" id=\"link1\">Elsie</a>,\n",
       " <a class=\"sister\" href=\"http://example.com/lacie\" id=\"link2\">Lacie</a>,\n",
       " <a class=\"sister\" href=\"http://example.com/tillie\" id=\"link3\">Tillie</a>]"
      ]
     },
     "execution_count": 132,
     "metadata": {},
     "output_type": "execute_result"
    }
   ],
   "source": [
    "# 找到所有名称匹配‘a’或‘b’的标签\n",
    "parsed.find_all(['a', 'b'])"
   ]
  },
  {
   "cell_type": "code",
   "execution_count": 133,
   "id": "dd063b84",
   "metadata": {},
   "outputs": [
    {
     "data": {
      "text/plain": [
       "[<body>\n",
       " <p class=\"title\"><b>The Dormouse's story</b></p>\n",
       " <p class=\"story\">Once upon a time there were three little sisters; and their names were\n",
       " <a class=\"sister\" href=\"http://example.com/elsie\" id=\"link1\">Elsie</a>,\n",
       " <a class=\"sister\" href=\"http://example.com/lacie\" id=\"link2\">Lacie</a> and\n",
       " <a class=\"sister\" href=\"http://example.com/tillie\" id=\"link3\">Tillie</a>;\n",
       " and they lived at the bottom of a well.</p>\n",
       " <p class=\"story\">...</p></body>,\n",
       " <b>The Dormouse's story</b>]"
      ]
     },
     "execution_count": 133,
     "metadata": {},
     "output_type": "execute_result"
    }
   ],
   "source": [
    "# 找到所有名称匹配给定正则表达式的标签。\n",
    "import re\n",
    "parsed.find_all(re.compile(r'^b'))"
   ]
  },
  {
   "cell_type": "code",
   "execution_count": 134,
   "id": "d7d234d0",
   "metadata": {},
   "outputs": [
    {
     "data": {
      "text/plain": [
       "[<p class=\"title\"><b>The Dormouse's story</b></p>,\n",
       " <p class=\"story\">Once upon a time there were three little sisters; and their names were\n",
       " <a class=\"sister\" href=\"http://example.com/elsie\" id=\"link1\">Elsie</a>,\n",
       " <a class=\"sister\" href=\"http://example.com/lacie\" id=\"link2\">Lacie</a> and\n",
       " <a class=\"sister\" href=\"http://example.com/tillie\" id=\"link3\">Tillie</a>;\n",
       " and they lived at the bottom of a well.</p>,\n",
       " <p class=\"story\">...</p>]"
      ]
     },
     "execution_count": 134,
     "metadata": {},
     "output_type": "execute_result"
    }
   ],
   "source": [
    "# 传入一个函数，该函数根据标签返回True/False，find_all将只返回评估为True的标签\n",
    "def has_class_but_no_id(tag):\n",
    "    return tag.has_attr('class') and not tag.has_attr('id')\n",
    "parsed.find_all(has_class_but_no_id)"
   ]
  },
  {
   "cell_type": "code",
   "execution_count": 135,
   "id": "208137d1",
   "metadata": {},
   "outputs": [
    {
     "name": "stdout",
     "output_type": "stream",
     "text": [
      "\n",
      "<p class=\"story\">Once upon a time there were three little sisters; and their names were\n",
      "<a class=\"sister\" href=\"http://example.com/elsie\" id=\"link1\">Elsie</a>,\n",
      "<a class=\"sister\" href=\"http://example.com/lacie\" id=\"link2\">Lacie</a> and\n",
      "<a class=\"sister\" href=\"http://example.com/tillie\" id=\"link3\">Tillie</a>;\n",
      "and they lived at the bottom of a well.</p>\n",
      "\n",
      "True\n"
     ]
    }
   ],
   "source": [
    "# 这个<p>标签包含一个完整的句子，但句子的某些部分是链接，所以p.string失败。如果我想在没有链接的情况下获取完整的字符串，我该怎么办？\n",
    "print(pshort)\n",
    "print(pshort.p.string is None)"
   ]
  },
  {
   "cell_type": "code",
   "execution_count": 136,
   "id": "c7bfe142",
   "metadata": {},
   "outputs": [
    {
     "data": {
      "text/plain": [
       "['Once upon a time there were three little sisters; and their names were\\n',\n",
       " <a class=\"sister\" href=\"http://example.com/elsie\" id=\"link1\">Elsie</a>,\n",
       " ',\\n',\n",
       " <a class=\"sister\" href=\"http://example.com/lacie\" id=\"link2\">Lacie</a>,\n",
       " ' and\\n',\n",
       " <a class=\"sister\" href=\"http://example.com/tillie\" id=\"link3\">Tillie</a>,\n",
       " ';\\nand they lived at the bottom of a well.']"
      ]
     },
     "execution_count": 136,
     "metadata": {},
     "output_type": "execute_result"
    }
   ],
   "source": [
    "pshort.p.contents"
   ]
  },
  {
   "cell_type": "code",
   "execution_count": 137,
   "id": "f5e3fd2f",
   "metadata": {},
   "outputs": [
    {
     "data": {
      "text/plain": [
       "'Once upon a time there were three little sisters; and their names were\\nElsie,\\nLacie and\\nTillie;\\nand they lived at the bottom of a well.'"
      ]
     },
     "execution_count": 137,
     "metadata": {},
     "output_type": "execute_result"
    }
   ],
   "source": [
    "# 注意：在BeautifulSoup中尝试访问不存在的tag.string是常见导致错误/错误的原因！\n",
    "pshort.p.get_text()"
   ]
  },
  {
   "cell_type": "code",
   "execution_count": 138,
   "id": "ea00185a",
   "metadata": {},
   "outputs": [
    {
     "data": {
      "text/plain": [
       "[]"
      ]
     },
     "execution_count": 138,
     "metadata": {},
     "output_type": "execute_result"
    }
   ],
   "source": [
    "pshort.find_all('name')"
   ]
  },
  {
   "cell_type": "code",
   "execution_count": 139,
   "id": "11452e2c",
   "metadata": {},
   "outputs": [
    {
     "name": "stdout",
     "output_type": "stream",
     "text": [
      "<class 'dict'>\n"
     ]
    },
    {
     "data": {
      "text/plain": [
       "{'first_name': 'John',\n",
       " 'last_name': 'Smith',\n",
       " 'alma_mater': 'Princeton University'}"
      ]
     },
     "execution_count": 139,
     "metadata": {},
     "output_type": "execute_result"
    }
   ],
   "source": [
    "import json\n",
    "json_string = '{\"first_name\": \"John\", \"last_name\": \"Smith\",\\\n",
    "    \"alma_mater\": \"Princeton University\"}'\n",
    "# json.loads解析字符串并返回JSON对象。\n",
    "parsed_json = json.loads(json_string)\n",
    "print(type(parsed_json))\n",
    "parsed_json"
   ]
  },
  {
   "cell_type": "code",
   "execution_count": 140,
   "id": "56e70ecd",
   "metadata": {},
   "outputs": [
    {
     "data": {
      "text/plain": [
       "'{\"first_name\": \"John\", \"last_name\": \"Smith\", \"alma_mater\": \"Princeton University\"}'"
      ]
     },
     "execution_count": 140,
     "metadata": {},
     "output_type": "execute_result"
    }
   ],
   "source": [
    "# json.dumps将JSON对象重新转换为字符串。\n",
    "json.dumps(parsed_json)"
   ]
  },
  {
   "cell_type": "code",
   "execution_count": 141,
   "id": "b876ec07",
   "metadata": {},
   "outputs": [
    {
     "data": {
      "text/plain": [
       "(dict,\n",
       " {'first_name': 'John',\n",
       "  'last_name': 'Smith',\n",
       "  'alma_mater': 'Princeton University'})"
      ]
     },
     "execution_count": 141,
     "metadata": {},
     "output_type": "execute_result"
    }
   ],
   "source": [
    "type(parsed_json), parsed_json"
   ]
  },
  {
   "cell_type": "code",
   "execution_count": 142,
   "id": "22042bde",
   "metadata": {},
   "outputs": [
    {
     "data": {
      "text/plain": [
       "'John'"
      ]
     },
     "execution_count": 142,
     "metadata": {},
     "output_type": "execute_result"
    }
   ],
   "source": [
    "parsed_json['first_name']"
   ]
  },
  {
   "cell_type": "markdown",
   "id": "49803d41",
   "metadata": {},
   "source": [
    "# LECTURE08"
   ]
  },
  {
   "cell_type": "code",
   "execution_count": 143,
   "id": "bc57fe2f",
   "metadata": {},
   "outputs": [],
   "source": [
    "import sqlite3\n",
    "conn = sqlite3.connect('example.db')\n",
    "cursor = conn.cursor()"
   ]
  },
  {
   "cell_type": "code",
   "execution_count": 144,
   "id": "a195858b",
   "metadata": {},
   "outputs": [],
   "source": [
    "cursor.execute('''CREATE TABLE IF NOT EXISTS student\n",
    "             (id, name, major, score);''')\n",
    "conn.commit()"
   ]
  },
  {
   "cell_type": "code",
   "execution_count": 145,
   "id": "db81cf9c",
   "metadata": {},
   "outputs": [],
   "source": [
    "cursor.execute(\"DROP TABLE IF EXISTS student;\")\n",
    "conn.commit()"
   ]
  },
  {
   "cell_type": "code",
   "execution_count": 146,
   "id": "48f69b23",
   "metadata": {},
   "outputs": [],
   "source": [
    "cursor.execute('''CREATE TABLE IF NOT EXISTS student\n",
    "             (id, name, major, score);''')\n",
    "conn.commit()"
   ]
  },
  {
   "cell_type": "code",
   "execution_count": 147,
   "id": "25a12865",
   "metadata": {},
   "outputs": [],
   "source": [
    "import pandas as pd\n",
    "def print_student_details():\n",
    "    sql_select = \"SELECT * FROM student;\"\n",
    "    cursor.execute(sql_select)\n",
    "    # 在执行数据库查询后，游标对象将访问查询返回的数据。\n",
    "    # fetchall() 方法会返回查询结果的所有行，通常是以列表的形式\n",
    "    result = cursor.fetchall()\n",
    "    result = pd.DataFrame(result, columns=['id', 'name', 'major', 'score'])\n",
    "    return(result)"
   ]
  },
  {
   "cell_type": "code",
   "execution_count": 148,
   "id": "134161f8",
   "metadata": {},
   "outputs": [
    {
     "data": {
      "text/html": [
       "<div>\n",
       "<style scoped>\n",
       "    .dataframe tbody tr th:only-of-type {\n",
       "        vertical-align: middle;\n",
       "    }\n",
       "\n",
       "    .dataframe tbody tr th {\n",
       "        vertical-align: top;\n",
       "    }\n",
       "\n",
       "    .dataframe thead th {\n",
       "        text-align: right;\n",
       "    }\n",
       "</style>\n",
       "<table border=\"1\" class=\"dataframe\">\n",
       "  <thead>\n",
       "    <tr style=\"text-align: right;\">\n",
       "      <th></th>\n",
       "      <th>id</th>\n",
       "      <th>name</th>\n",
       "      <th>major</th>\n",
       "      <th>score</th>\n",
       "    </tr>\n",
       "  </thead>\n",
       "  <tbody>\n",
       "    <tr>\n",
       "      <th>0</th>\n",
       "      <td>5</td>\n",
       "      <td>PJ</td>\n",
       "      <td>CS</td>\n",
       "      <td>85</td>\n",
       "    </tr>\n",
       "  </tbody>\n",
       "</table>\n",
       "</div>"
      ],
      "text/plain": [
       "   id name major  score\n",
       "0   5   PJ    CS     85"
      ]
     },
     "execution_count": 148,
     "metadata": {},
     "output_type": "execute_result"
    }
   ],
   "source": [
    "sql = \"INSERT INTO student (id, name, major, score) VALUES (5, 'PJ', 'CS', 85);\"\n",
    "cursor.execute(sql)\n",
    "conn.commit()\n",
    "print_student_details()"
   ]
  },
  {
   "cell_type": "code",
   "execution_count": 149,
   "id": "21259671",
   "metadata": {},
   "outputs": [
    {
     "data": {
      "text/html": [
       "<div>\n",
       "<style scoped>\n",
       "    .dataframe tbody tr th:only-of-type {\n",
       "        vertical-align: middle;\n",
       "    }\n",
       "\n",
       "    .dataframe tbody tr th {\n",
       "        vertical-align: top;\n",
       "    }\n",
       "\n",
       "    .dataframe thead th {\n",
       "        text-align: right;\n",
       "    }\n",
       "</style>\n",
       "<table border=\"1\" class=\"dataframe\">\n",
       "  <thead>\n",
       "    <tr style=\"text-align: right;\">\n",
       "      <th></th>\n",
       "      <th>id</th>\n",
       "      <th>name</th>\n",
       "      <th>major</th>\n",
       "      <th>score</th>\n",
       "    </tr>\n",
       "  </thead>\n",
       "  <tbody>\n",
       "  </tbody>\n",
       "</table>\n",
       "</div>"
      ],
      "text/plain": [
       "Empty DataFrame\n",
       "Columns: [id, name, major, score]\n",
       "Index: []"
      ]
     },
     "execution_count": 149,
     "metadata": {},
     "output_type": "execute_result"
    }
   ],
   "source": [
    "sql_delete = \"DELETE FROM student WHERE name='PJ';\"\n",
    "cursor.execute(sql_delete)\n",
    "conn.commit()\n",
    "print_student_details()"
   ]
  },
  {
   "cell_type": "code",
   "execution_count": 150,
   "id": "bb67e500",
   "metadata": {},
   "outputs": [
    {
     "data": {
      "text/html": [
       "<div>\n",
       "<style scoped>\n",
       "    .dataframe tbody tr th:only-of-type {\n",
       "        vertical-align: middle;\n",
       "    }\n",
       "\n",
       "    .dataframe tbody tr th {\n",
       "        vertical-align: top;\n",
       "    }\n",
       "\n",
       "    .dataframe thead th {\n",
       "        text-align: right;\n",
       "    }\n",
       "</style>\n",
       "<table border=\"1\" class=\"dataframe\">\n",
       "  <thead>\n",
       "    <tr style=\"text-align: right;\">\n",
       "      <th></th>\n",
       "      <th>id</th>\n",
       "      <th>name</th>\n",
       "      <th>major</th>\n",
       "      <th>score</th>\n",
       "    </tr>\n",
       "  </thead>\n",
       "  <tbody>\n",
       "    <tr>\n",
       "      <th>0</th>\n",
       "      <td>0</td>\n",
       "      <td>PJ</td>\n",
       "      <td>CS</td>\n",
       "      <td>85.0</td>\n",
       "    </tr>\n",
       "    <tr>\n",
       "      <th>1</th>\n",
       "      <td>1</td>\n",
       "      <td>John</td>\n",
       "      <td>Math</td>\n",
       "      <td>90.0</td>\n",
       "    </tr>\n",
       "    <tr>\n",
       "      <th>2</th>\n",
       "      <td>2</td>\n",
       "      <td>Jane</td>\n",
       "      <td>Math</td>\n",
       "      <td>85.0</td>\n",
       "    </tr>\n",
       "    <tr>\n",
       "      <th>3</th>\n",
       "      <td>3</td>\n",
       "      <td>Bob</td>\n",
       "      <td>English</td>\n",
       "      <td>95.0</td>\n",
       "    </tr>\n",
       "    <tr>\n",
       "      <th>4</th>\n",
       "      <td>4</td>\n",
       "      <td>Alice</td>\n",
       "      <td>History</td>\n",
       "      <td>80.0</td>\n",
       "    </tr>\n",
       "    <tr>\n",
       "      <th>5</th>\n",
       "      <td>5</td>\n",
       "      <td>Tom</td>\n",
       "      <td>Art</td>\n",
       "      <td>NaN</td>\n",
       "    </tr>\n",
       "    <tr>\n",
       "      <th>6</th>\n",
       "      <td>6</td>\n",
       "      <td>Mary</td>\n",
       "      <td>Music</td>\n",
       "      <td>98.0</td>\n",
       "    </tr>\n",
       "  </tbody>\n",
       "</table>\n",
       "</div>"
      ],
      "text/plain": [
       "   id   name    major  score\n",
       "0   0     PJ       CS   85.0\n",
       "1   1   John     Math   90.0\n",
       "2   2   Jane     Math   85.0\n",
       "3   3    Bob  English   95.0\n",
       "4   4  Alice  History   80.0\n",
       "5   5    Tom      Art    NaN\n",
       "6   6   Mary    Music   98.0"
      ]
     },
     "execution_count": 150,
     "metadata": {},
     "output_type": "execute_result"
    }
   ],
   "source": [
    "students = [\n",
    "    (0, 'PJ', 'CS', 85),\n",
    "    (1, 'John', 'Math', 90),\n",
    "    (2, 'Jane', 'Math', 85),\n",
    "    (3, 'Bob', 'English', 95),\n",
    "    (4, 'Alice', 'History', 80),\n",
    "    (5, 'Tom', 'Art', None),\n",
    "    (6, 'Mary', 'Music', 98)\n",
    "]\n",
    "# Insert data into table\n",
    "cursor.executemany('INSERT INTO student VALUES (?,?,?,?)', students)\n",
    "conn.commit()\n",
    "print_student_details()"
   ]
  },
  {
   "cell_type": "code",
   "execution_count": 151,
   "id": "ea548cac",
   "metadata": {},
   "outputs": [
    {
     "data": {
      "text/html": [
       "<div>\n",
       "<style scoped>\n",
       "    .dataframe tbody tr th:only-of-type {\n",
       "        vertical-align: middle;\n",
       "    }\n",
       "\n",
       "    .dataframe tbody tr th {\n",
       "        vertical-align: top;\n",
       "    }\n",
       "\n",
       "    .dataframe thead th {\n",
       "        text-align: right;\n",
       "    }\n",
       "</style>\n",
       "<table border=\"1\" class=\"dataframe\">\n",
       "  <thead>\n",
       "    <tr style=\"text-align: right;\">\n",
       "      <th></th>\n",
       "      <th>id</th>\n",
       "      <th>name</th>\n",
       "      <th>major</th>\n",
       "      <th>score</th>\n",
       "    </tr>\n",
       "  </thead>\n",
       "  <tbody>\n",
       "    <tr>\n",
       "      <th>0</th>\n",
       "      <td>0</td>\n",
       "      <td>PJ</td>\n",
       "      <td>CS</td>\n",
       "      <td>90.0</td>\n",
       "    </tr>\n",
       "    <tr>\n",
       "      <th>1</th>\n",
       "      <td>1</td>\n",
       "      <td>John</td>\n",
       "      <td>Math</td>\n",
       "      <td>90.0</td>\n",
       "    </tr>\n",
       "    <tr>\n",
       "      <th>2</th>\n",
       "      <td>2</td>\n",
       "      <td>Jane</td>\n",
       "      <td>Math</td>\n",
       "      <td>85.0</td>\n",
       "    </tr>\n",
       "    <tr>\n",
       "      <th>3</th>\n",
       "      <td>3</td>\n",
       "      <td>Bob</td>\n",
       "      <td>English</td>\n",
       "      <td>95.0</td>\n",
       "    </tr>\n",
       "    <tr>\n",
       "      <th>4</th>\n",
       "      <td>4</td>\n",
       "      <td>Alice</td>\n",
       "      <td>History</td>\n",
       "      <td>80.0</td>\n",
       "    </tr>\n",
       "    <tr>\n",
       "      <th>5</th>\n",
       "      <td>5</td>\n",
       "      <td>Tom</td>\n",
       "      <td>Art</td>\n",
       "      <td>NaN</td>\n",
       "    </tr>\n",
       "    <tr>\n",
       "      <th>6</th>\n",
       "      <td>6</td>\n",
       "      <td>Mary</td>\n",
       "      <td>Music</td>\n",
       "      <td>98.0</td>\n",
       "    </tr>\n",
       "  </tbody>\n",
       "</table>\n",
       "</div>"
      ],
      "text/plain": [
       "   id   name    major  score\n",
       "0   0     PJ       CS   90.0\n",
       "1   1   John     Math   90.0\n",
       "2   2   Jane     Math   85.0\n",
       "3   3    Bob  English   95.0\n",
       "4   4  Alice  History   80.0\n",
       "5   5    Tom      Art    NaN\n",
       "6   6   Mary    Music   98.0"
      ]
     },
     "execution_count": 151,
     "metadata": {},
     "output_type": "execute_result"
    }
   ],
   "source": [
    "cursor.execute(\"UPDATE student SET score = 90 WHERE name = 'PJ'\")\n",
    "conn.commit()\n",
    "print_student_details()"
   ]
  },
  {
   "cell_type": "code",
   "execution_count": 152,
   "id": "ad7667b1",
   "metadata": {},
   "outputs": [
    {
     "data": {
      "text/html": [
       "<div>\n",
       "<style scoped>\n",
       "    .dataframe tbody tr th:only-of-type {\n",
       "        vertical-align: middle;\n",
       "    }\n",
       "\n",
       "    .dataframe tbody tr th {\n",
       "        vertical-align: top;\n",
       "    }\n",
       "\n",
       "    .dataframe thead th {\n",
       "        text-align: right;\n",
       "    }\n",
       "</style>\n",
       "<table border=\"1\" class=\"dataframe\">\n",
       "  <thead>\n",
       "    <tr style=\"text-align: right;\">\n",
       "      <th></th>\n",
       "      <th>id</th>\n",
       "      <th>name</th>\n",
       "      <th>major</th>\n",
       "      <th>score</th>\n",
       "    </tr>\n",
       "  </thead>\n",
       "  <tbody>\n",
       "    <tr>\n",
       "      <th>0</th>\n",
       "      <td>0</td>\n",
       "      <td>PJ</td>\n",
       "      <td>CS</td>\n",
       "      <td>90.0</td>\n",
       "    </tr>\n",
       "    <tr>\n",
       "      <th>1</th>\n",
       "      <td>1</td>\n",
       "      <td>John</td>\n",
       "      <td>Math</td>\n",
       "      <td>90.0</td>\n",
       "    </tr>\n",
       "    <tr>\n",
       "      <th>2</th>\n",
       "      <td>2</td>\n",
       "      <td>Jane</td>\n",
       "      <td>Math</td>\n",
       "      <td>85.0</td>\n",
       "    </tr>\n",
       "    <tr>\n",
       "      <th>3</th>\n",
       "      <td>3</td>\n",
       "      <td>Bob</td>\n",
       "      <td>English</td>\n",
       "      <td>95.0</td>\n",
       "    </tr>\n",
       "    <tr>\n",
       "      <th>4</th>\n",
       "      <td>4</td>\n",
       "      <td>Alice</td>\n",
       "      <td>History</td>\n",
       "      <td>80.0</td>\n",
       "    </tr>\n",
       "    <tr>\n",
       "      <th>5</th>\n",
       "      <td>5</td>\n",
       "      <td>Tom</td>\n",
       "      <td>Art</td>\n",
       "      <td>NaN</td>\n",
       "    </tr>\n",
       "    <tr>\n",
       "      <th>6</th>\n",
       "      <td>6</td>\n",
       "      <td>Mary</td>\n",
       "      <td>Music</td>\n",
       "      <td>98.0</td>\n",
       "    </tr>\n",
       "  </tbody>\n",
       "</table>\n",
       "</div>"
      ],
      "text/plain": [
       "   id   name    major  score\n",
       "0   0     PJ       CS   90.0\n",
       "1   1   John     Math   90.0\n",
       "2   2   Jane     Math   85.0\n",
       "3   3    Bob  English   95.0\n",
       "4   4  Alice  History   80.0\n",
       "5   5    Tom      Art    NaN\n",
       "6   6   Mary    Music   98.0"
      ]
     },
     "execution_count": 152,
     "metadata": {},
     "output_type": "execute_result"
    }
   ],
   "source": [
    "cursor.execute(\"SELECT * FROM student;\")\n",
    "result = cursor.fetchall()\n",
    "pd.DataFrame(result, columns=['id', 'name', 'major', 'score'])"
   ]
  },
  {
   "cell_type": "code",
   "execution_count": 153,
   "id": "7fbd6e58",
   "metadata": {},
   "outputs": [
    {
     "data": {
      "text/html": [
       "<div>\n",
       "<style scoped>\n",
       "    .dataframe tbody tr th:only-of-type {\n",
       "        vertical-align: middle;\n",
       "    }\n",
       "\n",
       "    .dataframe tbody tr th {\n",
       "        vertical-align: top;\n",
       "    }\n",
       "\n",
       "    .dataframe thead th {\n",
       "        text-align: right;\n",
       "    }\n",
       "</style>\n",
       "<table border=\"1\" class=\"dataframe\">\n",
       "  <thead>\n",
       "    <tr style=\"text-align: right;\">\n",
       "      <th></th>\n",
       "      <th>name</th>\n",
       "      <th>score</th>\n",
       "    </tr>\n",
       "  </thead>\n",
       "  <tbody>\n",
       "    <tr>\n",
       "      <th>0</th>\n",
       "      <td>PJ</td>\n",
       "      <td>90.0</td>\n",
       "    </tr>\n",
       "    <tr>\n",
       "      <th>1</th>\n",
       "      <td>John</td>\n",
       "      <td>90.0</td>\n",
       "    </tr>\n",
       "    <tr>\n",
       "      <th>2</th>\n",
       "      <td>Jane</td>\n",
       "      <td>85.0</td>\n",
       "    </tr>\n",
       "    <tr>\n",
       "      <th>3</th>\n",
       "      <td>Bob</td>\n",
       "      <td>95.0</td>\n",
       "    </tr>\n",
       "    <tr>\n",
       "      <th>4</th>\n",
       "      <td>Alice</td>\n",
       "      <td>80.0</td>\n",
       "    </tr>\n",
       "    <tr>\n",
       "      <th>5</th>\n",
       "      <td>Tom</td>\n",
       "      <td>NaN</td>\n",
       "    </tr>\n",
       "    <tr>\n",
       "      <th>6</th>\n",
       "      <td>Mary</td>\n",
       "      <td>98.0</td>\n",
       "    </tr>\n",
       "  </tbody>\n",
       "</table>\n",
       "</div>"
      ],
      "text/plain": [
       "    name  score\n",
       "0     PJ   90.0\n",
       "1   John   90.0\n",
       "2   Jane   85.0\n",
       "3    Bob   95.0\n",
       "4  Alice   80.0\n",
       "5    Tom    NaN\n",
       "6   Mary   98.0"
      ]
     },
     "execution_count": 153,
     "metadata": {},
     "output_type": "execute_result"
    }
   ],
   "source": [
    "cursor.execute(\"SELECT name, score FROM student;\")\n",
    "result = cursor.fetchall()\n",
    "pd.DataFrame(result, columns=['name', 'score'])"
   ]
  },
  {
   "cell_type": "code",
   "execution_count": 154,
   "id": "2e663953",
   "metadata": {},
   "outputs": [
    {
     "data": {
      "text/html": [
       "<div>\n",
       "<style scoped>\n",
       "    .dataframe tbody tr th:only-of-type {\n",
       "        vertical-align: middle;\n",
       "    }\n",
       "\n",
       "    .dataframe tbody tr th {\n",
       "        vertical-align: top;\n",
       "    }\n",
       "\n",
       "    .dataframe thead th {\n",
       "        text-align: right;\n",
       "    }\n",
       "</style>\n",
       "<table border=\"1\" class=\"dataframe\">\n",
       "  <thead>\n",
       "    <tr style=\"text-align: right;\">\n",
       "      <th></th>\n",
       "      <th>id</th>\n",
       "      <th>name</th>\n",
       "      <th>major</th>\n",
       "      <th>score</th>\n",
       "    </tr>\n",
       "  </thead>\n",
       "  <tbody>\n",
       "    <tr>\n",
       "      <th>0</th>\n",
       "      <td>3</td>\n",
       "      <td>Bob</td>\n",
       "      <td>English</td>\n",
       "      <td>95</td>\n",
       "    </tr>\n",
       "    <tr>\n",
       "      <th>1</th>\n",
       "      <td>6</td>\n",
       "      <td>Mary</td>\n",
       "      <td>Music</td>\n",
       "      <td>98</td>\n",
       "    </tr>\n",
       "  </tbody>\n",
       "</table>\n",
       "</div>"
      ],
      "text/plain": [
       "   id  name    major  score\n",
       "0   3   Bob  English     95\n",
       "1   6  Mary    Music     98"
      ]
     },
     "execution_count": 154,
     "metadata": {},
     "output_type": "execute_result"
    }
   ],
   "source": [
    "cursor.execute(\"SELECT * FROM student WHERE score > 90;\")\n",
    "result = cursor.fetchall()\n",
    "pd.DataFrame(result, columns=['id', 'name', 'major', 'score'])"
   ]
  },
  {
   "cell_type": "code",
   "execution_count": 155,
   "id": "49c54ac7",
   "metadata": {},
   "outputs": [
    {
     "data": {
      "text/html": [
       "<div>\n",
       "<style scoped>\n",
       "    .dataframe tbody tr th:only-of-type {\n",
       "        vertical-align: middle;\n",
       "    }\n",
       "\n",
       "    .dataframe tbody tr th {\n",
       "        vertical-align: top;\n",
       "    }\n",
       "\n",
       "    .dataframe thead th {\n",
       "        text-align: right;\n",
       "    }\n",
       "</style>\n",
       "<table border=\"1\" class=\"dataframe\">\n",
       "  <thead>\n",
       "    <tr style=\"text-align: right;\">\n",
       "      <th></th>\n",
       "      <th>id</th>\n",
       "      <th>name</th>\n",
       "      <th>major</th>\n",
       "      <th>score</th>\n",
       "    </tr>\n",
       "  </thead>\n",
       "  <tbody>\n",
       "    <tr>\n",
       "      <th>0</th>\n",
       "      <td>0</td>\n",
       "      <td>PJ</td>\n",
       "      <td>CS</td>\n",
       "      <td>90</td>\n",
       "    </tr>\n",
       "    <tr>\n",
       "      <th>1</th>\n",
       "      <td>1</td>\n",
       "      <td>John</td>\n",
       "      <td>Math</td>\n",
       "      <td>90</td>\n",
       "    </tr>\n",
       "    <tr>\n",
       "      <th>2</th>\n",
       "      <td>2</td>\n",
       "      <td>Jane</td>\n",
       "      <td>Math</td>\n",
       "      <td>85</td>\n",
       "    </tr>\n",
       "    <tr>\n",
       "      <th>3</th>\n",
       "      <td>3</td>\n",
       "      <td>Bob</td>\n",
       "      <td>English</td>\n",
       "      <td>95</td>\n",
       "    </tr>\n",
       "    <tr>\n",
       "      <th>4</th>\n",
       "      <td>6</td>\n",
       "      <td>Mary</td>\n",
       "      <td>Music</td>\n",
       "      <td>98</td>\n",
       "    </tr>\n",
       "  </tbody>\n",
       "</table>\n",
       "</div>"
      ],
      "text/plain": [
       "   id  name    major  score\n",
       "0   0    PJ       CS     90\n",
       "1   1  John     Math     90\n",
       "2   2  Jane     Math     85\n",
       "3   3   Bob  English     95\n",
       "4   6  Mary    Music     98"
      ]
     },
     "execution_count": 155,
     "metadata": {},
     "output_type": "execute_result"
    }
   ],
   "source": [
    "cursor.execute(\"SELECT * FROM student WHERE score <> 80;\")\n",
    "result = cursor.fetchall()\n",
    "pd.DataFrame(result, columns=['id', 'name', 'major', 'score'])"
   ]
  },
  {
   "cell_type": "code",
   "execution_count": 156,
   "id": "78ef6e3d",
   "metadata": {},
   "outputs": [
    {
     "data": {
      "text/html": [
       "<div>\n",
       "<style scoped>\n",
       "    .dataframe tbody tr th:only-of-type {\n",
       "        vertical-align: middle;\n",
       "    }\n",
       "\n",
       "    .dataframe tbody tr th {\n",
       "        vertical-align: top;\n",
       "    }\n",
       "\n",
       "    .dataframe thead th {\n",
       "        text-align: right;\n",
       "    }\n",
       "</style>\n",
       "<table border=\"1\" class=\"dataframe\">\n",
       "  <thead>\n",
       "    <tr style=\"text-align: right;\">\n",
       "      <th></th>\n",
       "      <th>id</th>\n",
       "      <th>name</th>\n",
       "      <th>major</th>\n",
       "      <th>score</th>\n",
       "    </tr>\n",
       "  </thead>\n",
       "  <tbody>\n",
       "    <tr>\n",
       "      <th>0</th>\n",
       "      <td>0</td>\n",
       "      <td>PJ</td>\n",
       "      <td>CS</td>\n",
       "      <td>90</td>\n",
       "    </tr>\n",
       "    <tr>\n",
       "      <th>1</th>\n",
       "      <td>1</td>\n",
       "      <td>John</td>\n",
       "      <td>Math</td>\n",
       "      <td>90</td>\n",
       "    </tr>\n",
       "    <tr>\n",
       "      <th>2</th>\n",
       "      <td>2</td>\n",
       "      <td>Jane</td>\n",
       "      <td>Math</td>\n",
       "      <td>85</td>\n",
       "    </tr>\n",
       "    <tr>\n",
       "      <th>3</th>\n",
       "      <td>3</td>\n",
       "      <td>Bob</td>\n",
       "      <td>English</td>\n",
       "      <td>95</td>\n",
       "    </tr>\n",
       "    <tr>\n",
       "      <th>4</th>\n",
       "      <td>4</td>\n",
       "      <td>Alice</td>\n",
       "      <td>History</td>\n",
       "      <td>80</td>\n",
       "    </tr>\n",
       "  </tbody>\n",
       "</table>\n",
       "</div>"
      ],
      "text/plain": [
       "   id   name    major  score\n",
       "0   0     PJ       CS     90\n",
       "1   1   John     Math     90\n",
       "2   2   Jane     Math     85\n",
       "3   3    Bob  English     95\n",
       "4   4  Alice  History     80"
      ]
     },
     "execution_count": 156,
     "metadata": {},
     "output_type": "execute_result"
    }
   ],
   "source": [
    "cursor.execute(\"SELECT * FROM student WHERE score BETWEEN 80 AND 95;\")\n",
    "result = cursor.fetchall()\n",
    "pd.DataFrame(result, columns=['id', 'name', 'major', 'score'])"
   ]
  },
  {
   "cell_type": "code",
   "execution_count": 157,
   "id": "b1661ba4",
   "metadata": {},
   "outputs": [
    {
     "data": {
      "text/html": [
       "<div>\n",
       "<style scoped>\n",
       "    .dataframe tbody tr th:only-of-type {\n",
       "        vertical-align: middle;\n",
       "    }\n",
       "\n",
       "    .dataframe tbody tr th {\n",
       "        vertical-align: top;\n",
       "    }\n",
       "\n",
       "    .dataframe thead th {\n",
       "        text-align: right;\n",
       "    }\n",
       "</style>\n",
       "<table border=\"1\" class=\"dataframe\">\n",
       "  <thead>\n",
       "    <tr style=\"text-align: right;\">\n",
       "      <th></th>\n",
       "      <th>id</th>\n",
       "      <th>name</th>\n",
       "      <th>age</th>\n",
       "      <th>major</th>\n",
       "    </tr>\n",
       "  </thead>\n",
       "  <tbody>\n",
       "    <tr>\n",
       "      <th>0</th>\n",
       "      <td>1</td>\n",
       "      <td>John</td>\n",
       "      <td>Math</td>\n",
       "      <td>90</td>\n",
       "    </tr>\n",
       "    <tr>\n",
       "      <th>1</th>\n",
       "      <td>2</td>\n",
       "      <td>Jane</td>\n",
       "      <td>Math</td>\n",
       "      <td>85</td>\n",
       "    </tr>\n",
       "    <tr>\n",
       "      <th>2</th>\n",
       "      <td>3</td>\n",
       "      <td>Bob</td>\n",
       "      <td>English</td>\n",
       "      <td>95</td>\n",
       "    </tr>\n",
       "  </tbody>\n",
       "</table>\n",
       "</div>"
      ],
      "text/plain": [
       "   id  name      age  major\n",
       "0   1  John     Math     90\n",
       "1   2  Jane     Math     85\n",
       "2   3   Bob  English     95"
      ]
     },
     "execution_count": 157,
     "metadata": {},
     "output_type": "execute_result"
    }
   ],
   "source": [
    "cursor.execute(\"SELECT * FROM student WHERE major in ('English', 'Math')\")\n",
    "result = cursor.fetchall()\n",
    "pd.DataFrame(result, columns=['id', 'name', 'age','major'])"
   ]
  },
  {
   "cell_type": "code",
   "execution_count": 158,
   "id": "41eccc09",
   "metadata": {},
   "outputs": [
    {
     "data": {
      "text/html": [
       "<div>\n",
       "<style scoped>\n",
       "    .dataframe tbody tr th:only-of-type {\n",
       "        vertical-align: middle;\n",
       "    }\n",
       "\n",
       "    .dataframe tbody tr th {\n",
       "        vertical-align: top;\n",
       "    }\n",
       "\n",
       "    .dataframe thead th {\n",
       "        text-align: right;\n",
       "    }\n",
       "</style>\n",
       "<table border=\"1\" class=\"dataframe\">\n",
       "  <thead>\n",
       "    <tr style=\"text-align: right;\">\n",
       "      <th></th>\n",
       "      <th>id</th>\n",
       "      <th>name</th>\n",
       "      <th>age</th>\n",
       "      <th>gender</th>\n",
       "    </tr>\n",
       "  </thead>\n",
       "  <tbody>\n",
       "    <tr>\n",
       "      <th>0</th>\n",
       "      <td>1</td>\n",
       "      <td>John</td>\n",
       "      <td>Math</td>\n",
       "      <td>90</td>\n",
       "    </tr>\n",
       "    <tr>\n",
       "      <th>1</th>\n",
       "      <td>2</td>\n",
       "      <td>Jane</td>\n",
       "      <td>Math</td>\n",
       "      <td>85</td>\n",
       "    </tr>\n",
       "  </tbody>\n",
       "</table>\n",
       "</div>"
      ],
      "text/plain": [
       "   id  name   age  gender\n",
       "0   1  John  Math      90\n",
       "1   2  Jane  Math      85"
      ]
     },
     "execution_count": 158,
     "metadata": {},
     "output_type": "execute_result"
    }
   ],
   "source": [
    "cursor.execute(\"SELECT * FROM student WHERE name LIKE 'J%';\")\n",
    "result = cursor.fetchall()\n",
    "pd.DataFrame(result, columns=['id', 'name', 'age', 'gender'])"
   ]
  },
  {
   "cell_type": "code",
   "execution_count": 159,
   "id": "e6b330e5",
   "metadata": {},
   "outputs": [
    {
     "data": {
      "text/html": [
       "<div>\n",
       "<style scoped>\n",
       "    .dataframe tbody tr th:only-of-type {\n",
       "        vertical-align: middle;\n",
       "    }\n",
       "\n",
       "    .dataframe tbody tr th {\n",
       "        vertical-align: top;\n",
       "    }\n",
       "\n",
       "    .dataframe thead th {\n",
       "        text-align: right;\n",
       "    }\n",
       "</style>\n",
       "<table border=\"1\" class=\"dataframe\">\n",
       "  <thead>\n",
       "    <tr style=\"text-align: right;\">\n",
       "      <th></th>\n",
       "      <th>id</th>\n",
       "      <th>name</th>\n",
       "      <th>age</th>\n",
       "      <th>gender</th>\n",
       "    </tr>\n",
       "  </thead>\n",
       "  <tbody>\n",
       "    <tr>\n",
       "      <th>0</th>\n",
       "      <td>1</td>\n",
       "      <td>John</td>\n",
       "      <td>Math</td>\n",
       "      <td>90</td>\n",
       "    </tr>\n",
       "  </tbody>\n",
       "</table>\n",
       "</div>"
      ],
      "text/plain": [
       "   id  name   age  gender\n",
       "0   1  John  Math      90"
      ]
     },
     "execution_count": 159,
     "metadata": {},
     "output_type": "execute_result"
    }
   ],
   "source": [
    "cursor.execute(\"SELECT * FROM student WHERE name LIKE 'J_hn';\")\n",
    "result = cursor.fetchall()\n",
    "pd.DataFrame(result, columns=['id', 'name', 'age', 'gender'])"
   ]
  },
  {
   "cell_type": "code",
   "execution_count": 160,
   "id": "b20c84ba",
   "metadata": {},
   "outputs": [
    {
     "data": {
      "text/html": [
       "<div>\n",
       "<style scoped>\n",
       "    .dataframe tbody tr th:only-of-type {\n",
       "        vertical-align: middle;\n",
       "    }\n",
       "\n",
       "    .dataframe tbody tr th {\n",
       "        vertical-align: top;\n",
       "    }\n",
       "\n",
       "    .dataframe thead th {\n",
       "        text-align: right;\n",
       "    }\n",
       "</style>\n",
       "<table border=\"1\" class=\"dataframe\">\n",
       "  <thead>\n",
       "    <tr style=\"text-align: right;\">\n",
       "      <th></th>\n",
       "      <th>id</th>\n",
       "      <th>name</th>\n",
       "      <th>major</th>\n",
       "      <th>score</th>\n",
       "    </tr>\n",
       "  </thead>\n",
       "  <tbody>\n",
       "    <tr>\n",
       "      <th>0</th>\n",
       "      <td>5</td>\n",
       "      <td>Tom</td>\n",
       "      <td>Art</td>\n",
       "      <td>None</td>\n",
       "    </tr>\n",
       "  </tbody>\n",
       "</table>\n",
       "</div>"
      ],
      "text/plain": [
       "   id name major score\n",
       "0   5  Tom   Art  None"
      ]
     },
     "execution_count": 160,
     "metadata": {},
     "output_type": "execute_result"
    }
   ],
   "source": [
    "cursor.execute(\"SELECT * FROM student WHERE score is NULL;\")\n",
    "result = cursor.fetchall()\n",
    "pd.DataFrame(result, columns=['id', 'name', 'major', 'score'])"
   ]
  },
  {
   "cell_type": "code",
   "execution_count": 161,
   "id": "5582a770",
   "metadata": {},
   "outputs": [
    {
     "data": {
      "text/html": [
       "<div>\n",
       "<style scoped>\n",
       "    .dataframe tbody tr th:only-of-type {\n",
       "        vertical-align: middle;\n",
       "    }\n",
       "\n",
       "    .dataframe tbody tr th {\n",
       "        vertical-align: top;\n",
       "    }\n",
       "\n",
       "    .dataframe thead th {\n",
       "        text-align: right;\n",
       "    }\n",
       "</style>\n",
       "<table border=\"1\" class=\"dataframe\">\n",
       "  <thead>\n",
       "    <tr style=\"text-align: right;\">\n",
       "      <th></th>\n",
       "      <th>id</th>\n",
       "      <th>name</th>\n",
       "      <th>score</th>\n",
       "    </tr>\n",
       "  </thead>\n",
       "  <tbody>\n",
       "    <tr>\n",
       "      <th>0</th>\n",
       "      <td>6</td>\n",
       "      <td>Mary</td>\n",
       "      <td>98.0</td>\n",
       "    </tr>\n",
       "    <tr>\n",
       "      <th>1</th>\n",
       "      <td>3</td>\n",
       "      <td>Bob</td>\n",
       "      <td>95.0</td>\n",
       "    </tr>\n",
       "    <tr>\n",
       "      <th>2</th>\n",
       "      <td>0</td>\n",
       "      <td>PJ</td>\n",
       "      <td>90.0</td>\n",
       "    </tr>\n",
       "    <tr>\n",
       "      <th>3</th>\n",
       "      <td>1</td>\n",
       "      <td>John</td>\n",
       "      <td>90.0</td>\n",
       "    </tr>\n",
       "    <tr>\n",
       "      <th>4</th>\n",
       "      <td>2</td>\n",
       "      <td>Jane</td>\n",
       "      <td>85.0</td>\n",
       "    </tr>\n",
       "    <tr>\n",
       "      <th>5</th>\n",
       "      <td>4</td>\n",
       "      <td>Alice</td>\n",
       "      <td>80.0</td>\n",
       "    </tr>\n",
       "    <tr>\n",
       "      <th>6</th>\n",
       "      <td>5</td>\n",
       "      <td>Tom</td>\n",
       "      <td>NaN</td>\n",
       "    </tr>\n",
       "  </tbody>\n",
       "</table>\n",
       "</div>"
      ],
      "text/plain": [
       "   id   name  score\n",
       "0   6   Mary   98.0\n",
       "1   3    Bob   95.0\n",
       "2   0     PJ   90.0\n",
       "3   1   John   90.0\n",
       "4   2   Jane   85.0\n",
       "5   4  Alice   80.0\n",
       "6   5    Tom    NaN"
      ]
     },
     "execution_count": 161,
     "metadata": {},
     "output_type": "execute_result"
    }
   ],
   "source": [
    "cursor.execute(\"SELECT id, name, score FROM student ORDER BY score DESC;\")\n",
    "result = cursor.fetchall()\n",
    "pd.DataFrame(result, columns=['id', 'name', 'score'])"
   ]
  },
  {
   "cell_type": "code",
   "execution_count": 162,
   "id": "01a414de",
   "metadata": {},
   "outputs": [
    {
     "data": {
      "text/html": [
       "<div>\n",
       "<style scoped>\n",
       "    .dataframe tbody tr th:only-of-type {\n",
       "        vertical-align: middle;\n",
       "    }\n",
       "\n",
       "    .dataframe tbody tr th {\n",
       "        vertical-align: top;\n",
       "    }\n",
       "\n",
       "    .dataframe thead th {\n",
       "        text-align: right;\n",
       "    }\n",
       "</style>\n",
       "<table border=\"1\" class=\"dataframe\">\n",
       "  <thead>\n",
       "    <tr style=\"text-align: right;\">\n",
       "      <th></th>\n",
       "      <th>Major</th>\n",
       "    </tr>\n",
       "  </thead>\n",
       "  <tbody>\n",
       "    <tr>\n",
       "      <th>0</th>\n",
       "      <td>CS</td>\n",
       "    </tr>\n",
       "    <tr>\n",
       "      <th>1</th>\n",
       "      <td>Math</td>\n",
       "    </tr>\n",
       "    <tr>\n",
       "      <th>2</th>\n",
       "      <td>English</td>\n",
       "    </tr>\n",
       "    <tr>\n",
       "      <th>3</th>\n",
       "      <td>History</td>\n",
       "    </tr>\n",
       "    <tr>\n",
       "      <th>4</th>\n",
       "      <td>Art</td>\n",
       "    </tr>\n",
       "    <tr>\n",
       "      <th>5</th>\n",
       "      <td>Music</td>\n",
       "    </tr>\n",
       "  </tbody>\n",
       "</table>\n",
       "</div>"
      ],
      "text/plain": [
       "     Major\n",
       "0       CS\n",
       "1     Math\n",
       "2  English\n",
       "3  History\n",
       "4      Art\n",
       "5    Music"
      ]
     },
     "execution_count": 162,
     "metadata": {},
     "output_type": "execute_result"
    }
   ],
   "source": [
    "cursor.execute(\"SELECT DISTINCT major FROM student;\")\n",
    "result = cursor.fetchall()\n",
    "pd.DataFrame(result, columns=['Major'])"
   ]
  },
  {
   "cell_type": "code",
   "execution_count": 163,
   "id": "a3dc5890",
   "metadata": {},
   "outputs": [
    {
     "data": {
      "text/html": [
       "<div>\n",
       "<style scoped>\n",
       "    .dataframe tbody tr th:only-of-type {\n",
       "        vertical-align: middle;\n",
       "    }\n",
       "\n",
       "    .dataframe tbody tr th {\n",
       "        vertical-align: top;\n",
       "    }\n",
       "\n",
       "    .dataframe thead th {\n",
       "        text-align: right;\n",
       "    }\n",
       "</style>\n",
       "<table border=\"1\" class=\"dataframe\">\n",
       "  <thead>\n",
       "    <tr style=\"text-align: right;\">\n",
       "      <th></th>\n",
       "      <th>Major</th>\n",
       "      <th>Mean Score</th>\n",
       "    </tr>\n",
       "  </thead>\n",
       "  <tbody>\n",
       "    <tr>\n",
       "      <th>0</th>\n",
       "      <td>Art</td>\n",
       "      <td>NaN</td>\n",
       "    </tr>\n",
       "    <tr>\n",
       "      <th>1</th>\n",
       "      <td>CS</td>\n",
       "      <td>90.0</td>\n",
       "    </tr>\n",
       "    <tr>\n",
       "      <th>2</th>\n",
       "      <td>English</td>\n",
       "      <td>95.0</td>\n",
       "    </tr>\n",
       "    <tr>\n",
       "      <th>3</th>\n",
       "      <td>History</td>\n",
       "      <td>80.0</td>\n",
       "    </tr>\n",
       "    <tr>\n",
       "      <th>4</th>\n",
       "      <td>Math</td>\n",
       "      <td>87.5</td>\n",
       "    </tr>\n",
       "    <tr>\n",
       "      <th>5</th>\n",
       "      <td>Music</td>\n",
       "      <td>98.0</td>\n",
       "    </tr>\n",
       "  </tbody>\n",
       "</table>\n",
       "</div>"
      ],
      "text/plain": [
       "     Major  Mean Score\n",
       "0      Art         NaN\n",
       "1       CS        90.0\n",
       "2  English        95.0\n",
       "3  History        80.0\n",
       "4     Math        87.5\n",
       "5    Music        98.0"
      ]
     },
     "execution_count": 163,
     "metadata": {},
     "output_type": "execute_result"
    }
   ],
   "source": [
    "cursor.execute(\"SELECT major, AVG(score) FROM student GROUP BY major;\")\n",
    "result = cursor.fetchall()\n",
    "pd.DataFrame(result, columns=['Major', 'Mean Score'])"
   ]
  },
  {
   "cell_type": "code",
   "execution_count": 164,
   "id": "55cc3bc3",
   "metadata": {},
   "outputs": [
    {
     "data": {
      "text/html": [
       "<div>\n",
       "<style scoped>\n",
       "    .dataframe tbody tr th:only-of-type {\n",
       "        vertical-align: middle;\n",
       "    }\n",
       "\n",
       "    .dataframe tbody tr th {\n",
       "        vertical-align: top;\n",
       "    }\n",
       "\n",
       "    .dataframe thead th {\n",
       "        text-align: right;\n",
       "    }\n",
       "</style>\n",
       "<table border=\"1\" class=\"dataframe\">\n",
       "  <thead>\n",
       "    <tr style=\"text-align: right;\">\n",
       "      <th></th>\n",
       "      <th>major</th>\n",
       "      <th>AVG(score)</th>\n",
       "    </tr>\n",
       "  </thead>\n",
       "  <tbody>\n",
       "    <tr>\n",
       "      <th>0</th>\n",
       "      <td>Math</td>\n",
       "      <td>87.5</td>\n",
       "    </tr>\n",
       "  </tbody>\n",
       "</table>\n",
       "</div>"
      ],
      "text/plain": [
       "  major  AVG(score)\n",
       "0  Math        87.5"
      ]
     },
     "execution_count": 164,
     "metadata": {},
     "output_type": "execute_result"
    }
   ],
   "source": [
    "cursor.execute(\"SELECT major, AVG(score) AS avg_score FROM student \\\n",
    "                Group by major HAVING COUNT(*) > 1\")\n",
    "result = cursor.fetchall()\n",
    "pd.DataFrame(result, columns=['major', 'AVG(score)'])"
   ]
  },
  {
   "cell_type": "code",
   "execution_count": 165,
   "id": "a1f47092",
   "metadata": {},
   "outputs": [],
   "source": [
    "import sqlite3\n",
    "conn = sqlite3.connect('example.db')\n",
    "cursor = conn.cursor()"
   ]
  },
  {
   "cell_type": "code",
   "execution_count": 166,
   "id": "e60d225a",
   "metadata": {},
   "outputs": [],
   "source": [
    "cursor.execute('''CREATE TABLE IF NOT EXISTS st_info\n",
    "             (name, age, gender);''')\n",
    "conn.commit()"
   ]
  },
  {
   "cell_type": "code",
   "execution_count": 167,
   "id": "38f8951b",
   "metadata": {},
   "outputs": [
    {
     "data": {
      "text/html": [
       "<div>\n",
       "<style scoped>\n",
       "    .dataframe tbody tr th:only-of-type {\n",
       "        vertical-align: middle;\n",
       "    }\n",
       "\n",
       "    .dataframe tbody tr th {\n",
       "        vertical-align: top;\n",
       "    }\n",
       "\n",
       "    .dataframe thead th {\n",
       "        text-align: right;\n",
       "    }\n",
       "</style>\n",
       "<table border=\"1\" class=\"dataframe\">\n",
       "  <thead>\n",
       "    <tr style=\"text-align: right;\">\n",
       "      <th></th>\n",
       "      <th>id</th>\n",
       "      <th>name</th>\n",
       "      <th>major</th>\n",
       "      <th>score</th>\n",
       "    </tr>\n",
       "  </thead>\n",
       "  <tbody>\n",
       "    <tr>\n",
       "      <th>0</th>\n",
       "      <td>0</td>\n",
       "      <td>PJ</td>\n",
       "      <td>CS</td>\n",
       "      <td>90.0</td>\n",
       "    </tr>\n",
       "    <tr>\n",
       "      <th>1</th>\n",
       "      <td>1</td>\n",
       "      <td>John</td>\n",
       "      <td>Math</td>\n",
       "      <td>90.0</td>\n",
       "    </tr>\n",
       "    <tr>\n",
       "      <th>2</th>\n",
       "      <td>2</td>\n",
       "      <td>Jane</td>\n",
       "      <td>Math</td>\n",
       "      <td>85.0</td>\n",
       "    </tr>\n",
       "    <tr>\n",
       "      <th>3</th>\n",
       "      <td>3</td>\n",
       "      <td>Bob</td>\n",
       "      <td>English</td>\n",
       "      <td>95.0</td>\n",
       "    </tr>\n",
       "    <tr>\n",
       "      <th>4</th>\n",
       "      <td>4</td>\n",
       "      <td>Alice</td>\n",
       "      <td>History</td>\n",
       "      <td>80.0</td>\n",
       "    </tr>\n",
       "    <tr>\n",
       "      <th>5</th>\n",
       "      <td>5</td>\n",
       "      <td>Tom</td>\n",
       "      <td>Art</td>\n",
       "      <td>NaN</td>\n",
       "    </tr>\n",
       "    <tr>\n",
       "      <th>6</th>\n",
       "      <td>6</td>\n",
       "      <td>Mary</td>\n",
       "      <td>Music</td>\n",
       "      <td>98.0</td>\n",
       "    </tr>\n",
       "  </tbody>\n",
       "</table>\n",
       "</div>"
      ],
      "text/plain": [
       "   id   name    major  score\n",
       "0   0     PJ       CS   90.0\n",
       "1   1   John     Math   90.0\n",
       "2   2   Jane     Math   85.0\n",
       "3   3    Bob  English   95.0\n",
       "4   4  Alice  History   80.0\n",
       "5   5    Tom      Art    NaN\n",
       "6   6   Mary    Music   98.0"
      ]
     },
     "execution_count": 167,
     "metadata": {},
     "output_type": "execute_result"
    }
   ],
   "source": [
    "st_infos= [\n",
    "    ('Alice', 20, 'Female'),\n",
    "    ('Bob', 22, 'Male'),\n",
    "    ('Charlie', 21, 'Male'),\n",
    "    ('David', 23, 'Male'),\n",
    "    ('Eve', 22, 'Female'),\n",
    "    ('Frank', 21, 'Male')\n",
    "]\n",
    "    \n",
    "# Insert data into table\n",
    "cursor.executemany('INSERT INTO st_info VALUES (?,?,?)',st_infos )\n",
    "conn.commit()\n",
    "print_student_details()"
   ]
  },
  {
   "cell_type": "code",
   "execution_count": 168,
   "id": "bde472cf",
   "metadata": {},
   "outputs": [
    {
     "data": {
      "text/html": [
       "<div>\n",
       "<style scoped>\n",
       "    .dataframe tbody tr th:only-of-type {\n",
       "        vertical-align: middle;\n",
       "    }\n",
       "\n",
       "    .dataframe tbody tr th {\n",
       "        vertical-align: top;\n",
       "    }\n",
       "\n",
       "    .dataframe thead th {\n",
       "        text-align: right;\n",
       "    }\n",
       "</style>\n",
       "<table border=\"1\" class=\"dataframe\">\n",
       "  <thead>\n",
       "    <tr style=\"text-align: right;\">\n",
       "      <th></th>\n",
       "      <th>name</th>\n",
       "      <th>age</th>\n",
       "      <th>gender</th>\n",
       "    </tr>\n",
       "  </thead>\n",
       "  <tbody>\n",
       "    <tr>\n",
       "      <th>0</th>\n",
       "      <td>Alice</td>\n",
       "      <td>20</td>\n",
       "      <td>Female</td>\n",
       "    </tr>\n",
       "    <tr>\n",
       "      <th>1</th>\n",
       "      <td>Bob</td>\n",
       "      <td>22</td>\n",
       "      <td>Male</td>\n",
       "    </tr>\n",
       "    <tr>\n",
       "      <th>2</th>\n",
       "      <td>Charlie</td>\n",
       "      <td>21</td>\n",
       "      <td>Male</td>\n",
       "    </tr>\n",
       "    <tr>\n",
       "      <th>3</th>\n",
       "      <td>David</td>\n",
       "      <td>23</td>\n",
       "      <td>Male</td>\n",
       "    </tr>\n",
       "    <tr>\n",
       "      <th>4</th>\n",
       "      <td>Eve</td>\n",
       "      <td>22</td>\n",
       "      <td>Female</td>\n",
       "    </tr>\n",
       "    <tr>\n",
       "      <th>5</th>\n",
       "      <td>Frank</td>\n",
       "      <td>21</td>\n",
       "      <td>Male</td>\n",
       "    </tr>\n",
       "    <tr>\n",
       "      <th>6</th>\n",
       "      <td>Alice</td>\n",
       "      <td>20</td>\n",
       "      <td>Female</td>\n",
       "    </tr>\n",
       "    <tr>\n",
       "      <th>7</th>\n",
       "      <td>Bob</td>\n",
       "      <td>22</td>\n",
       "      <td>Male</td>\n",
       "    </tr>\n",
       "    <tr>\n",
       "      <th>8</th>\n",
       "      <td>Charlie</td>\n",
       "      <td>21</td>\n",
       "      <td>Male</td>\n",
       "    </tr>\n",
       "    <tr>\n",
       "      <th>9</th>\n",
       "      <td>David</td>\n",
       "      <td>23</td>\n",
       "      <td>Male</td>\n",
       "    </tr>\n",
       "    <tr>\n",
       "      <th>10</th>\n",
       "      <td>Eve</td>\n",
       "      <td>22</td>\n",
       "      <td>Female</td>\n",
       "    </tr>\n",
       "    <tr>\n",
       "      <th>11</th>\n",
       "      <td>Frank</td>\n",
       "      <td>21</td>\n",
       "      <td>Male</td>\n",
       "    </tr>\n",
       "    <tr>\n",
       "      <th>12</th>\n",
       "      <td>Alice</td>\n",
       "      <td>20</td>\n",
       "      <td>Female</td>\n",
       "    </tr>\n",
       "    <tr>\n",
       "      <th>13</th>\n",
       "      <td>Bob</td>\n",
       "      <td>22</td>\n",
       "      <td>Male</td>\n",
       "    </tr>\n",
       "    <tr>\n",
       "      <th>14</th>\n",
       "      <td>Charlie</td>\n",
       "      <td>21</td>\n",
       "      <td>Male</td>\n",
       "    </tr>\n",
       "    <tr>\n",
       "      <th>15</th>\n",
       "      <td>David</td>\n",
       "      <td>23</td>\n",
       "      <td>Male</td>\n",
       "    </tr>\n",
       "    <tr>\n",
       "      <th>16</th>\n",
       "      <td>Eve</td>\n",
       "      <td>22</td>\n",
       "      <td>Female</td>\n",
       "    </tr>\n",
       "    <tr>\n",
       "      <th>17</th>\n",
       "      <td>Frank</td>\n",
       "      <td>21</td>\n",
       "      <td>Male</td>\n",
       "    </tr>\n",
       "    <tr>\n",
       "      <th>18</th>\n",
       "      <td>Alice</td>\n",
       "      <td>20</td>\n",
       "      <td>Female</td>\n",
       "    </tr>\n",
       "    <tr>\n",
       "      <th>19</th>\n",
       "      <td>Bob</td>\n",
       "      <td>22</td>\n",
       "      <td>Male</td>\n",
       "    </tr>\n",
       "    <tr>\n",
       "      <th>20</th>\n",
       "      <td>Charlie</td>\n",
       "      <td>21</td>\n",
       "      <td>Male</td>\n",
       "    </tr>\n",
       "    <tr>\n",
       "      <th>21</th>\n",
       "      <td>David</td>\n",
       "      <td>23</td>\n",
       "      <td>Male</td>\n",
       "    </tr>\n",
       "    <tr>\n",
       "      <th>22</th>\n",
       "      <td>Eve</td>\n",
       "      <td>22</td>\n",
       "      <td>Female</td>\n",
       "    </tr>\n",
       "    <tr>\n",
       "      <th>23</th>\n",
       "      <td>Frank</td>\n",
       "      <td>21</td>\n",
       "      <td>Male</td>\n",
       "    </tr>\n",
       "    <tr>\n",
       "      <th>24</th>\n",
       "      <td>Alice</td>\n",
       "      <td>20</td>\n",
       "      <td>Female</td>\n",
       "    </tr>\n",
       "    <tr>\n",
       "      <th>25</th>\n",
       "      <td>Bob</td>\n",
       "      <td>22</td>\n",
       "      <td>Male</td>\n",
       "    </tr>\n",
       "    <tr>\n",
       "      <th>26</th>\n",
       "      <td>Charlie</td>\n",
       "      <td>21</td>\n",
       "      <td>Male</td>\n",
       "    </tr>\n",
       "    <tr>\n",
       "      <th>27</th>\n",
       "      <td>David</td>\n",
       "      <td>23</td>\n",
       "      <td>Male</td>\n",
       "    </tr>\n",
       "    <tr>\n",
       "      <th>28</th>\n",
       "      <td>Eve</td>\n",
       "      <td>22</td>\n",
       "      <td>Female</td>\n",
       "    </tr>\n",
       "    <tr>\n",
       "      <th>29</th>\n",
       "      <td>Frank</td>\n",
       "      <td>21</td>\n",
       "      <td>Male</td>\n",
       "    </tr>\n",
       "    <tr>\n",
       "      <th>30</th>\n",
       "      <td>Alice</td>\n",
       "      <td>20</td>\n",
       "      <td>Female</td>\n",
       "    </tr>\n",
       "    <tr>\n",
       "      <th>31</th>\n",
       "      <td>Bob</td>\n",
       "      <td>22</td>\n",
       "      <td>Male</td>\n",
       "    </tr>\n",
       "    <tr>\n",
       "      <th>32</th>\n",
       "      <td>Charlie</td>\n",
       "      <td>21</td>\n",
       "      <td>Male</td>\n",
       "    </tr>\n",
       "    <tr>\n",
       "      <th>33</th>\n",
       "      <td>David</td>\n",
       "      <td>23</td>\n",
       "      <td>Male</td>\n",
       "    </tr>\n",
       "    <tr>\n",
       "      <th>34</th>\n",
       "      <td>Eve</td>\n",
       "      <td>22</td>\n",
       "      <td>Female</td>\n",
       "    </tr>\n",
       "    <tr>\n",
       "      <th>35</th>\n",
       "      <td>Frank</td>\n",
       "      <td>21</td>\n",
       "      <td>Male</td>\n",
       "    </tr>\n",
       "    <tr>\n",
       "      <th>36</th>\n",
       "      <td>Alice</td>\n",
       "      <td>20</td>\n",
       "      <td>Female</td>\n",
       "    </tr>\n",
       "    <tr>\n",
       "      <th>37</th>\n",
       "      <td>Bob</td>\n",
       "      <td>22</td>\n",
       "      <td>Male</td>\n",
       "    </tr>\n",
       "    <tr>\n",
       "      <th>38</th>\n",
       "      <td>Charlie</td>\n",
       "      <td>21</td>\n",
       "      <td>Male</td>\n",
       "    </tr>\n",
       "    <tr>\n",
       "      <th>39</th>\n",
       "      <td>David</td>\n",
       "      <td>23</td>\n",
       "      <td>Male</td>\n",
       "    </tr>\n",
       "    <tr>\n",
       "      <th>40</th>\n",
       "      <td>Eve</td>\n",
       "      <td>22</td>\n",
       "      <td>Female</td>\n",
       "    </tr>\n",
       "    <tr>\n",
       "      <th>41</th>\n",
       "      <td>Frank</td>\n",
       "      <td>21</td>\n",
       "      <td>Male</td>\n",
       "    </tr>\n",
       "    <tr>\n",
       "      <th>42</th>\n",
       "      <td>Alice</td>\n",
       "      <td>20</td>\n",
       "      <td>Female</td>\n",
       "    </tr>\n",
       "    <tr>\n",
       "      <th>43</th>\n",
       "      <td>Bob</td>\n",
       "      <td>22</td>\n",
       "      <td>Male</td>\n",
       "    </tr>\n",
       "    <tr>\n",
       "      <th>44</th>\n",
       "      <td>Charlie</td>\n",
       "      <td>21</td>\n",
       "      <td>Male</td>\n",
       "    </tr>\n",
       "    <tr>\n",
       "      <th>45</th>\n",
       "      <td>David</td>\n",
       "      <td>23</td>\n",
       "      <td>Male</td>\n",
       "    </tr>\n",
       "    <tr>\n",
       "      <th>46</th>\n",
       "      <td>Eve</td>\n",
       "      <td>22</td>\n",
       "      <td>Female</td>\n",
       "    </tr>\n",
       "    <tr>\n",
       "      <th>47</th>\n",
       "      <td>Frank</td>\n",
       "      <td>21</td>\n",
       "      <td>Male</td>\n",
       "    </tr>\n",
       "    <tr>\n",
       "      <th>48</th>\n",
       "      <td>Alice</td>\n",
       "      <td>20</td>\n",
       "      <td>Female</td>\n",
       "    </tr>\n",
       "    <tr>\n",
       "      <th>49</th>\n",
       "      <td>Bob</td>\n",
       "      <td>22</td>\n",
       "      <td>Male</td>\n",
       "    </tr>\n",
       "    <tr>\n",
       "      <th>50</th>\n",
       "      <td>Charlie</td>\n",
       "      <td>21</td>\n",
       "      <td>Male</td>\n",
       "    </tr>\n",
       "    <tr>\n",
       "      <th>51</th>\n",
       "      <td>David</td>\n",
       "      <td>23</td>\n",
       "      <td>Male</td>\n",
       "    </tr>\n",
       "    <tr>\n",
       "      <th>52</th>\n",
       "      <td>Eve</td>\n",
       "      <td>22</td>\n",
       "      <td>Female</td>\n",
       "    </tr>\n",
       "    <tr>\n",
       "      <th>53</th>\n",
       "      <td>Frank</td>\n",
       "      <td>21</td>\n",
       "      <td>Male</td>\n",
       "    </tr>\n",
       "  </tbody>\n",
       "</table>\n",
       "</div>"
      ],
      "text/plain": [
       "       name  age  gender\n",
       "0     Alice   20  Female\n",
       "1       Bob   22    Male\n",
       "2   Charlie   21    Male\n",
       "3     David   23    Male\n",
       "4       Eve   22  Female\n",
       "5     Frank   21    Male\n",
       "6     Alice   20  Female\n",
       "7       Bob   22    Male\n",
       "8   Charlie   21    Male\n",
       "9     David   23    Male\n",
       "10      Eve   22  Female\n",
       "11    Frank   21    Male\n",
       "12    Alice   20  Female\n",
       "13      Bob   22    Male\n",
       "14  Charlie   21    Male\n",
       "15    David   23    Male\n",
       "16      Eve   22  Female\n",
       "17    Frank   21    Male\n",
       "18    Alice   20  Female\n",
       "19      Bob   22    Male\n",
       "20  Charlie   21    Male\n",
       "21    David   23    Male\n",
       "22      Eve   22  Female\n",
       "23    Frank   21    Male\n",
       "24    Alice   20  Female\n",
       "25      Bob   22    Male\n",
       "26  Charlie   21    Male\n",
       "27    David   23    Male\n",
       "28      Eve   22  Female\n",
       "29    Frank   21    Male\n",
       "30    Alice   20  Female\n",
       "31      Bob   22    Male\n",
       "32  Charlie   21    Male\n",
       "33    David   23    Male\n",
       "34      Eve   22  Female\n",
       "35    Frank   21    Male\n",
       "36    Alice   20  Female\n",
       "37      Bob   22    Male\n",
       "38  Charlie   21    Male\n",
       "39    David   23    Male\n",
       "40      Eve   22  Female\n",
       "41    Frank   21    Male\n",
       "42    Alice   20  Female\n",
       "43      Bob   22    Male\n",
       "44  Charlie   21    Male\n",
       "45    David   23    Male\n",
       "46      Eve   22  Female\n",
       "47    Frank   21    Male\n",
       "48    Alice   20  Female\n",
       "49      Bob   22    Male\n",
       "50  Charlie   21    Male\n",
       "51    David   23    Male\n",
       "52      Eve   22  Female\n",
       "53    Frank   21    Male"
      ]
     },
     "execution_count": 168,
     "metadata": {},
     "output_type": "execute_result"
    }
   ],
   "source": [
    "cursor.execute(\"SELECT * FROM st_info;\")\n",
    "result = cursor.fetchall()\n",
    "pd.DataFrame(result, columns=['name', 'age', 'gender'])"
   ]
  },
  {
   "cell_type": "code",
   "execution_count": 169,
   "id": "69c16278",
   "metadata": {},
   "outputs": [],
   "source": [
    "cursor.execute(\"SELECT * FROM student INNER JOIN st_info ON student.name=st_info.name;\")\n",
    "result = cursor.fetchall()\n",
    "df = pd.DataFrame(result, columns=['id', 'name', 'major', 'score', 'name2', 'age', 'gender'])\n"
   ]
  },
  {
   "cell_type": "code",
   "execution_count": 170,
   "id": "68f02781",
   "metadata": {},
   "outputs": [],
   "source": [
    "cursor.execute(\"SELECT * FROM student INNER JOIN st_info ON student.name=st_info.name;\")\n",
    "result = cursor.fetchall()\n",
    "df = pd.DataFrame(result, columns=['id', 'name', 'major', 'score', 'name2', 'age', 'gender'])\n"
   ]
  },
  {
   "cell_type": "code",
   "execution_count": 171,
   "id": "424aafed",
   "metadata": {},
   "outputs": [
    {
     "data": {
      "text/html": [
       "<div>\n",
       "<style scoped>\n",
       "    .dataframe tbody tr th:only-of-type {\n",
       "        vertical-align: middle;\n",
       "    }\n",
       "\n",
       "    .dataframe tbody tr th {\n",
       "        vertical-align: top;\n",
       "    }\n",
       "\n",
       "    .dataframe thead th {\n",
       "        text-align: right;\n",
       "    }\n",
       "</style>\n",
       "<table border=\"1\" class=\"dataframe\">\n",
       "  <thead>\n",
       "    <tr style=\"text-align: right;\">\n",
       "      <th></th>\n",
       "      <th>id</th>\n",
       "      <th>name</th>\n",
       "      <th>major</th>\n",
       "      <th>score</th>\n",
       "      <th>name</th>\n",
       "      <th>age</th>\n",
       "      <th>gender</th>\n",
       "    </tr>\n",
       "  </thead>\n",
       "  <tbody>\n",
       "    <tr>\n",
       "      <th>0</th>\n",
       "      <td>0.0</td>\n",
       "      <td>PJ</td>\n",
       "      <td>CS</td>\n",
       "      <td>90.0</td>\n",
       "      <td>None</td>\n",
       "      <td>NaN</td>\n",
       "      <td>None</td>\n",
       "    </tr>\n",
       "    <tr>\n",
       "      <th>1</th>\n",
       "      <td>1.0</td>\n",
       "      <td>John</td>\n",
       "      <td>Math</td>\n",
       "      <td>90.0</td>\n",
       "      <td>None</td>\n",
       "      <td>NaN</td>\n",
       "      <td>None</td>\n",
       "    </tr>\n",
       "    <tr>\n",
       "      <th>2</th>\n",
       "      <td>2.0</td>\n",
       "      <td>Jane</td>\n",
       "      <td>Math</td>\n",
       "      <td>85.0</td>\n",
       "      <td>None</td>\n",
       "      <td>NaN</td>\n",
       "      <td>None</td>\n",
       "    </tr>\n",
       "    <tr>\n",
       "      <th>3</th>\n",
       "      <td>3.0</td>\n",
       "      <td>Bob</td>\n",
       "      <td>English</td>\n",
       "      <td>95.0</td>\n",
       "      <td>Bob</td>\n",
       "      <td>22.0</td>\n",
       "      <td>Male</td>\n",
       "    </tr>\n",
       "    <tr>\n",
       "      <th>4</th>\n",
       "      <td>3.0</td>\n",
       "      <td>Bob</td>\n",
       "      <td>English</td>\n",
       "      <td>95.0</td>\n",
       "      <td>Bob</td>\n",
       "      <td>22.0</td>\n",
       "      <td>Male</td>\n",
       "    </tr>\n",
       "    <tr>\n",
       "      <th>5</th>\n",
       "      <td>3.0</td>\n",
       "      <td>Bob</td>\n",
       "      <td>English</td>\n",
       "      <td>95.0</td>\n",
       "      <td>Bob</td>\n",
       "      <td>22.0</td>\n",
       "      <td>Male</td>\n",
       "    </tr>\n",
       "    <tr>\n",
       "      <th>6</th>\n",
       "      <td>3.0</td>\n",
       "      <td>Bob</td>\n",
       "      <td>English</td>\n",
       "      <td>95.0</td>\n",
       "      <td>Bob</td>\n",
       "      <td>22.0</td>\n",
       "      <td>Male</td>\n",
       "    </tr>\n",
       "    <tr>\n",
       "      <th>7</th>\n",
       "      <td>3.0</td>\n",
       "      <td>Bob</td>\n",
       "      <td>English</td>\n",
       "      <td>95.0</td>\n",
       "      <td>Bob</td>\n",
       "      <td>22.0</td>\n",
       "      <td>Male</td>\n",
       "    </tr>\n",
       "    <tr>\n",
       "      <th>8</th>\n",
       "      <td>3.0</td>\n",
       "      <td>Bob</td>\n",
       "      <td>English</td>\n",
       "      <td>95.0</td>\n",
       "      <td>Bob</td>\n",
       "      <td>22.0</td>\n",
       "      <td>Male</td>\n",
       "    </tr>\n",
       "    <tr>\n",
       "      <th>9</th>\n",
       "      <td>3.0</td>\n",
       "      <td>Bob</td>\n",
       "      <td>English</td>\n",
       "      <td>95.0</td>\n",
       "      <td>Bob</td>\n",
       "      <td>22.0</td>\n",
       "      <td>Male</td>\n",
       "    </tr>\n",
       "    <tr>\n",
       "      <th>10</th>\n",
       "      <td>3.0</td>\n",
       "      <td>Bob</td>\n",
       "      <td>English</td>\n",
       "      <td>95.0</td>\n",
       "      <td>Bob</td>\n",
       "      <td>22.0</td>\n",
       "      <td>Male</td>\n",
       "    </tr>\n",
       "    <tr>\n",
       "      <th>11</th>\n",
       "      <td>3.0</td>\n",
       "      <td>Bob</td>\n",
       "      <td>English</td>\n",
       "      <td>95.0</td>\n",
       "      <td>Bob</td>\n",
       "      <td>22.0</td>\n",
       "      <td>Male</td>\n",
       "    </tr>\n",
       "    <tr>\n",
       "      <th>12</th>\n",
       "      <td>4.0</td>\n",
       "      <td>Alice</td>\n",
       "      <td>History</td>\n",
       "      <td>80.0</td>\n",
       "      <td>Alice</td>\n",
       "      <td>20.0</td>\n",
       "      <td>Female</td>\n",
       "    </tr>\n",
       "    <tr>\n",
       "      <th>13</th>\n",
       "      <td>4.0</td>\n",
       "      <td>Alice</td>\n",
       "      <td>History</td>\n",
       "      <td>80.0</td>\n",
       "      <td>Alice</td>\n",
       "      <td>20.0</td>\n",
       "      <td>Female</td>\n",
       "    </tr>\n",
       "    <tr>\n",
       "      <th>14</th>\n",
       "      <td>4.0</td>\n",
       "      <td>Alice</td>\n",
       "      <td>History</td>\n",
       "      <td>80.0</td>\n",
       "      <td>Alice</td>\n",
       "      <td>20.0</td>\n",
       "      <td>Female</td>\n",
       "    </tr>\n",
       "    <tr>\n",
       "      <th>15</th>\n",
       "      <td>4.0</td>\n",
       "      <td>Alice</td>\n",
       "      <td>History</td>\n",
       "      <td>80.0</td>\n",
       "      <td>Alice</td>\n",
       "      <td>20.0</td>\n",
       "      <td>Female</td>\n",
       "    </tr>\n",
       "    <tr>\n",
       "      <th>16</th>\n",
       "      <td>4.0</td>\n",
       "      <td>Alice</td>\n",
       "      <td>History</td>\n",
       "      <td>80.0</td>\n",
       "      <td>Alice</td>\n",
       "      <td>20.0</td>\n",
       "      <td>Female</td>\n",
       "    </tr>\n",
       "    <tr>\n",
       "      <th>17</th>\n",
       "      <td>4.0</td>\n",
       "      <td>Alice</td>\n",
       "      <td>History</td>\n",
       "      <td>80.0</td>\n",
       "      <td>Alice</td>\n",
       "      <td>20.0</td>\n",
       "      <td>Female</td>\n",
       "    </tr>\n",
       "    <tr>\n",
       "      <th>18</th>\n",
       "      <td>4.0</td>\n",
       "      <td>Alice</td>\n",
       "      <td>History</td>\n",
       "      <td>80.0</td>\n",
       "      <td>Alice</td>\n",
       "      <td>20.0</td>\n",
       "      <td>Female</td>\n",
       "    </tr>\n",
       "    <tr>\n",
       "      <th>19</th>\n",
       "      <td>4.0</td>\n",
       "      <td>Alice</td>\n",
       "      <td>History</td>\n",
       "      <td>80.0</td>\n",
       "      <td>Alice</td>\n",
       "      <td>20.0</td>\n",
       "      <td>Female</td>\n",
       "    </tr>\n",
       "    <tr>\n",
       "      <th>20</th>\n",
       "      <td>4.0</td>\n",
       "      <td>Alice</td>\n",
       "      <td>History</td>\n",
       "      <td>80.0</td>\n",
       "      <td>Alice</td>\n",
       "      <td>20.0</td>\n",
       "      <td>Female</td>\n",
       "    </tr>\n",
       "    <tr>\n",
       "      <th>21</th>\n",
       "      <td>5.0</td>\n",
       "      <td>Tom</td>\n",
       "      <td>Art</td>\n",
       "      <td>NaN</td>\n",
       "      <td>None</td>\n",
       "      <td>NaN</td>\n",
       "      <td>None</td>\n",
       "    </tr>\n",
       "    <tr>\n",
       "      <th>22</th>\n",
       "      <td>6.0</td>\n",
       "      <td>Mary</td>\n",
       "      <td>Music</td>\n",
       "      <td>98.0</td>\n",
       "      <td>None</td>\n",
       "      <td>NaN</td>\n",
       "      <td>None</td>\n",
       "    </tr>\n",
       "    <tr>\n",
       "      <th>23</th>\n",
       "      <td>NaN</td>\n",
       "      <td>None</td>\n",
       "      <td>None</td>\n",
       "      <td>NaN</td>\n",
       "      <td>Charlie</td>\n",
       "      <td>21.0</td>\n",
       "      <td>Male</td>\n",
       "    </tr>\n",
       "    <tr>\n",
       "      <th>24</th>\n",
       "      <td>NaN</td>\n",
       "      <td>None</td>\n",
       "      <td>None</td>\n",
       "      <td>NaN</td>\n",
       "      <td>David</td>\n",
       "      <td>23.0</td>\n",
       "      <td>Male</td>\n",
       "    </tr>\n",
       "    <tr>\n",
       "      <th>25</th>\n",
       "      <td>NaN</td>\n",
       "      <td>None</td>\n",
       "      <td>None</td>\n",
       "      <td>NaN</td>\n",
       "      <td>Eve</td>\n",
       "      <td>22.0</td>\n",
       "      <td>Female</td>\n",
       "    </tr>\n",
       "    <tr>\n",
       "      <th>26</th>\n",
       "      <td>NaN</td>\n",
       "      <td>None</td>\n",
       "      <td>None</td>\n",
       "      <td>NaN</td>\n",
       "      <td>Frank</td>\n",
       "      <td>21.0</td>\n",
       "      <td>Male</td>\n",
       "    </tr>\n",
       "    <tr>\n",
       "      <th>27</th>\n",
       "      <td>NaN</td>\n",
       "      <td>None</td>\n",
       "      <td>None</td>\n",
       "      <td>NaN</td>\n",
       "      <td>Charlie</td>\n",
       "      <td>21.0</td>\n",
       "      <td>Male</td>\n",
       "    </tr>\n",
       "    <tr>\n",
       "      <th>28</th>\n",
       "      <td>NaN</td>\n",
       "      <td>None</td>\n",
       "      <td>None</td>\n",
       "      <td>NaN</td>\n",
       "      <td>David</td>\n",
       "      <td>23.0</td>\n",
       "      <td>Male</td>\n",
       "    </tr>\n",
       "    <tr>\n",
       "      <th>29</th>\n",
       "      <td>NaN</td>\n",
       "      <td>None</td>\n",
       "      <td>None</td>\n",
       "      <td>NaN</td>\n",
       "      <td>Eve</td>\n",
       "      <td>22.0</td>\n",
       "      <td>Female</td>\n",
       "    </tr>\n",
       "    <tr>\n",
       "      <th>30</th>\n",
       "      <td>NaN</td>\n",
       "      <td>None</td>\n",
       "      <td>None</td>\n",
       "      <td>NaN</td>\n",
       "      <td>Frank</td>\n",
       "      <td>21.0</td>\n",
       "      <td>Male</td>\n",
       "    </tr>\n",
       "    <tr>\n",
       "      <th>31</th>\n",
       "      <td>NaN</td>\n",
       "      <td>None</td>\n",
       "      <td>None</td>\n",
       "      <td>NaN</td>\n",
       "      <td>Charlie</td>\n",
       "      <td>21.0</td>\n",
       "      <td>Male</td>\n",
       "    </tr>\n",
       "    <tr>\n",
       "      <th>32</th>\n",
       "      <td>NaN</td>\n",
       "      <td>None</td>\n",
       "      <td>None</td>\n",
       "      <td>NaN</td>\n",
       "      <td>David</td>\n",
       "      <td>23.0</td>\n",
       "      <td>Male</td>\n",
       "    </tr>\n",
       "    <tr>\n",
       "      <th>33</th>\n",
       "      <td>NaN</td>\n",
       "      <td>None</td>\n",
       "      <td>None</td>\n",
       "      <td>NaN</td>\n",
       "      <td>Eve</td>\n",
       "      <td>22.0</td>\n",
       "      <td>Female</td>\n",
       "    </tr>\n",
       "    <tr>\n",
       "      <th>34</th>\n",
       "      <td>NaN</td>\n",
       "      <td>None</td>\n",
       "      <td>None</td>\n",
       "      <td>NaN</td>\n",
       "      <td>Frank</td>\n",
       "      <td>21.0</td>\n",
       "      <td>Male</td>\n",
       "    </tr>\n",
       "    <tr>\n",
       "      <th>35</th>\n",
       "      <td>NaN</td>\n",
       "      <td>None</td>\n",
       "      <td>None</td>\n",
       "      <td>NaN</td>\n",
       "      <td>Charlie</td>\n",
       "      <td>21.0</td>\n",
       "      <td>Male</td>\n",
       "    </tr>\n",
       "    <tr>\n",
       "      <th>36</th>\n",
       "      <td>NaN</td>\n",
       "      <td>None</td>\n",
       "      <td>None</td>\n",
       "      <td>NaN</td>\n",
       "      <td>David</td>\n",
       "      <td>23.0</td>\n",
       "      <td>Male</td>\n",
       "    </tr>\n",
       "    <tr>\n",
       "      <th>37</th>\n",
       "      <td>NaN</td>\n",
       "      <td>None</td>\n",
       "      <td>None</td>\n",
       "      <td>NaN</td>\n",
       "      <td>Eve</td>\n",
       "      <td>22.0</td>\n",
       "      <td>Female</td>\n",
       "    </tr>\n",
       "    <tr>\n",
       "      <th>38</th>\n",
       "      <td>NaN</td>\n",
       "      <td>None</td>\n",
       "      <td>None</td>\n",
       "      <td>NaN</td>\n",
       "      <td>Frank</td>\n",
       "      <td>21.0</td>\n",
       "      <td>Male</td>\n",
       "    </tr>\n",
       "    <tr>\n",
       "      <th>39</th>\n",
       "      <td>NaN</td>\n",
       "      <td>None</td>\n",
       "      <td>None</td>\n",
       "      <td>NaN</td>\n",
       "      <td>Charlie</td>\n",
       "      <td>21.0</td>\n",
       "      <td>Male</td>\n",
       "    </tr>\n",
       "    <tr>\n",
       "      <th>40</th>\n",
       "      <td>NaN</td>\n",
       "      <td>None</td>\n",
       "      <td>None</td>\n",
       "      <td>NaN</td>\n",
       "      <td>David</td>\n",
       "      <td>23.0</td>\n",
       "      <td>Male</td>\n",
       "    </tr>\n",
       "    <tr>\n",
       "      <th>41</th>\n",
       "      <td>NaN</td>\n",
       "      <td>None</td>\n",
       "      <td>None</td>\n",
       "      <td>NaN</td>\n",
       "      <td>Eve</td>\n",
       "      <td>22.0</td>\n",
       "      <td>Female</td>\n",
       "    </tr>\n",
       "    <tr>\n",
       "      <th>42</th>\n",
       "      <td>NaN</td>\n",
       "      <td>None</td>\n",
       "      <td>None</td>\n",
       "      <td>NaN</td>\n",
       "      <td>Frank</td>\n",
       "      <td>21.0</td>\n",
       "      <td>Male</td>\n",
       "    </tr>\n",
       "    <tr>\n",
       "      <th>43</th>\n",
       "      <td>NaN</td>\n",
       "      <td>None</td>\n",
       "      <td>None</td>\n",
       "      <td>NaN</td>\n",
       "      <td>Charlie</td>\n",
       "      <td>21.0</td>\n",
       "      <td>Male</td>\n",
       "    </tr>\n",
       "    <tr>\n",
       "      <th>44</th>\n",
       "      <td>NaN</td>\n",
       "      <td>None</td>\n",
       "      <td>None</td>\n",
       "      <td>NaN</td>\n",
       "      <td>David</td>\n",
       "      <td>23.0</td>\n",
       "      <td>Male</td>\n",
       "    </tr>\n",
       "    <tr>\n",
       "      <th>45</th>\n",
       "      <td>NaN</td>\n",
       "      <td>None</td>\n",
       "      <td>None</td>\n",
       "      <td>NaN</td>\n",
       "      <td>Eve</td>\n",
       "      <td>22.0</td>\n",
       "      <td>Female</td>\n",
       "    </tr>\n",
       "    <tr>\n",
       "      <th>46</th>\n",
       "      <td>NaN</td>\n",
       "      <td>None</td>\n",
       "      <td>None</td>\n",
       "      <td>NaN</td>\n",
       "      <td>Frank</td>\n",
       "      <td>21.0</td>\n",
       "      <td>Male</td>\n",
       "    </tr>\n",
       "    <tr>\n",
       "      <th>47</th>\n",
       "      <td>NaN</td>\n",
       "      <td>None</td>\n",
       "      <td>None</td>\n",
       "      <td>NaN</td>\n",
       "      <td>Charlie</td>\n",
       "      <td>21.0</td>\n",
       "      <td>Male</td>\n",
       "    </tr>\n",
       "    <tr>\n",
       "      <th>48</th>\n",
       "      <td>NaN</td>\n",
       "      <td>None</td>\n",
       "      <td>None</td>\n",
       "      <td>NaN</td>\n",
       "      <td>David</td>\n",
       "      <td>23.0</td>\n",
       "      <td>Male</td>\n",
       "    </tr>\n",
       "    <tr>\n",
       "      <th>49</th>\n",
       "      <td>NaN</td>\n",
       "      <td>None</td>\n",
       "      <td>None</td>\n",
       "      <td>NaN</td>\n",
       "      <td>Eve</td>\n",
       "      <td>22.0</td>\n",
       "      <td>Female</td>\n",
       "    </tr>\n",
       "    <tr>\n",
       "      <th>50</th>\n",
       "      <td>NaN</td>\n",
       "      <td>None</td>\n",
       "      <td>None</td>\n",
       "      <td>NaN</td>\n",
       "      <td>Frank</td>\n",
       "      <td>21.0</td>\n",
       "      <td>Male</td>\n",
       "    </tr>\n",
       "    <tr>\n",
       "      <th>51</th>\n",
       "      <td>NaN</td>\n",
       "      <td>None</td>\n",
       "      <td>None</td>\n",
       "      <td>NaN</td>\n",
       "      <td>Charlie</td>\n",
       "      <td>21.0</td>\n",
       "      <td>Male</td>\n",
       "    </tr>\n",
       "    <tr>\n",
       "      <th>52</th>\n",
       "      <td>NaN</td>\n",
       "      <td>None</td>\n",
       "      <td>None</td>\n",
       "      <td>NaN</td>\n",
       "      <td>David</td>\n",
       "      <td>23.0</td>\n",
       "      <td>Male</td>\n",
       "    </tr>\n",
       "    <tr>\n",
       "      <th>53</th>\n",
       "      <td>NaN</td>\n",
       "      <td>None</td>\n",
       "      <td>None</td>\n",
       "      <td>NaN</td>\n",
       "      <td>Eve</td>\n",
       "      <td>22.0</td>\n",
       "      <td>Female</td>\n",
       "    </tr>\n",
       "    <tr>\n",
       "      <th>54</th>\n",
       "      <td>NaN</td>\n",
       "      <td>None</td>\n",
       "      <td>None</td>\n",
       "      <td>NaN</td>\n",
       "      <td>Frank</td>\n",
       "      <td>21.0</td>\n",
       "      <td>Male</td>\n",
       "    </tr>\n",
       "    <tr>\n",
       "      <th>55</th>\n",
       "      <td>NaN</td>\n",
       "      <td>None</td>\n",
       "      <td>None</td>\n",
       "      <td>NaN</td>\n",
       "      <td>Charlie</td>\n",
       "      <td>21.0</td>\n",
       "      <td>Male</td>\n",
       "    </tr>\n",
       "    <tr>\n",
       "      <th>56</th>\n",
       "      <td>NaN</td>\n",
       "      <td>None</td>\n",
       "      <td>None</td>\n",
       "      <td>NaN</td>\n",
       "      <td>David</td>\n",
       "      <td>23.0</td>\n",
       "      <td>Male</td>\n",
       "    </tr>\n",
       "    <tr>\n",
       "      <th>57</th>\n",
       "      <td>NaN</td>\n",
       "      <td>None</td>\n",
       "      <td>None</td>\n",
       "      <td>NaN</td>\n",
       "      <td>Eve</td>\n",
       "      <td>22.0</td>\n",
       "      <td>Female</td>\n",
       "    </tr>\n",
       "    <tr>\n",
       "      <th>58</th>\n",
       "      <td>NaN</td>\n",
       "      <td>None</td>\n",
       "      <td>None</td>\n",
       "      <td>NaN</td>\n",
       "      <td>Frank</td>\n",
       "      <td>21.0</td>\n",
       "      <td>Male</td>\n",
       "    </tr>\n",
       "  </tbody>\n",
       "</table>\n",
       "</div>"
      ],
      "text/plain": [
       "     id   name    major  score     name   age  gender\n",
       "0   0.0     PJ       CS   90.0     None   NaN    None\n",
       "1   1.0   John     Math   90.0     None   NaN    None\n",
       "2   2.0   Jane     Math   85.0     None   NaN    None\n",
       "3   3.0    Bob  English   95.0      Bob  22.0    Male\n",
       "4   3.0    Bob  English   95.0      Bob  22.0    Male\n",
       "5   3.0    Bob  English   95.0      Bob  22.0    Male\n",
       "6   3.0    Bob  English   95.0      Bob  22.0    Male\n",
       "7   3.0    Bob  English   95.0      Bob  22.0    Male\n",
       "8   3.0    Bob  English   95.0      Bob  22.0    Male\n",
       "9   3.0    Bob  English   95.0      Bob  22.0    Male\n",
       "10  3.0    Bob  English   95.0      Bob  22.0    Male\n",
       "11  3.0    Bob  English   95.0      Bob  22.0    Male\n",
       "12  4.0  Alice  History   80.0    Alice  20.0  Female\n",
       "13  4.0  Alice  History   80.0    Alice  20.0  Female\n",
       "14  4.0  Alice  History   80.0    Alice  20.0  Female\n",
       "15  4.0  Alice  History   80.0    Alice  20.0  Female\n",
       "16  4.0  Alice  History   80.0    Alice  20.0  Female\n",
       "17  4.0  Alice  History   80.0    Alice  20.0  Female\n",
       "18  4.0  Alice  History   80.0    Alice  20.0  Female\n",
       "19  4.0  Alice  History   80.0    Alice  20.0  Female\n",
       "20  4.0  Alice  History   80.0    Alice  20.0  Female\n",
       "21  5.0    Tom      Art    NaN     None   NaN    None\n",
       "22  6.0   Mary    Music   98.0     None   NaN    None\n",
       "23  NaN   None     None    NaN  Charlie  21.0    Male\n",
       "24  NaN   None     None    NaN    David  23.0    Male\n",
       "25  NaN   None     None    NaN      Eve  22.0  Female\n",
       "26  NaN   None     None    NaN    Frank  21.0    Male\n",
       "27  NaN   None     None    NaN  Charlie  21.0    Male\n",
       "28  NaN   None     None    NaN    David  23.0    Male\n",
       "29  NaN   None     None    NaN      Eve  22.0  Female\n",
       "30  NaN   None     None    NaN    Frank  21.0    Male\n",
       "31  NaN   None     None    NaN  Charlie  21.0    Male\n",
       "32  NaN   None     None    NaN    David  23.0    Male\n",
       "33  NaN   None     None    NaN      Eve  22.0  Female\n",
       "34  NaN   None     None    NaN    Frank  21.0    Male\n",
       "35  NaN   None     None    NaN  Charlie  21.0    Male\n",
       "36  NaN   None     None    NaN    David  23.0    Male\n",
       "37  NaN   None     None    NaN      Eve  22.0  Female\n",
       "38  NaN   None     None    NaN    Frank  21.0    Male\n",
       "39  NaN   None     None    NaN  Charlie  21.0    Male\n",
       "40  NaN   None     None    NaN    David  23.0    Male\n",
       "41  NaN   None     None    NaN      Eve  22.0  Female\n",
       "42  NaN   None     None    NaN    Frank  21.0    Male\n",
       "43  NaN   None     None    NaN  Charlie  21.0    Male\n",
       "44  NaN   None     None    NaN    David  23.0    Male\n",
       "45  NaN   None     None    NaN      Eve  22.0  Female\n",
       "46  NaN   None     None    NaN    Frank  21.0    Male\n",
       "47  NaN   None     None    NaN  Charlie  21.0    Male\n",
       "48  NaN   None     None    NaN    David  23.0    Male\n",
       "49  NaN   None     None    NaN      Eve  22.0  Female\n",
       "50  NaN   None     None    NaN    Frank  21.0    Male\n",
       "51  NaN   None     None    NaN  Charlie  21.0    Male\n",
       "52  NaN   None     None    NaN    David  23.0    Male\n",
       "53  NaN   None     None    NaN      Eve  22.0  Female\n",
       "54  NaN   None     None    NaN    Frank  21.0    Male\n",
       "55  NaN   None     None    NaN  Charlie  21.0    Male\n",
       "56  NaN   None     None    NaN    David  23.0    Male\n",
       "57  NaN   None     None    NaN      Eve  22.0  Female\n",
       "58  NaN   None     None    NaN    Frank  21.0    Male"
      ]
     },
     "execution_count": 171,
     "metadata": {},
     "output_type": "execute_result"
    }
   ],
   "source": [
    "cursor.execute(\"SELECT * FROM student FULL OUTER JOIN st_info ON student.name=st_info.name;\")\n",
    "result = cursor.fetchall()\n",
    "pd.DataFrame(result, columns=['id', 'name', 'major', 'score', 'name', 'age', 'gender'])"
   ]
  },
  {
   "cell_type": "code",
   "execution_count": 172,
   "id": "0ad248c0",
   "metadata": {},
   "outputs": [],
   "source": [
    "cursor.close()\n",
    "conn.close()"
   ]
  },
  {
   "cell_type": "code",
   "execution_count": 173,
   "id": "1d7244dc",
   "metadata": {},
   "outputs": [],
   "source": [
    "# sign in\n",
    "import psycopg2\n",
    "db_params = {\n",
    "    'dbname': 'postgres',\n",
    "    'user': 'postgres',\n",
    "    'password': '123456',\n",
    "    'host': 'localhost',  # 数据库主机地址\n",
    "    'port': '5432'        # PostgreSQL默认端口\n",
    "}\n",
    "conn = psycopg2.connect(**db_params)\n",
    "cursor = conn.cursor()"
   ]
  },
  {
   "cell_type": "code",
   "execution_count": 174,
   "id": "90f823b1",
   "metadata": {},
   "outputs": [],
   "source": [
    "cursor.execute(\"DROP TABLE IF EXISTS scores;\")\n",
    "conn.commit()"
   ]
  },
  {
   "cell_type": "code",
   "execution_count": 175,
   "id": "5d7d2e5b",
   "metadata": {},
   "outputs": [],
   "source": [
    "cursor.execute(\"CREATE TABLE IF NOT EXISTS scores (id INT, name VARCHAR(50), score INT)\")\n",
    "conn.commit()"
   ]
  },
  {
   "cell_type": "code",
   "execution_count": 176,
   "id": "f9f70704",
   "metadata": {},
   "outputs": [],
   "source": [
    "cursor.execute(\"INSERT INTO scores (id, name, score) VALUES (1, 'John', 89);\")\n",
    "conn.commit()"
   ]
  },
  {
   "cell_type": "code",
   "execution_count": 177,
   "id": "8e94caec",
   "metadata": {},
   "outputs": [
    {
     "data": {
      "text/html": [
       "<div>\n",
       "<style scoped>\n",
       "    .dataframe tbody tr th:only-of-type {\n",
       "        vertical-align: middle;\n",
       "    }\n",
       "\n",
       "    .dataframe tbody tr th {\n",
       "        vertical-align: top;\n",
       "    }\n",
       "\n",
       "    .dataframe thead th {\n",
       "        text-align: right;\n",
       "    }\n",
       "</style>\n",
       "<table border=\"1\" class=\"dataframe\">\n",
       "  <thead>\n",
       "    <tr style=\"text-align: right;\">\n",
       "      <th></th>\n",
       "      <th>id</th>\n",
       "      <th>name</th>\n",
       "      <th>score</th>\n",
       "    </tr>\n",
       "  </thead>\n",
       "  <tbody>\n",
       "    <tr>\n",
       "      <th>0</th>\n",
       "      <td>1</td>\n",
       "      <td>John</td>\n",
       "      <td>89</td>\n",
       "    </tr>\n",
       "  </tbody>\n",
       "</table>\n",
       "</div>"
      ],
      "text/plain": [
       "   id  name  score\n",
       "0   1  John     89"
      ]
     },
     "execution_count": 177,
     "metadata": {},
     "output_type": "execute_result"
    }
   ],
   "source": [
    "import pandas as pd\n",
    "cursor.execute(\"SELECT * FROM scores;\")\n",
    "results = cursor.fetchall()\n",
    "pd.DataFrame(results, columns=['id', 'name', 'score'])"
   ]
  },
  {
   "cell_type": "code",
   "execution_count": 178,
   "id": "88b0666b",
   "metadata": {},
   "outputs": [],
   "source": [
    "data = [(2, 'PJ', 78), (3, 'AJ', 85)]\n",
    "cursor.executemany(\"INSERT INTO scores (id, name, score) VALUES (%s, %s, %s)\", data)\n",
    "conn.commit()\n",
    "\n"
   ]
  }
 ],
 "metadata": {
  "kernelspec": {
   "display_name": "base",
   "language": "python",
   "name": "python3"
  },
  "language_info": {
   "codemirror_mode": {
    "name": "ipython",
    "version": 3
   },
   "file_extension": ".py",
   "mimetype": "text/x-python",
   "name": "python",
   "nbconvert_exporter": "python",
   "pygments_lexer": "ipython3",
   "version": "3.12.3"
  }
 },
 "nbformat": 4,
 "nbformat_minor": 5
}
