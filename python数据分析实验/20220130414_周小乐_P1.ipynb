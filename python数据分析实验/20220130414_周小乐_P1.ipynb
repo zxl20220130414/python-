{
 "cells": [
  {
   "cell_type": "code",
   "execution_count": 1,
   "id": "751aa86a-767e-4034-8e91-251612ff8385",
   "metadata": {},
   "outputs": [
    {
     "name": "stdout",
     "output_type": "stream",
     "text": [
      "Windows\n",
      "11\n",
      "AMD64\n",
      "Intel64 Family 6 Model 154 Stepping 3, GenuineIntel\n",
      "20\n",
      "scpufreq(current=2300.0, min=0.0, max=2300.0)\n",
      "svmem(total=16890978304, available=4383653888, percent=74.0, used=12507324416, free=4383653888)\n"
     ]
    }
   ],
   "source": [
    "import psutil\n",
    "import platform\n",
    "\n",
    "print(platform.system())  # 操作系统名称\n",
    "print(platform.release())  # 操作系统版本\n",
    "print(platform.machine())  # 计算机架构\n",
    "print(platform.processor())  # 处理器类型\n",
    "\n",
    "# CPU 信息\n",
    "print(psutil.cpu_count())  # CPU 核数\n",
    "print(psutil.cpu_freq())  # CPU 频率\n",
    "\n",
    "# 内存信息\n",
    "print(psutil.virtual_memory())  # 内存总量、可用内存、已用内存等"
   ]
  },
  {
   "cell_type": "code",
   "execution_count": 2,
   "id": "0277b6c8-f100-4056-8f65-ca24d5d93106",
   "metadata": {
    "scrolled": true
   },
   "outputs": [
    {
     "name": "stdout",
     "output_type": "stream",
     "text": [
      "Help on function match in module re:\n",
      "\n",
      "match(pattern, string, flags=0)\n",
      "    Try to apply the pattern at the start of the string, returning\n",
      "    a Match object, or None if no match was found.\n",
      "\n"
     ]
    }
   ],
   "source": [
    "import re\n",
    "help(re.match)"
   ]
  },
  {
   "cell_type": "code",
   "execution_count": 3,
   "id": "00950273-0f29-4eb5-846d-2fb7e9d192bf",
   "metadata": {},
   "outputs": [
    {
     "data": {
      "text/plain": [
       "<re.Match object; span=(0, 3), match='cat'>"
      ]
     },
     "execution_count": 3,
     "metadata": {},
     "output_type": "execute_result"
    }
   ],
   "source": [
    "# 模式匹配字符串1的开头，并返回匹配对象。\n",
    "pat = 'cat'\n",
    "string1 = 'cat on mat'\n",
    "string2 = 'raning cats and dogs'\n",
    "re.match(pat, string1)"
   ]
  },
  {
   "cell_type": "code",
   "execution_count": 4,
   "id": "160a4894-cba7-4046-b5e9-8559b4f54e1e",
   "metadata": {},
   "outputs": [
    {
     "data": {
      "text/plain": [
       "True"
      ]
     },
     "execution_count": 4,
     "metadata": {},
     "output_type": "execute_result"
    }
   ],
   "source": [
    "# 模式匹配字符串2，但不在开头，因此匹配失败并返回None。\n",
    "re.match(pat, string2) is None"
   ]
  },
  {
   "cell_type": "code",
   "execution_count": 5,
   "id": "4cc72edd-0ceb-4006-bfbd-9a4041dc87db",
   "metadata": {},
   "outputs": [
    {
     "name": "stdout",
     "output_type": "stream",
     "text": [
      "Help on function search in module re:\n",
      "\n",
      "search(pattern, string, flags=0)\n",
      "    Scan through string looking for a match to the pattern, returning\n",
      "    a Match object, or None if no match was found.\n",
      "\n"
     ]
    }
   ],
   "source": [
    "help(re.search)"
   ]
  },
  {
   "cell_type": "code",
   "execution_count": 6,
   "id": "5a7b89a0-7ff2-4d60-b699-5d19057860d5",
   "metadata": {},
   "outputs": [
    {
     "data": {
      "text/plain": [
       "<re.Match object; span=(0, 3), match='cat'>"
      ]
     },
     "execution_count": 6,
     "metadata": {},
     "output_type": "execute_result"
    }
   ],
   "source": [
    "# 模式匹配字符串1的开头，并返回匹配对象。\n",
    "pat = 'cat'\n",
    "string1 = 'cat on mat'\n",
    "string2 = 'raining cats and dogs'\n",
    "string3 = 'abracadabra'\n",
    "re.search(pat, string1)"
   ]
  },
  {
   "cell_type": "code",
   "execution_count": 7,
   "id": "63e4827c-5dca-46c5-b4ed-6b298500a225",
   "metadata": {},
   "outputs": [
    {
     "data": {
      "text/plain": [
       "<re.Match object; span=(8, 11), match='cat'>"
      ]
     },
     "execution_count": 7,
     "metadata": {},
     "output_type": "execute_result"
    }
   ],
   "source": [
    "# 模式匹配字符串2（不在开头！）并返回匹配对象。\n",
    "re.search(pat, string2)"
   ]
  },
  {
   "cell_type": "code",
   "execution_count": 8,
   "id": "a0b2ca06-f04c-40a8-b685-dd02de2f49bd",
   "metadata": {},
   "outputs": [
    {
     "data": {
      "text/plain": [
       "True"
      ]
     },
     "execution_count": 8,
     "metadata": {},
     "output_type": "execute_result"
    }
   ],
   "source": [
    "# 模式在字符串3中不匹配任何内容，返回None。\n",
    "re.search(pat,string3) is None"
   ]
  },
  {
   "cell_type": "code",
   "execution_count": 9,
   "id": "7c9fb382-2275-4396-a53a-cd1743fe3a0a",
   "metadata": {},
   "outputs": [
    {
     "name": "stdout",
     "output_type": "stream",
     "text": [
      "Help on function findall in module re:\n",
      "\n",
      "findall(pattern, string, flags=0)\n",
      "    Return a list of all non-overlapping matches in the string.\n",
      "\n",
      "    If one or more capturing groups are present in the pattern, return\n",
      "    a list of groups; this will be a list of tuples if the pattern\n",
      "    has more than one group.\n",
      "\n",
      "    Empty matches are included in the result.\n",
      "\n"
     ]
    }
   ],
   "source": [
    "help(re.findall)"
   ]
  },
  {
   "cell_type": "code",
   "execution_count": 10,
   "id": "25372742-d529-4388-a2fc-a3282e9ade3e",
   "metadata": {},
   "outputs": [
    {
     "data": {
      "text/plain": [
       "['cat']"
      ]
     },
     "execution_count": 10,
     "metadata": {},
     "output_type": "execute_result"
    }
   ],
   "source": [
    "#模式在字符串1中匹配一次，返回该匹配。\n",
    "pat='cat'\n",
    "string1='cat on mat'\n",
    "string='one cat, two cats,three cats'\n",
    "string='abracadabra'\n",
    "re.findall(pat, string1)"
   ]
  },
  {
   "cell_type": "code",
   "execution_count": 11,
   "id": "e6cf7716-6980-4b8f-b167-0d4dcc69ff00",
   "metadata": {},
   "outputs": [
    {
     "data": {
      "text/plain": [
       "['cat']"
      ]
     },
     "execution_count": 11,
     "metadata": {},
     "output_type": "execute_result"
    }
   ],
   "source": [
    "# 模式在字符串2中匹配三次；返回三个实例的列表。\n",
    "re.findall(pat, string2)"
   ]
  },
  {
   "cell_type": "code",
   "execution_count": 12,
   "id": "e30cdd7a-d102-4b4b-a506-98f0e3d945ce",
   "metadata": {},
   "outputs": [
    {
     "data": {
      "text/plain": [
       "[]"
      ]
     },
     "execution_count": 12,
     "metadata": {},
     "output_type": "execute_result"
    }
   ],
   "source": [
    "# 模式在字符串3中不匹配任何内容，返回空列表。\n",
    "re.findall(pat, string3)"
   ]
  },
  {
   "cell_type": "code",
   "execution_count": 13,
   "id": "f5e0003f-5b2c-40c2-9a41-71abe9572c4e",
   "metadata": {},
   "outputs": [
    {
     "name": "stderr",
     "output_type": "stream",
     "text": [
      "<>:8: SyntaxWarning: invalid escape sequence '\\$'\n",
      "<>:8: SyntaxWarning: invalid escape sequence '\\$'\n",
      "<>:8: SyntaxWarning: invalid escape sequence '\\$'\n",
      "<>:8: SyntaxWarning: invalid escape sequence '\\$'\n",
      "C:\\Users\\29282\\AppData\\Local\\Temp\\ipykernel_7576\\973432885.py:8: SyntaxWarning: invalid escape sequence '\\$'\n",
      "  re.match('\\\\\\\\\\$', '\\$')\n",
      "C:\\Users\\29282\\AppData\\Local\\Temp\\ipykernel_7576\\973432885.py:8: SyntaxWarning: invalid escape sequence '\\$'\n",
      "  re.match('\\\\\\\\\\$', '\\$')\n"
     ]
    },
    {
     "data": {
      "text/plain": [
       "<re.Match object; span=(0, 2), match='\\\\$'>"
      ]
     },
     "execution_count": 13,
     "metadata": {},
     "output_type": "execute_result"
    }
   ],
   "source": [
    "# 在 Python 中，反斜杠 (\\) 在字符串字面量中用于转义特殊字符。例如，\\n 表示换行符，\\t 表示制表符等。\n",
    "# 但是，在正则表达式中，反斜杠 (\\) 也用于转义特殊字符。例如，\\d 表示数字，\\w 表示单词字符等。\n",
    "# 问题在于，当你在 Python 字符串字面量中写正则表达式时，反斜杠 (\\) 的含义会冲突。\n",
    "# 例如，如果你想匹配一个字面上的反斜杠，你需要写 \\\\\\\\ 作为模式字符串，因为：\n",
    "# 在正则表达式中，反斜杠 (\\) 表示转义特殊字符，所以需要写 \\\\ 来表示一个字面上的反斜杠。\n",
    "# 在 Python 字符串字面量中，反斜杠 (\\) 也表示转义特殊字符，所以需要写 \\\\ 来表示一个字面上的反斜杠。\n",
    "# 因此，为了表示一个字面上的反斜杠，你需要写 \\\\\\\\，这是因为反斜杠 (\\) 的含义在 Python 字符串字面量和正则表达式中都需要被转义。\n",
    "re.match('\\\\\\\\\\$', '\\$') "
   ]
  },
  {
   "cell_type": "code",
   "execution_count": 14,
   "id": "f523b66c-85dd-4b67-9be6-030fbc9bc83a",
   "metadata": {},
   "outputs": [
    {
     "name": "stderr",
     "output_type": "stream",
     "text": [
      "<>:1: SyntaxWarning: invalid escape sequence '\\$'\n",
      "<>:1: SyntaxWarning: invalid escape sequence '\\$'\n",
      "C:\\Users\\29282\\AppData\\Local\\Temp\\ipykernel_7576\\4201402778.py:1: SyntaxWarning: invalid escape sequence '\\$'\n",
      "  re.match(r'\\\\\\$', '\\$')\n"
     ]
    },
    {
     "data": {
      "text/plain": [
       "<re.Match object; span=(0, 2), match='\\\\$'>"
      ]
     },
     "execution_count": 14,
     "metadata": {},
     "output_type": "execute_result"
    }
   ],
   "source": [
    "re.match(r'\\\\\\$', '\\$')"
   ]
  },
  {
   "cell_type": "code",
   "execution_count": 15,
   "id": "9d100d13-3ff9-49ec-86cc-040d85c4f936",
   "metadata": {},
   "outputs": [
    {
     "data": {
      "text/plain": [
       "['\\n']"
      ]
     },
     "execution_count": 15,
     "metadata": {},
     "output_type": "execute_result"
    }
   ],
   "source": [
    "beatles = \"hello\\ngoodbye\"\n",
    "re.findall(r'\\n', beatles)"
   ]
  },
  {
   "cell_type": "code",
   "execution_count": 16,
   "id": "4d424866-a904-4a42-b3d9-164d7f9c8a5c",
   "metadata": {},
   "outputs": [
    {
     "data": {
      "text/plain": [
       "['\\n']"
      ]
     },
     "execution_count": 16,
     "metadata": {},
     "output_type": "execute_result"
    }
   ],
   "source": [
    "# “这很复杂，很难理解，所以强烈建议你们使用原始字符串来表达所有但最简单的表达式。”\n",
    "re.findall('\\\\n', beatles)"
   ]
  },
  {
   "cell_type": "code",
   "execution_count": 17,
   "id": "7a358879-81ac-41ac-b621-bd342baac608",
   "metadata": {},
   "outputs": [
    {
     "data": {
      "text/plain": [
       "['\\n']"
      ]
     },
     "execution_count": 17,
     "metadata": {},
     "output_type": "execute_result"
    }
   ],
   "source": [
    "re.findall('\\\\\\n',beatles)"
   ]
  },
  {
   "cell_type": "code",
   "execution_count": 18,
   "id": "4fa87a88-cbcc-40aa-a2f8-b1bafe678141",
   "metadata": {},
   "outputs": [
    {
     "data": {
      "text/plain": [
       "[]"
      ]
     },
     "execution_count": 18,
     "metadata": {},
     "output_type": "execute_result"
    }
   ],
   "source": [
    "re.findall(r'$2', \"2$2\")"
   ]
  },
  {
   "cell_type": "code",
   "execution_count": 19,
   "id": "7e1fe106-0bcc-4a21-ae4f-163376f41a33",
   "metadata": {},
   "outputs": [
    {
     "data": {
      "text/plain": [
       "['$2']"
      ]
     },
     "execution_count": 19,
     "metadata": {},
     "output_type": "execute_result"
    }
   ],
   "source": [
    "re.findall(r'\\$2', \"2$2\")"
   ]
  },
  {
   "cell_type": "code",
   "execution_count": 20,
   "id": "0ba5205d-b5d7-4059-af25-524afeece5d8",
   "metadata": {},
   "outputs": [
    {
     "data": {
      "text/plain": [
       "['bad']"
      ]
     },
     "execution_count": 20,
     "metadata": {},
     "output_type": "execute_result"
    }
   ],
   "source": [
    "# 示例：行的开头和结尾，通配符\n",
    "# ‘.’匹配‘a’，并且开始和结束行正确匹配。\n",
    "pat = r'^b.d$' \n",
    "re.findall(pat, 'bad')"
   ]
  },
  {
   "cell_type": "code",
   "execution_count": 21,
   "id": "2f8c9713-43cd-420c-ba19-24cb05792418",
   "metadata": {},
   "outputs": [
    {
     "data": {
      "text/plain": [
       "['bid']"
      ]
     },
     "execution_count": 21,
     "metadata": {},
     "output_type": "execute_result"
    }
   ],
   "source": [
    "# ‘.’匹配‘i’，并且开始和结束行正确匹配。\n",
    "re.findall(pat, 'bid')"
   ]
  },
  {
   "cell_type": "code",
   "execution_count": 22,
   "id": "a96fc311-72cc-42b3-b0f9-21dabdd045a3",
   "metadata": {},
   "outputs": [
    {
     "data": {
      "text/plain": [
       "[]"
      ]
     },
     "execution_count": 22,
     "metadata": {},
     "output_type": "execute_result"
    }
   ],
   "source": [
    "# 匹配失败是因为字符串末尾的‘s’，这意味着‘d’后面不是行尾。\n",
    "re.findall(pat, 'bids')"
   ]
  },
  {
   "cell_type": "code",
   "execution_count": 23,
   "id": "0434af37-7d6b-4f10-9466-7ec21416ee28",
   "metadata": {},
   "outputs": [
    {
     "data": {
      "text/plain": [
       "[]"
      ]
     },
     "execution_count": 23,
     "metadata": {},
     "output_type": "execute_result"
    }
   ],
   "source": [
    "# 匹配失败是因为字符串开头的‘a’，这意味着‘b’不是字符串的开头。\n",
    "re.findall(pat, 'abad')"
   ]
  },
  {
   "cell_type": "code",
   "execution_count": 24,
   "id": "6077ea2c-af5f-4506-8e84-b24ab4e78977",
   "metadata": {},
   "outputs": [
    {
     "name": "stdout",
     "output_type": "stream",
     "text": [
      "c\ta t\n",
      "s\n",
      "\n"
     ]
    }
   ],
   "source": [
    "string1='c\\ta t\\ns\\n'\n",
    "print(string1)"
   ]
  },
  {
   "cell_type": "code",
   "execution_count": 25,
   "id": "c700c5d1-5837-4d86-b860-60566c22253c",
   "metadata": {},
   "outputs": [
    {
     "data": {
      "text/plain": [
       "['\\t', ' ', '\\n', '\\n']"
      ]
     },
     "execution_count": 25,
     "metadata": {},
     "output_type": "execute_result"
    }
   ],
   "source": [
    "# ‘\\s’匹配任何空白。包括空格，制表符和新行。\n",
    "re.findall(r'\\s', string1)"
   ]
  },
  {
   "cell_type": "code",
   "execution_count": 26,
   "id": "edd08d43-1c01-4102-ab69-8fe57bfc8a90",
   "metadata": {},
   "outputs": [
    {
     "data": {
      "text/plain": [
       "['\\t', ' ', '\\n']"
      ]
     },
     "execution_count": 26,
     "metadata": {},
     "output_type": "execute_result"
    }
   ],
   "source": [
    "# string1中的尾随新行没有匹配，因为它后面没有空白-单词边界。\n",
    "re.findall(r'\\s\\b', string1)"
   ]
  },
  {
   "cell_type": "code",
   "execution_count": 27,
   "id": "d498f690-77cf-4d22-8272-9362a18f1b44",
   "metadata": {},
   "outputs": [
    {
     "data": {
      "text/plain": [
       "['c', 'a', 't', 's']"
      ]
     },
     "execution_count": 27,
     "metadata": {},
     "output_type": "execute_result"
    }
   ],
   "source": [
    "# ‘\\S’：匹配任何非空白\n",
    "re.findall(r'\\S', string1)"
   ]
  },
  {
   "cell_type": "code",
   "execution_count": 28,
   "id": "29c1363c-64c4-45d1-8e6f-697d28a2e863",
   "metadata": {},
   "outputs": [
    {
     "data": {
      "text/plain": [
       "['c', '\\t', 'a', ' ', 't', '\\n', 's', '\\n']"
      ]
     },
     "execution_count": 28,
     "metadata": {},
     "output_type": "execute_result"
    }
   ],
   "source": [
    "# ‘\\D’：匹配任何非数字字符\n",
    "re.findall(r'\\D', string1)"
   ]
  },
  {
   "cell_type": "code",
   "execution_count": 29,
   "id": "de206f79-9263-4dd1-a9e7-7ddc1e4dda01",
   "metadata": {},
   "outputs": [
    {
     "data": {
      "text/plain": [
       "[' ', '\\t', '\\n', '$', '*', '.']"
      ]
     },
     "execution_count": 29,
     "metadata": {},
     "output_type": "execute_result"
    }
   ],
   "source": [
    "# ‘\\W’：匹配任何非单词字符\n",
    "re.findall(r'\\W', \"abc123 \\t\\n_$*.\")"
   ]
  },
  {
   "cell_type": "code",
   "execution_count": 30,
   "id": "44c43cb7-83b1-4a61-baf6-7077aa34d27a",
   "metadata": {},
   "outputs": [
    {
     "data": {
      "text/plain": [
       "['4']"
      ]
     },
     "execution_count": 30,
     "metadata": {},
     "output_type": "execute_result"
    }
   ],
   "source": [
    "# ‘\\B’：匹配不在单词边界的\n",
    "re.findall(r'\\B\\d\\B', \"1 2X a3 747\")"
   ]
  },
  {
   "cell_type": "code",
   "execution_count": 31,
   "id": "60e9c6c0-587c-4ea8-88d6-ff1d9d8b6b2a",
   "metadata": {},
   "outputs": [
    {
     "data": {
      "text/plain": [
       "['ct', 'cat']"
      ]
     },
     "execution_count": 31,
     "metadata": {},
     "output_type": "execute_result"
    }
   ],
   "source": [
    "# ‘?’：前一个项目的零个或一个\n",
    "re.findall(r'ca?t', \"ct cat caat caaat\")"
   ]
  },
  {
   "cell_type": "code",
   "execution_count": 32,
   "id": "e18bcf9f-201b-4f55-9b44-a363752c7723",
   "metadata": {},
   "outputs": [
    {
     "data": {
      "text/plain": [
       "['caat']"
      ]
     },
     "execution_count": 32,
     "metadata": {},
     "output_type": "execute_result"
    }
   ],
   "source": [
    "# ‘{2}’：确切四个前一个项目\n",
    "re.findall(r'ca{2}t', \"ct cat caat caaat\")"
   ]
  },
  {
   "cell_type": "code",
   "execution_count": 33,
   "id": "4e90d8c9-1a62-4550-bac6-49833195b993",
   "metadata": {},
   "outputs": [
    {
     "data": {
      "text/plain": [
       "['cat', 'caat']"
      ]
     },
     "execution_count": 33,
     "metadata": {},
     "output_type": "execute_result"
    }
   ],
   "source": [
    "# ‘{1,2}’：前一个项目的两个到五个（包括）\n",
    "re.findall(r'ca{1,2}t', \"ct cat caat caaat\")"
   ]
  },
  {
   "cell_type": "code",
   "execution_count": 34,
   "id": "499181e1-4ab0-4b3f-b834-bec1e429a318",
   "metadata": {},
   "outputs": [
    {
     "data": {
      "text/plain": [
       "([], ['747 '], [])"
      ]
     },
     "execution_count": 34,
     "metadata": {},
     "output_type": "execute_result"
    }
   ],
   "source": [
    "re.findall(r'^\\d{2,4}\\s', '7 a1'), re.findall(r'^\\d{2,4}\\s', '747 Boeing'), re.findall(r'^\\d{2,4}\\s', 'C7777 C7778')\n"
   ]
  },
  {
   "cell_type": "code",
   "execution_count": 35,
   "id": "f94d7782-1ee1-4add-b628-ca5335f2e9c7",
   "metadata": {},
   "outputs": [
    {
     "data": {
      "text/plain": [
       "([], ['1234\\t'], [])"
      ]
     },
     "execution_count": 35,
     "metadata": {},
     "output_type": "execute_result"
    }
   ],
   "source": [
    "re.findall(r'^\\d{2,4}\\s', '12345 '), re.findall(r'^\\d{2,4}\\s', '1234\\tqq'), re.findall(r'^\\d{2,4}\\s', 'Boeing 747')\n"
   ]
  },
  {
   "cell_type": "code",
   "execution_count": 36,
   "id": "994cb42e-704e-418b-9d16-e084660d448f",
   "metadata": {},
   "outputs": [
    {
     "name": "stdout",
     "output_type": "stream",
     "text": [
      "['cat']\n",
      "['dog']\n",
      "['cat', 'dog']\n"
     ]
    }
   ],
   "source": [
    "print(re.findall(r'(cat|dog)', \"cat\"))\n",
    "print(re.findall(r'(cat|dog)', \"dog\"))\n",
    "print(re.findall(r'(cat|dog)', \"cat\\ndog\"))"
   ]
  },
  {
   "cell_type": "code",
   "execution_count": 37,
   "id": "6d34d8a5-931b-4fd3-961e-046d112121da",
   "metadata": {},
   "outputs": [
    {
     "data": {
      "text/plain": [
       "['a', 'a', 'a', 'a']"
      ]
     },
     "execution_count": 37,
     "metadata": {},
     "output_type": "execute_result"
    }
   ],
   "source": [
    "re.findall(r'a|aa|aaa',\"aaaa\")"
   ]
  },
  {
   "cell_type": "code",
   "execution_count": 38,
   "id": "078e047a-d3c7-4837-bd03-d0521669720c",
   "metadata": {},
   "outputs": [
    {
     "data": {
      "text/plain": [
       "['aaaaaa']"
      ]
     },
     "execution_count": 38,
     "metadata": {},
     "output_type": "execute_result"
    }
   ],
   "source": [
    "# ‘a+’吞噬了整个字符串，因为Python正则表达式是贪婪的。\n",
    "re.findall(r'a+', 'aaaaaa')"
   ]
  },
  {
   "cell_type": "code",
   "execution_count": 39,
   "id": "8c2e37b6-eda4-4897-b106-3cabd287e0ea",
   "metadata": {},
   "outputs": [
    {
     "data": {
      "text/plain": [
       "['a', 'a', 'a', 'a', 'a', 'a']"
      ]
     },
     "execution_count": 39,
     "metadata": {},
     "output_type": "execute_result"
    }
   ],
   "source": [
    "# ‘?’修改操作符如‘+’和‘*’不贪婪，我们得到懒惰匹配，就像使用‘|’一样。\n",
    "re.findall(r'a+?', 'aaaaaa')"
   ]
  },
  {
   "cell_type": "code",
   "execution_count": 40,
   "id": "07d6e29b-6879-4b64-9f6d-04b2022315fa",
   "metadata": {},
   "outputs": [
    {
     "data": {
      "text/plain": [
       "'dpj@usc.edu.cn'"
      ]
     },
     "execution_count": 40,
     "metadata": {},
     "output_type": "execute_result"
    }
   ],
   "source": [
    "# 示例：匹配电子邮件地址中的用户和域名\n",
    "string1 = \"My USC email is dpj@usc.edu.cn\"\n",
    "m = re.search(r'([\\w.-]+)@([\\w.-]+)', string1)\n",
    "# ‘re.search’返回一个匹配对象。组属性是被匹配的整个字符串。\n",
    "m.group()"
   ]
  },
  {
   "cell_type": "code",
   "execution_count": 41,
   "id": "20487b0b-d58e-4d58-bab7-b194ec63f75d",
   "metadata": {},
   "outputs": [
    {
     "data": {
      "text/plain": [
       "'dpj'"
      ]
     },
     "execution_count": 41,
     "metadata": {},
     "output_type": "execute_result"
    }
   ],
   "source": [
    "# 可以按顺序访问组（正则表达式中的括号部分）的数字顺序。每组括号获得一个组，从左到右。\n",
    "# re.findall具有类似的功能！\n",
    "m.group(1)"
   ]
  },
  {
   "cell_type": "code",
   "execution_count": 42,
   "id": "a294bf24-d8a2-4ccc-b4af-3195bd79e14f",
   "metadata": {},
   "outputs": [
    {
     "data": {
      "text/plain": [
       "'usc.edu.cn'"
      ]
     },
     "execution_count": 42,
     "metadata": {},
     "output_type": "execute_result"
    }
   ],
   "source": [
    "m.group(2)"
   ]
  },
  {
   "cell_type": "code",
   "execution_count": 43,
   "id": "1ca95893-aa83-4963-b957-42eca19e8125",
   "metadata": {},
   "outputs": [
    {
     "data": {
      "text/plain": [
       "'cat cat'"
      ]
     },
     "execution_count": 43,
     "metadata": {},
     "output_type": "execute_result"
    }
   ],
   "source": [
    "m = re.search(r'(\\S+) \\1', 'cat cat')\n",
    "m.group()"
   ]
  },
  {
   "cell_type": "code",
   "execution_count": 44,
   "id": "c5fecdd8-40be-4c1c-9c82-9169f6888cd2",
   "metadata": {},
   "outputs": [
    {
     "data": {
      "text/plain": [
       "True"
      ]
     },
     "execution_count": 44,
     "metadata": {},
     "output_type": "execute_result"
    }
   ],
   "source": [
    "m = re.search(r'(\\S+) \\1', 'cat dog')\n",
    "m is None"
   ]
  },
  {
   "cell_type": "code",
   "execution_count": 45,
   "id": "1a79d05d-06bd-45ad-a610-686c68187ce2",
   "metadata": {},
   "outputs": [
    {
     "data": {
      "text/plain": [
       "<re.Match object; span=(0, 3), match='DOG'>"
      ]
     },
     "execution_count": 45,
     "metadata": {},
     "output_type": "execute_result"
    }
   ],
   "source": [
    "re.search(r'dog', 'DOG', re.IGNORECASE)"
   ]
  },
  {
   "cell_type": "code",
   "execution_count": 46,
   "id": "d12bbeef-8a14-493c-bf53-176e4e658b18",
   "metadata": {},
   "outputs": [
    {
     "data": {
      "text/plain": [
       "['cat', 'dog']"
      ]
     },
     "execution_count": 46,
     "metadata": {},
     "output_type": "execute_result"
    }
   ],
   "source": [
    "# regex = re.compile(r'cat|dog|bird', re.DEBUG)\n",
    "regex = re.compile(r'cat|dog|bird')\n",
    "regex.findall(\"It's raining cats and dogs\")"
   ]
  },
  {
   "cell_type": "code",
   "execution_count": 47,
   "id": "64e997b8-7d40-40ce-9e68-a4280dabe7d8",
   "metadata": {},
   "outputs": [
    {
     "data": {
      "text/plain": [
       "<re.Match object; span=(0, 3), match='cat'>"
      ]
     },
     "execution_count": 47,
     "metadata": {},
     "output_type": "execute_result"
    }
   ],
   "source": [
    "regex.match(\"cat bird dog\")"
   ]
  },
  {
   "cell_type": "code",
   "execution_count": 48,
   "id": "1aecf0ef-80bb-4b5a-8efa-041caf7e517c",
   "metadata": {},
   "outputs": [
    {
     "data": {
      "text/plain": [
       "True"
      ]
     },
     "execution_count": 48,
     "metadata": {},
     "output_type": "execute_result"
    }
   ],
   "source": [
    "regex.search(\"nothing to see here.\") is None"
   ]
  },
  {
   "cell_type": "code",
   "execution_count": 49,
   "id": "f15d7b27-826b-4f21-b977-8d565468fa9c",
   "metadata": {},
   "outputs": [
    {
     "name": "stdout",
     "output_type": "stream",
     "text": [
      "05-01-2024\n",
      "05-02-2024\n",
      "05-03-2024\n",
      "05-04-2024\n",
      "05-05-2024\n"
     ]
    }
   ],
   "source": [
    "import re\n",
    "# 原始日期字符串\n",
    "date_string = \"2024-05-01\\n2024/05/02\\n2024.05.03\\n2024/05/04\\n2024.05.05\"\n",
    "# 正则表达式匹配 YYYY-MM-DD, YYYY/MM/DD, YYYY.MM.DD 格式\n",
    "pattern = r'(\\d{4})[-/\\.](\\d{2})[-/\\.](\\d{2})'\n",
    "# 替换为 MM/DD/YYYY 格式\n",
    "formatted_dates = re.sub(pattern, r'\\2-\\3-\\1', date_string)\n",
    "print(formatted_dates)"
   ]
  },
  {
   "cell_type": "markdown",
   "id": "c1e57a3b-b48b-41b1-ad4f-959213823950",
   "metadata": {},
   "source": [
    "* 原始文本\n",
    "    * \"联系我：123-456-7890 或者 987.654.3210.\"\n",
    "* 替换格式：将电话号码格式化为 (XXX) XXX-XXXX"
   ]
  },
  {
   "cell_type": "code",
   "execution_count": 50,
   "id": "d5f3207b-da15-4f69-8a56-43596f12d0c7",
   "metadata": {},
   "outputs": [
    {
     "name": "stdout",
     "output_type": "stream",
     "text": [
      "联系我：(123) 456-7890 或者 (987) 654-3210.\n"
     ]
    }
   ],
   "source": [
    "import re\n",
    "# 原始文本\n",
    "text = \"联系我：123-456-7890 或者 987.654.3210.\"\n",
    "# 正则表达式匹配电话号码\n",
    "pattern = r'(\\d{3})[-.](\\d{3})[-.](\\d{4})'\n",
    "# 替换格式：将电话号码格式化为 (XXX) XXX-XXXX\n",
    "formatted_text = re.sub(pattern, r'(\\1) \\2-\\3', text)\n",
    "print(formatted_text)"
   ]
  }
 ],
 "metadata": {
  "kernelspec": {
   "display_name": "base",
   "language": "python",
   "name": "python3"
  },
  "language_info": {
   "codemirror_mode": {
    "name": "ipython",
    "version": 3
   },
   "file_extension": ".py",
   "mimetype": "text/x-python",
   "name": "python",
   "nbconvert_exporter": "python",
   "pygments_lexer": "ipython3",
   "version": "3.12.3"
  }
 },
 "nbformat": 4,
 "nbformat_minor": 5
}
